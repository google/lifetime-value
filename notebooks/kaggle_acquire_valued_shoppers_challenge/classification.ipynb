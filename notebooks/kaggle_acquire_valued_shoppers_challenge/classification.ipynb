{
 "cells": [
  {
   "cell_type": "code",
   "execution_count": 1,
   "metadata": {
    "id": "znEK1MNRXqWY"
   },
   "outputs": [],
   "source": [
    "#@title Copyright 2019 The Lifetime Value Authors.\n",
    "# Licensed under the Apache License, Version 2.0 (the \"License\");\n",
    "# you may not use this file except in compliance with the License.\n",
    "# You may obtain a copy of the License at\n",
    "#\n",
    "#     https://www.apache.org/licenses/LICENSE-2.0\n",
    "#\n",
    "# Unless required by applicable law or agreed to in writing, software\n",
    "# distributed under the License is distributed on an \"AS IS\" BASIS,\n",
    "# WITHOUT WARRANTIES OR CONDITIONS OF ANY KIND, either express or implied.\n",
    "# See the License for the specific language governing permissions and\n",
    "# limitations under the License.\n",
    "# ============================================================================"
   ]
  },
  {
   "cell_type": "markdown",
   "metadata": {
    "id": "3oNqWmn530N-"
   },
   "source": [
    "# Churn Prediction for Kaggle Acquire Valued Customer Challenge"
   ]
  },
  {
   "cell_type": "markdown",
   "metadata": {
    "id": "XKydJ9qF4KVm"
   },
   "source": [
    "<table align=\"left\">\n",
    "  <td>\n",
    "    <a target=\"_blank\" href=\"https://colab.research.google.com/github/google/lifetime_value/blob/master/notebooks/kaggle_acquire_valued_shoppers_challenge/classification.ipynb\"><img src=\"https://www.tensorflow.org/images/colab_logo_32px.png\" />Run in Google Colab</a>\n",
    "  </td>\n",
    "  <td>\n",
    "    <a target=\"_blank\" href=\"https://github.com/google/lifetime_value/blob/master/notebooks/kaggle_acquire_valued_shoppers_challenge/classification.ipynb\"><img src=\"https://www.tensorflow.org/images/GitHub-Mark-32px.png\" />View source on GitHub</a>\n",
    "  </td>\n",
    "</table>"
   ]
  },
  {
   "cell_type": "code",
   "execution_count": 2,
   "metadata": {
    "id": "KObdQwyXH2mC"
   },
   "outputs": [
    {
     "name": "stderr",
     "output_type": "stream",
     "text": [
      "2024-12-01 18:52:31.160612: I tensorflow/core/util/port.cc:153] oneDNN custom operations are on. You may see slightly different numerical results due to floating-point round-off errors from different computation orders. To turn them off, set the environment variable `TF_ENABLE_ONEDNN_OPTS=0`.\n",
      "2024-12-01 18:52:31.176800: E external/local_xla/xla/stream_executor/cuda/cuda_fft.cc:477] Unable to register cuFFT factory: Attempting to register factory for plugin cuFFT when one has already been registered\n",
      "WARNING: All log messages before absl::InitializeLog() is called are written to STDERR\n",
      "E0000 00:00:1733079151.193958  155043 cuda_dnn.cc:8310] Unable to register cuDNN factory: Attempting to register factory for plugin cuDNN when one has already been registered\n",
      "E0000 00:00:1733079151.199118  155043 cuda_blas.cc:1418] Unable to register cuBLAS factory: Attempting to register factory for plugin cuBLAS when one has already been registered\n",
      "2024-12-01 18:52:31.217026: I tensorflow/core/platform/cpu_feature_guard.cc:210] This TensorFlow binary is optimized to use available CPU instructions in performance-critical operations.\n",
      "To enable the following instructions: AVX2 AVX512F AVX512_VNNI FMA, in other operations, rebuild TensorFlow with the appropriate compiler flags.\n"
     ]
    }
   ],
   "source": [
    "import os\n",
    "\n",
    "import numpy as np\n",
    "import pandas as pd\n",
    "import tqdm\n",
    "from sklearn import metrics\n",
    "from sklearn import model_selection\n",
    "from sklearn import preprocessing\n",
    "import tensorflow as tf\n",
    "from tensorflow import keras\n",
    "from tensorflow.keras import backend as K\n",
    "import tensorflow_probability as tfp\n",
    "from typing import Sequence\n",
    "\n",
    "# install and import ltv\n",
    "# !pip install -q git+https://github.com/google/lifetime_value\n",
    "import lifetime_value as ltv"
   ]
  },
  {
   "cell_type": "code",
   "execution_count": 3,
   "metadata": {
    "id": "K41RmAfNXtu_"
   },
   "outputs": [],
   "source": [
    "tfd = tfp.distributions\n",
    "pd.options.mode.chained_assignment = None  # default='warn'"
   ]
  },
  {
   "cell_type": "markdown",
   "metadata": {
    "id": "RzTaK6fFXMWT"
   },
   "source": [
    "## Global variables"
   ]
  },
  {
   "cell_type": "code",
   "execution_count": 4,
   "metadata": {
    "id": "VQVhF3fhNEr2"
   },
   "outputs": [],
   "source": [
    "COMPANY = '104900040'  # @param { isTemplate: true, type: 'string'}\n",
    "LOSS = 'ziln'  # @param { isTemplate: true, type: 'string'} ['bce', 'ziln']\n",
    "# LOSS = 'bce'  # @param { isTemplate: true, type: 'string'} ['bce', 'ziln']\n",
    "# MODEL = 'linear'  # @param { isTemplate: true, type: 'string'} ['linear', 'dnn']\n",
    "MODEL = 'dnn'  # @param { isTemplate: true, type: 'string'} ['linear', 'dnn']\n",
    "LEARNING_RATE = 0.0002  # @param { isTemplate: true}\n",
    "EPOCHS = 400  # @param {type: 'integer'}\n",
    "DATA_FOLDER = './tmp/acquire-valued-shoppers-challenge' # @param { isTemplate: true, type: 'string'}\n",
    "OUTPUT_CSV_FOLDER = f'{DATA_FOLDER}/result'  # @param { isTemplate: true, type: 'string'}"
   ]
  },
  {
   "cell_type": "code",
   "execution_count": 5,
   "metadata": {
    "id": "g7dg8TwYbxnl"
   },
   "outputs": [],
   "source": [
    "CATEGORICAL_FEATURES = ['chain', 'dept', 'category', 'brand', 'productmeasure']\n",
    "NUMERIC_FEATURES = ['log_calibration_value']\n",
    "\n",
    "ALL_FEATURES = CATEGORICAL_FEATURES + NUMERIC_FEATURES"
   ]
  },
  {
   "cell_type": "markdown",
   "metadata": {
    "id": "I_nbvZjMuj_z"
   },
   "source": [
    "## Data"
   ]
  },
  {
   "cell_type": "markdown",
   "metadata": {
    "id": "SFi0JMPu138h"
   },
   "source": [
    "### Download data"
   ]
  },
  {
   "cell_type": "markdown",
   "metadata": {
    "id": "krXMbrkVNtdN"
   },
   "source": [
    "Setup kaggle API correctly following https://www.kaggle.com/docs/api\n",
    "```\n",
    "%%shell\n",
    "mkdir ~/.kaggle\n",
    "echo \\{\\\"username\\\":\\\"{your kaggle username}\\\",\\\"key\\\":\\\"{your kaggle api key}\\\"\\} > ~/.kaggle/kaggle.json\n",
    "pip install kaggle\n",
    "```"
   ]
  },
  {
   "cell_type": "code",
   "execution_count": 6,
   "metadata": {},
   "outputs": [
    {
     "name": "stdout",
     "output_type": "stream",
     "text": [
      "env: DATA_FOLDER=./tmp/acquire-valued-shoppers-challenge\n"
     ]
    }
   ],
   "source": [
    "# Set it DATA_FOLDER as an environment variable\n",
    "%env DATA_FOLDER=$DATA_FOLDER"
   ]
  },
  {
   "cell_type": "code",
   "execution_count": 7,
   "metadata": {
    "id": "0gf4ipd-14x0"
   },
   "outputs": [
    {
     "name": "stdout",
     "output_type": "stream",
     "text": [
      "File already exists, no need to download.\n"
     ]
    }
   ],
   "source": [
    "%%bash\n",
    "if [ -e $DATA_FOLDER/transactions.csv ]\n",
    "then\n",
    "  echo \"File already exists, no need to download.\"\n",
    "else\n",
    "  rm -rf $DATA_FOLDER\n",
    "  mkdir -p $DATA_FOLDER\n",
    "  cd $DATA_FOLDER\n",
    "  kaggle competitions download -c acquire-valued-shoppers-challenge\n",
    "  echo \"Unzip file. This may take 10 min.\"\n",
    "  unzip acquire-valued-shoppers-challenge.zip transactions.csv.gz\n",
    "  gunzip transactions.csv.gz\n",
    "fi"
   ]
  },
  {
   "cell_type": "markdown",
   "metadata": {
    "id": "V4zoAS25uj_7"
   },
   "source": [
    "### Load transaction csv"
   ]
  },
  {
   "cell_type": "code",
   "execution_count": 8,
   "metadata": {
    "id": "5tIMvE3dW1Ky"
   },
   "outputs": [],
   "source": [
    "def load_transaction_data(company):\n",
    "  all_data_filename = f'{DATA_FOLDER}/transactions.csv'\n",
    "  one_company_data_filename = f'{DATA_FOLDER}/transactions_company_{company}.csv'\n",
    "  if os.path.isfile(one_company_data_filename):\n",
    "    df = pd.read_csv(one_company_data_filename)\n",
    "  else:\n",
    "    data_list = []\n",
    "    chunksize = 10**6\n",
    "    # 350 iterations\n",
    "    for chunk in tqdm.tqdm(pd.read_csv(all_data_filename, chunksize=chunksize)):\n",
    "      data_list.append(chunk.query(\"company=={}\".format(company)))\n",
    "    df = pd.concat(data_list, axis=0)\n",
    "    df.to_csv(one_company_data_filename, index=None)\n",
    "  return df"
   ]
  },
  {
   "cell_type": "markdown",
   "metadata": {
    "id": "9ra4bfwCVwKn"
   },
   "source": [
    "### Preprocess data"
   ]
  },
  {
   "cell_type": "code",
   "execution_count": 9,
   "metadata": {
    "id": "PlJl5g9Delmi"
   },
   "outputs": [],
   "source": [
    "def preprocess(df):\n",
    "  df = df.query('purchaseamount>0')\n",
    "  df['date'] = pd.to_datetime(df['date'], format='%Y-%m-%d')\n",
    "  df['start_date'] = df.groupby('id')['date'].transform('min')\n",
    "\n",
    "  # Compute calibration values\n",
    "  calibration_value = (\n",
    "      df.query('date==start_date').groupby('id')\n",
    "      ['purchaseamount'].sum().reset_index())\n",
    "  calibration_value.columns = ['id', 'calibration_value']\n",
    "\n",
    "  # Compute holdout values\n",
    "  one_year_holdout_window_mask = (\n",
    "      (df['date'] > df['start_date']) &\n",
    "      (df['date'] <= df['start_date'] + np.timedelta64(365, 'D')))\n",
    "  holdout_value = (\n",
    "      df[one_year_holdout_window_mask].groupby('id')\n",
    "      ['purchaseamount'].sum().reset_index())\n",
    "  holdout_value.columns = ['id', 'holdout_value']\n",
    "\n",
    "  # Compute calibration attributes\n",
    "  calibration_attributes = (\n",
    "      df.query('date==start_date').sort_values(\n",
    "          'purchaseamount', ascending=False).groupby('id')[[\n",
    "              'chain', 'dept', 'category', 'brand', 'productmeasure'\n",
    "          ]].first().reset_index())\n",
    "\n",
    "  # Merge dataframes\n",
    "  customer_level_data = (\n",
    "      calibration_value.merge(calibration_attributes, how='left',\n",
    "                              on='id').merge(\n",
    "                                  holdout_value, how='left', on='id'))\n",
    "  customer_level_data['holdout_value'] = (\n",
    "      customer_level_data['holdout_value'].fillna(0.))\n",
    "  customer_level_data[CATEGORICAL_FEATURES] = (\n",
    "      customer_level_data[CATEGORICAL_FEATURES].fillna('UNKNOWN'))\n",
    "\n",
    "  # Specify data types\n",
    "  customer_level_data['log_calibration_value'] = (\n",
    "      np.log(customer_level_data['calibration_value']).astype('float32'))\n",
    "  customer_level_data['chain'] = (\n",
    "      customer_level_data['chain'].astype('category'))\n",
    "  customer_level_data['dept'] = (customer_level_data['dept'].astype('category'))\n",
    "  customer_level_data['brand'] = (\n",
    "      customer_level_data['brand'].astype('category'))\n",
    "  customer_level_data['category'] = (\n",
    "      customer_level_data['category'].astype('category'))\n",
    "  customer_level_data['label'] = (\n",
    "      customer_level_data['holdout_value'].astype('float32'))\n",
    "  return customer_level_data"
   ]
  },
  {
   "cell_type": "markdown",
   "metadata": {
    "id": "fP3q6uuMoXhA"
   },
   "source": [
    "### Load customer-level csv"
   ]
  },
  {
   "cell_type": "code",
   "execution_count": 10,
   "metadata": {
    "id": "X8B4zV1xoeMX"
   },
   "outputs": [],
   "source": [
    "def load_customer_level_csv(company):\n",
    "  customer_level_data_file = f'{DATA_FOLDER}/customer_level_data_company_{company}.csv'\n",
    "  if os.path.isfile(customer_level_data_file):\n",
    "    customer_level_data = pd.read_csv(customer_level_data_file)\n",
    "  else:\n",
    "    customer_level_data = preprocess(load_transaction_data(company))\n",
    "  for cat_col in CATEGORICAL_FEATURES:\n",
    "    customer_level_data[cat_col] = (\n",
    "        customer_level_data[cat_col].astype('category'))\n",
    "  for num_col in [\n",
    "      'log_calibration_value', 'calibration_value', 'holdout_value'\n",
    "  ]:\n",
    "    customer_level_data[num_col] = (\n",
    "        customer_level_data[num_col].astype('float32'))\n",
    "\n",
    "  return customer_level_data"
   ]
  },
  {
   "cell_type": "code",
   "execution_count": 11,
   "metadata": {
    "id": "DWwMxpIEukAE"
   },
   "outputs": [],
   "source": [
    "# Processes data. 350 iteration in total. May take 10min.\n",
    "customer_level_data = load_customer_level_csv(COMPANY)"
   ]
  },
  {
   "cell_type": "markdown",
   "metadata": {
    "id": "09tqgvANtsil"
   },
   "source": [
    "We observe a mixture of zero and lognormal distribution of holdout value."
   ]
  },
  {
   "cell_type": "code",
   "execution_count": 12,
   "metadata": {
    "id": "BtF0z3VbmGev"
   },
   "outputs": [
    {
     "data": {
      "text/plain": [
       "<Axes: >"
      ]
     },
     "execution_count": 12,
     "metadata": {},
     "output_type": "execute_result"
    },
    {
     "data": {
      "image/png": "[encoded data removed]",
      "text/plain": [
       "<Figure size 640x480 with 1 Axes>"
      ]
     },
     "metadata": {},
     "output_type": "display_data"
    }
   ],
   "source": [
    "customer_level_data.label.apply(np.log1p).hist(bins=50)"
   ]
  },
  {
   "cell_type": "code",
   "execution_count": 13,
   "metadata": {
    "id": "wLpgjEuofbdy"
   },
   "outputs": [
    {
     "data": {
      "text/html": [
       "<div>\n",
       "<style scoped>\n",
       "    .dataframe tbody tr th:only-of-type {\n",
       "        vertical-align: middle;\n",
       "    }\n",
       "\n",
       "    .dataframe tbody tr th {\n",
       "        vertical-align: top;\n",
       "    }\n",
       "\n",
       "    .dataframe thead th {\n",
       "        text-align: right;\n",
       "    }\n",
       "</style>\n",
       "<table border=\"1\" class=\"dataframe\">\n",
       "  <thead>\n",
       "    <tr style=\"text-align: right;\">\n",
       "      <th></th>\n",
       "      <th>0</th>\n",
       "      <th>1</th>\n",
       "      <th>2</th>\n",
       "      <th>3</th>\n",
       "      <th>4</th>\n",
       "    </tr>\n",
       "  </thead>\n",
       "  <tbody>\n",
       "    <tr>\n",
       "      <th>id</th>\n",
       "      <td>86246</td>\n",
       "      <td>86252</td>\n",
       "      <td>12262064</td>\n",
       "      <td>12277270</td>\n",
       "      <td>12332190</td>\n",
       "    </tr>\n",
       "    <tr>\n",
       "      <th>calibration_value</th>\n",
       "      <td>11.58</td>\n",
       "      <td>0.99</td>\n",
       "      <td>1.72</td>\n",
       "      <td>4.49</td>\n",
       "      <td>1.49</td>\n",
       "    </tr>\n",
       "    <tr>\n",
       "      <th>chain</th>\n",
       "      <td>205</td>\n",
       "      <td>205</td>\n",
       "      <td>95</td>\n",
       "      <td>95</td>\n",
       "      <td>95</td>\n",
       "    </tr>\n",
       "    <tr>\n",
       "      <th>dept</th>\n",
       "      <td>36</td>\n",
       "      <td>21</td>\n",
       "      <td>21</td>\n",
       "      <td>36</td>\n",
       "      <td>36</td>\n",
       "    </tr>\n",
       "    <tr>\n",
       "      <th>category</th>\n",
       "      <td>3626</td>\n",
       "      <td>2105</td>\n",
       "      <td>2105</td>\n",
       "      <td>3601</td>\n",
       "      <td>3611</td>\n",
       "    </tr>\n",
       "    <tr>\n",
       "      <th>brand</th>\n",
       "      <td>17186</td>\n",
       "      <td>14357</td>\n",
       "      <td>14357</td>\n",
       "      <td>3809</td>\n",
       "      <td>4599</td>\n",
       "    </tr>\n",
       "    <tr>\n",
       "      <th>productmeasure</th>\n",
       "      <td>OZ</td>\n",
       "      <td>OZ</td>\n",
       "      <td>OZ</td>\n",
       "      <td>OZ</td>\n",
       "      <td>OZ</td>\n",
       "    </tr>\n",
       "    <tr>\n",
       "      <th>holdout_value</th>\n",
       "      <td>358.26001</td>\n",
       "      <td>336.649994</td>\n",
       "      <td>32.310001</td>\n",
       "      <td>186.75</td>\n",
       "      <td>53.610001</td>\n",
       "    </tr>\n",
       "    <tr>\n",
       "      <th>log_calibration_value</th>\n",
       "      <td>2.44928</td>\n",
       "      <td>-0.01005</td>\n",
       "      <td>0.542324</td>\n",
       "      <td>1.501853</td>\n",
       "      <td>0.398776</td>\n",
       "    </tr>\n",
       "    <tr>\n",
       "      <th>label</th>\n",
       "      <td>358.26</td>\n",
       "      <td>336.65</td>\n",
       "      <td>32.31</td>\n",
       "      <td>186.75</td>\n",
       "      <td>53.61</td>\n",
       "    </tr>\n",
       "  </tbody>\n",
       "</table>\n",
       "</div>"
      ],
      "text/plain": [
       "                               0           1          2         3          4\n",
       "id                         86246       86252   12262064  12277270   12332190\n",
       "calibration_value          11.58        0.99       1.72      4.49       1.49\n",
       "chain                        205         205         95        95         95\n",
       "dept                          36          21         21        36         36\n",
       "category                    3626        2105       2105      3601       3611\n",
       "brand                      17186       14357      14357      3809       4599\n",
       "productmeasure                OZ          OZ         OZ        OZ         OZ\n",
       "holdout_value          358.26001  336.649994  32.310001    186.75  53.610001\n",
       "log_calibration_value    2.44928    -0.01005   0.542324  1.501853   0.398776\n",
       "label                     358.26      336.65      32.31    186.75      53.61"
      ]
     },
     "execution_count": 13,
     "metadata": {},
     "output_type": "execute_result"
    }
   ],
   "source": [
    "customer_level_data.head().T"
   ]
  },
  {
   "cell_type": "markdown",
   "metadata": {
    "id": "slIDJAaTcQeK"
   },
   "source": [
    "## Data"
   ]
  },
  {
   "cell_type": "markdown",
   "metadata": {
    "id": "i4kN0uk4kZ68"
   },
   "source": [
    "### Make train/eval"
   ]
  },
  {
   "cell_type": "code",
   "execution_count": 14,
   "metadata": {
    "id": "JjP5v6NiQfCX"
   },
   "outputs": [],
   "source": [
    "def linear_split(df):\n",
    "  # get_dummies preserves numeric features.\n",
    "  x = pd.get_dummies(df[ALL_FEATURES], drop_first=True).astype('float32').values\n",
    "  y = df['label'].values\n",
    "\n",
    "  x_train, x_eval, y_train, y_eval = model_selection.train_test_split(\n",
    "      x, y, test_size=0.2, random_state=123)\n",
    "\n",
    "  return x_train, x_eval, y_train, y_eval"
   ]
  },
  {
   "cell_type": "code",
   "execution_count": 15,
   "metadata": {
    "id": "KtWXwORJjaP4"
   },
   "outputs": [],
   "source": [
    "def dnn_split(df):\n",
    "  for key in CATEGORICAL_FEATURES:\n",
    "    encoder = preprocessing.LabelEncoder()\n",
    "    df[key] = encoder.fit_transform(df[key])\n",
    "\n",
    "  df_train, df_eval = model_selection.train_test_split(\n",
    "      df, test_size=0.2, random_state=123)\n",
    "\n",
    "  def feature_dict(df):\n",
    "    features = {k: v.values for k, v in dict(df[CATEGORICAL_FEATURES]).items()}\n",
    "    features['numeric'] = df[NUMERIC_FEATURES].values\n",
    "    return features\n",
    "\n",
    "  x_train, y_train = feature_dict(df_train), df_train['label'].values\n",
    "  x_eval, y_eval = feature_dict(df_eval), df_eval['label'].values\n",
    "\n",
    "  return x_train, x_eval, y_train, y_eval"
   ]
  },
  {
   "cell_type": "markdown",
   "metadata": {
    "id": "lqbShWBzR4NE"
   },
   "source": [
    "## Model"
   ]
  },
  {
   "cell_type": "code",
   "execution_count": 16,
   "metadata": {
    "id": "Yh4Y4a89ooP3"
   },
   "outputs": [],
   "source": [
    "def linear_model(output_units, input_dim):\n",
    "  return tf.keras.Sequential([\n",
    "    tf.keras.layers.Input(shape=(input_dim,)),\n",
    "    tf.keras.layers.Dense(output_units, activation=None)\n",
    "  ])"
   ]
  },
  {
   "cell_type": "code",
   "execution_count": 17,
   "metadata": {
    "id": "W8yo3HLtrAE_"
   },
   "outputs": [],
   "source": [
    "def embedding_dim(x):\n",
    "  return int(x**.25) + 1\n",
    "\n",
    "\n",
    "def embedding_layer(vocab_size):\n",
    "  return tf.keras.Sequential([\n",
    "      tf.keras.layers.Embedding(\n",
    "          input_dim=vocab_size,\n",
    "          output_dim=embedding_dim(vocab_size)\n",
    "      ),\n",
    "      tf.keras.layers.Flatten(),\n",
    "  ])\n",
    "\n",
    "\n",
    "def dnn_model(output_units, df):\n",
    "  numeric_input = tf.keras.layers.Input(\n",
    "      shape=(len(NUMERIC_FEATURES),), name='numeric')\n",
    "\n",
    "  embedding_inputs = [\n",
    "      tf.keras.layers.Input(shape=(1,), name=key, dtype=np.int64)\n",
    "      for key in CATEGORICAL_FEATURES\n",
    "  ]\n",
    "\n",
    "  embedding_outputs = [\n",
    "      embedding_layer(vocab_size=df[key].nunique())(input)\n",
    "      for key, input in zip(CATEGORICAL_FEATURES, embedding_inputs)\n",
    "  ]\n",
    "\n",
    "  deep_input = tf.keras.layers.concatenate([numeric_input] + embedding_outputs)\n",
    "  deep_model = tf.keras.Sequential([\n",
    "      tf.keras.layers.Dense(64, activation='relu'),\n",
    "      tf.keras.layers.Dense(32, activation='relu'),\n",
    "      tf.keras.layers.Dense(output_units),\n",
    "  ])\n",
    "  return tf.keras.Model(\n",
    "      inputs=[numeric_input] + embedding_inputs, outputs=deep_model(deep_input))"
   ]
  },
  {
   "cell_type": "markdown",
   "metadata": {
    "id": "U8l-KzZ12fbK"
   },
   "source": [
    "### Train"
   ]
  },
  {
   "cell_type": "code",
   "execution_count": 18,
   "metadata": {
    "id": "45BHY6q7rQmI"
   },
   "outputs": [],
   "source": [
    "if LOSS == 'bce':\n",
    "  loss = keras.losses.BinaryCrossentropy(from_logits=True)\n",
    "  output_units = 1\n",
    "\n",
    "if LOSS == 'ziln':\n",
    "  loss = ltv.zero_inflated_lognormal_loss\n",
    "  output_units = 3"
   ]
  },
  {
   "cell_type": "code",
   "execution_count": 19,
   "metadata": {
    "id": "7Jeou8bGrhll"
   },
   "outputs": [
    {
     "name": "stderr",
     "output_type": "stream",
     "text": [
      "I0000 00:00:1733079154.112942  155043 gpu_device.cc:2022] Created device /job:localhost/replica:0/task:0/device:GPU:0 with 22006 MB memory:  -> device: 0, name: NVIDIA RTX A5000, pci bus id: 0000:73:00.0, compute capability: 8.6\n"
     ]
    }
   ],
   "source": [
    "if MODEL == 'linear':\n",
    "  x_train, x_eval, y_train, y_eval = linear_split(customer_level_data)\n",
    "  model = linear_model(output_units, x_train.shape[1])\n",
    "\n",
    "if MODEL == 'dnn':\n",
    "  x_train, x_eval, y_train, y_eval = dnn_split(customer_level_data)\n",
    "  model = dnn_model(output_units, customer_level_data)"
   ]
  },
  {
   "cell_type": "code",
   "execution_count": 20,
   "metadata": {
    "id": "uF2IdTpAwiZV"
   },
   "outputs": [],
   "source": [
    "if LOSS == 'bce':\n",
    "  y_train = (y_train > 0).astype('float32')\n",
    "  y_eval = (y_eval > 0).astype('float32')"
   ]
  },
  {
   "cell_type": "code",
   "execution_count": 21,
   "metadata": {
    "id": "_GQ-RlIAfT62"
   },
   "outputs": [],
   "source": [
    "model.compile(loss=loss, optimizer=keras.optimizers.Adam(learning_rate=LEARNING_RATE))"
   ]
  },
  {
   "cell_type": "code",
   "execution_count": 22,
   "metadata": {
    "id": "chEIOzq6rlJx"
   },
   "outputs": [],
   "source": [
    "callbacks = [\n",
    "    tf.keras.callbacks.ReduceLROnPlateau(monitor='val_loss', min_lr=1e-6),\n",
    "    tf.keras.callbacks.EarlyStopping(monitor='val_loss', patience=10),\n",
    "]"
   ]
  },
  {
   "cell_type": "code",
   "execution_count": 23,
   "metadata": {
    "id": "-BjnHV7MWhK1"
   },
   "outputs": [
    {
     "name": "stdout",
     "output_type": "stream",
     "text": [
      "Epoch 1/400\n"
     ]
    },
    {
     "name": "stderr",
     "output_type": "stream",
     "text": [
      "/home/reza/miniconda3/envs/clv-google/lib/python3.12/site-packages/keras/src/models/functional.py:225: UserWarning: The structure of `inputs` doesn't match the expected structure: ['numeric', 'chain', 'dept', 'category', 'brand', 'productmeasure']. Received: the structure of inputs={'chain': '*', 'dept': '*', 'category': '*', 'brand': '*', 'productmeasure': '*', 'numeric': '*'}\n",
      "  warnings.warn(\n",
      "WARNING: All log messages before absl::InitializeLog() is called are written to STDERR\n",
      "I0000 00:00:1733079156.604904  155197 service.cc:148] XLA service 0x717eac002cc0 initialized for platform CUDA (this does not guarantee that XLA will be used). Devices:\n",
      "I0000 00:00:1733079156.604948  155197 service.cc:156]   StreamExecutor device (0): NVIDIA RTX A5000, Compute Capability 8.6\n",
      "2024-12-01 18:52:36.656309: I tensorflow/compiler/mlir/tensorflow/utils/dump_mlir_util.cc:268] disabling MLIR crash reproducer, set env var `MLIR_CRASH_REPRODUCER_DIRECTORY` to enable.\n",
      "I0000 00:00:1733079156.831213  155197 cuda_dnn.cc:529] Loaded cuDNN version 90300\n",
      "2024-12-01 18:52:36.876486: W external/local_xla/xla/service/gpu/nvptx_compiler.cc:930] The NVIDIA driver's CUDA version is 12.4 which is older than the PTX compiler version 12.5.82. Because the driver is older than the PTX compiler version, XLA is disabling parallel compilation, which may slow down compilation. You should update your NVIDIA driver or use the NVIDIA-provided CUDA forward compatibility packages.\n",
      "2024-12-01 18:52:37.812708: I external/local_xla/xla/stream_executor/cuda/cuda_asm_compiler.cc:397] ptxas warning : Registers are spilled to local memory in function 'gemm_fusion_dot_1172', 188 bytes spill stores, 188 bytes spill loads\n",
      "\n",
      "2024-12-01 18:52:38.033936: I external/local_xla/xla/stream_executor/cuda/cuda_asm_compiler.cc:397] ptxas warning : Registers are spilled to local memory in function 'gemm_fusion_dot_1193', 28 bytes spill stores, 28 bytes spill loads\n",
      "\n",
      "2024-12-01 18:52:38.146828: I external/local_xla/xla/stream_executor/cuda/cuda_asm_compiler.cc:397] ptxas warning : Registers are spilled to local memory in function 'gemm_fusion_dot_1193', 464 bytes spill stores, 468 bytes spill loads\n",
      "\n",
      "I0000 00:00:1733079159.076693  155197 device_compiler.h:188] Compiled cluster using XLA!  This line is logged at most once for the lifetime of the process.\n",
      "2024-12-01 18:52:40.593273: I external/local_xla/xla/stream_executor/cuda/cuda_asm_compiler.cc:397] ptxas warning : Registers are spilled to local memory in function 'gemm_fusion_dot_1172', 320 bytes spill stores, 324 bytes spill loads\n",
      "\n",
      "2024-12-01 18:52:40.793952: I external/local_xla/xla/stream_executor/cuda/cuda_asm_compiler.cc:397] ptxas warning : Registers are spilled to local memory in function 'gemm_fusion_dot_1193', 148 bytes spill stores, 148 bytes spill loads\n",
      "\n",
      "2024-12-01 18:52:40.853248: I external/local_xla/xla/stream_executor/cuda/cuda_asm_compiler.cc:397] ptxas warning : Registers are spilled to local memory in function 'gemm_fusion_dot_1193', 588 bytes spill stores, 592 bytes spill loads\n",
      "\n"
     ]
    },
    {
     "name": "stdout",
     "output_type": "stream",
     "text": [
      "195/195 - 8s - 41ms/step - loss: 7.8400 - val_loss: 5.7656 - learning_rate: 2.0000e-04\n",
      "Epoch 2/400\n",
      "195/195 - 0s - 2ms/step - loss: 5.4064 - val_loss: 5.0180 - learning_rate: 2.0000e-04\n",
      "Epoch 3/400\n",
      "195/195 - 0s - 2ms/step - loss: 4.8408 - val_loss: 4.7202 - learning_rate: 2.0000e-04\n",
      "Epoch 4/400\n",
      "195/195 - 0s - 2ms/step - loss: 4.6824 - val_loss: 4.6786 - learning_rate: 2.0000e-04\n",
      "Epoch 5/400\n",
      "195/195 - 0s - 2ms/step - loss: 4.6611 - val_loss: 4.6665 - learning_rate: 2.0000e-04\n",
      "Epoch 6/400\n",
      "195/195 - 0s - 2ms/step - loss: 4.6531 - val_loss: 4.6622 - learning_rate: 2.0000e-04\n",
      "Epoch 7/400\n",
      "195/195 - 0s - 1ms/step - loss: 4.6499 - val_loss: 4.6595 - learning_rate: 2.0000e-04\n",
      "Epoch 8/400\n",
      "195/195 - 0s - 2ms/step - loss: 4.6479 - val_loss: 4.6582 - learning_rate: 2.0000e-04\n",
      "Epoch 9/400\n",
      "195/195 - 0s - 2ms/step - loss: 4.6465 - val_loss: 4.6569 - learning_rate: 2.0000e-04\n",
      "Epoch 10/400\n",
      "195/195 - 0s - 2ms/step - loss: 4.6454 - val_loss: 4.6560 - learning_rate: 2.0000e-04\n",
      "Epoch 11/400\n",
      "195/195 - 0s - 2ms/step - loss: 4.6446 - val_loss: 4.6554 - learning_rate: 2.0000e-04\n",
      "Epoch 12/400\n",
      "195/195 - 0s - 2ms/step - loss: 4.6441 - val_loss: 4.6551 - learning_rate: 2.0000e-04\n",
      "Epoch 13/400\n",
      "195/195 - 0s - 2ms/step - loss: 4.6436 - val_loss: 4.6546 - learning_rate: 2.0000e-04\n",
      "Epoch 14/400\n",
      "195/195 - 0s - 2ms/step - loss: 4.6433 - val_loss: 4.6543 - learning_rate: 2.0000e-04\n",
      "Epoch 15/400\n",
      "195/195 - 0s - 2ms/step - loss: 4.6430 - val_loss: 4.6540 - learning_rate: 2.0000e-04\n",
      "Epoch 16/400\n",
      "195/195 - 0s - 1ms/step - loss: 4.6427 - val_loss: 4.6538 - learning_rate: 2.0000e-04\n",
      "Epoch 17/400\n",
      "195/195 - 0s - 1ms/step - loss: 4.6426 - val_loss: 4.6540 - learning_rate: 2.0000e-04\n",
      "Epoch 18/400\n",
      "195/195 - 0s - 1ms/step - loss: 4.6424 - val_loss: 4.6534 - learning_rate: 2.0000e-04\n",
      "Epoch 19/400\n",
      "195/195 - 0s - 1ms/step - loss: 4.6422 - val_loss: 4.6533 - learning_rate: 2.0000e-04\n",
      "Epoch 20/400\n",
      "195/195 - 0s - 1ms/step - loss: 4.6421 - val_loss: 4.6531 - learning_rate: 2.0000e-04\n",
      "Epoch 21/400\n",
      "195/195 - 0s - 1ms/step - loss: 4.6420 - val_loss: 4.6539 - learning_rate: 2.0000e-04\n",
      "Epoch 22/400\n",
      "195/195 - 0s - 1ms/step - loss: 4.6419 - val_loss: 4.6529 - learning_rate: 2.0000e-04\n",
      "Epoch 23/400\n",
      "195/195 - 0s - 1ms/step - loss: 4.6417 - val_loss: 4.6528 - learning_rate: 2.0000e-04\n",
      "Epoch 24/400\n",
      "195/195 - 0s - 2ms/step - loss: 4.6417 - val_loss: 4.6529 - learning_rate: 2.0000e-04\n",
      "Epoch 25/400\n",
      "195/195 - 0s - 2ms/step - loss: 4.6415 - val_loss: 4.6529 - learning_rate: 2.0000e-04\n",
      "Epoch 26/400\n",
      "195/195 - 0s - 2ms/step - loss: 4.6414 - val_loss: 4.6533 - learning_rate: 2.0000e-04\n",
      "Epoch 27/400\n",
      "195/195 - 0s - 2ms/step - loss: 4.6414 - val_loss: 4.6527 - learning_rate: 2.0000e-04\n",
      "Epoch 28/400\n",
      "195/195 - 0s - 2ms/step - loss: 4.6413 - val_loss: 4.6528 - learning_rate: 2.0000e-04\n",
      "Epoch 29/400\n",
      "195/195 - 0s - 1ms/step - loss: 4.6413 - val_loss: 4.6525 - learning_rate: 2.0000e-04\n",
      "Epoch 30/400\n",
      "195/195 - 0s - 2ms/step - loss: 4.6412 - val_loss: 4.6524 - learning_rate: 2.0000e-04\n",
      "Epoch 31/400\n",
      "195/195 - 0s - 2ms/step - loss: 4.6411 - val_loss: 4.6526 - learning_rate: 2.0000e-04\n",
      "Epoch 32/400\n",
      "195/195 - 0s - 2ms/step - loss: 4.6412 - val_loss: 4.6523 - learning_rate: 2.0000e-04\n",
      "Epoch 33/400\n",
      "195/195 - 0s - 2ms/step - loss: 4.6409 - val_loss: 4.6529 - learning_rate: 2.0000e-04\n",
      "Epoch 34/400\n",
      "195/195 - 0s - 1ms/step - loss: 4.6411 - val_loss: 4.6530 - learning_rate: 2.0000e-04\n",
      "Epoch 35/400\n",
      "195/195 - 0s - 2ms/step - loss: 4.6408 - val_loss: 4.6532 - learning_rate: 2.0000e-04\n",
      "Epoch 36/400\n",
      "195/195 - 0s - 2ms/step - loss: 4.6409 - val_loss: 4.6522 - learning_rate: 2.0000e-04\n",
      "Epoch 37/400\n",
      "195/195 - 0s - 2ms/step - loss: 4.6408 - val_loss: 4.6524 - learning_rate: 2.0000e-04\n",
      "Epoch 38/400\n",
      "195/195 - 0s - 1ms/step - loss: 4.6405 - val_loss: 4.6527 - learning_rate: 2.0000e-04\n",
      "Epoch 39/400\n",
      "195/195 - 0s - 1ms/step - loss: 4.6407 - val_loss: 4.6521 - learning_rate: 2.0000e-04\n",
      "Epoch 40/400\n",
      "195/195 - 0s - 2ms/step - loss: 4.6406 - val_loss: 4.6526 - learning_rate: 2.0000e-04\n",
      "Epoch 41/400\n",
      "195/195 - 0s - 2ms/step - loss: 4.6405 - val_loss: 4.6525 - learning_rate: 2.0000e-04\n",
      "Epoch 42/400\n",
      "195/195 - 0s - 2ms/step - loss: 4.6404 - val_loss: 4.6519 - learning_rate: 2.0000e-04\n",
      "Epoch 43/400\n",
      "195/195 - 0s - 2ms/step - loss: 4.6404 - val_loss: 4.6522 - learning_rate: 2.0000e-04\n",
      "Epoch 44/400\n",
      "195/195 - 0s - 1ms/step - loss: 4.6402 - val_loss: 4.6526 - learning_rate: 2.0000e-04\n",
      "Epoch 45/400\n",
      "195/195 - 0s - 2ms/step - loss: 4.6403 - val_loss: 4.6520 - learning_rate: 2.0000e-04\n",
      "Epoch 46/400\n",
      "195/195 - 0s - 2ms/step - loss: 4.6403 - val_loss: 4.6525 - learning_rate: 2.0000e-04\n",
      "Epoch 47/400\n",
      "195/195 - 0s - 2ms/step - loss: 4.6402 - val_loss: 4.6519 - learning_rate: 2.0000e-04\n",
      "Epoch 48/400\n",
      "195/195 - 0s - 2ms/step - loss: 4.6402 - val_loss: 4.6517 - learning_rate: 2.0000e-04\n",
      "Epoch 49/400\n",
      "195/195 - 0s - 2ms/step - loss: 4.6399 - val_loss: 4.6515 - learning_rate: 2.0000e-04\n",
      "Epoch 50/400\n",
      "195/195 - 0s - 1ms/step - loss: 4.6400 - val_loss: 4.6522 - learning_rate: 2.0000e-04\n",
      "Epoch 51/400\n",
      "195/195 - 0s - 1ms/step - loss: 4.6398 - val_loss: 4.6519 - learning_rate: 2.0000e-04\n",
      "Epoch 52/400\n",
      "195/195 - 0s - 2ms/step - loss: 4.6400 - val_loss: 4.6529 - learning_rate: 2.0000e-04\n",
      "Epoch 53/400\n",
      "195/195 - 0s - 2ms/step - loss: 4.6398 - val_loss: 4.6521 - learning_rate: 2.0000e-04\n",
      "Epoch 54/400\n",
      "195/195 - 0s - 2ms/step - loss: 4.6400 - val_loss: 4.6515 - learning_rate: 2.0000e-04\n",
      "Epoch 55/400\n",
      "195/195 - 0s - 2ms/step - loss: 4.6398 - val_loss: 4.6521 - learning_rate: 2.0000e-04\n",
      "Epoch 56/400\n",
      "195/195 - 0s - 2ms/step - loss: 4.6397 - val_loss: 4.6513 - learning_rate: 2.0000e-04\n",
      "Epoch 57/400\n",
      "195/195 - 0s - 2ms/step - loss: 4.6396 - val_loss: 4.6527 - learning_rate: 2.0000e-04\n",
      "Epoch 58/400\n",
      "195/195 - 0s - 2ms/step - loss: 4.6398 - val_loss: 4.6515 - learning_rate: 2.0000e-04\n",
      "Epoch 59/400\n",
      "195/195 - 0s - 2ms/step - loss: 4.6396 - val_loss: 4.6515 - learning_rate: 2.0000e-04\n",
      "Epoch 60/400\n",
      "195/195 - 0s - 2ms/step - loss: 4.6396 - val_loss: 4.6515 - learning_rate: 2.0000e-04\n",
      "Epoch 61/400\n",
      "195/195 - 0s - 2ms/step - loss: 4.6396 - val_loss: 4.6529 - learning_rate: 2.0000e-04\n",
      "Epoch 62/400\n",
      "195/195 - 0s - 2ms/step - loss: 4.6397 - val_loss: 4.6515 - learning_rate: 2.0000e-04\n",
      "Epoch 63/400\n",
      "195/195 - 0s - 2ms/step - loss: 4.6395 - val_loss: 4.6517 - learning_rate: 2.0000e-04\n",
      "Epoch 64/400\n",
      "195/195 - 0s - 2ms/step - loss: 4.6396 - val_loss: 4.6512 - learning_rate: 2.0000e-04\n",
      "Epoch 65/400\n",
      "195/195 - 0s - 2ms/step - loss: 4.6395 - val_loss: 4.6513 - learning_rate: 2.0000e-04\n",
      "Epoch 66/400\n",
      "195/195 - 0s - 2ms/step - loss: 4.6396 - val_loss: 4.6519 - learning_rate: 2.0000e-04\n",
      "Epoch 67/400\n",
      "195/195 - 0s - 2ms/step - loss: 4.6389 - val_loss: 4.6511 - learning_rate: 2.0000e-05\n",
      "Epoch 68/400\n",
      "195/195 - 0s - 2ms/step - loss: 4.6389 - val_loss: 4.6510 - learning_rate: 2.0000e-05\n",
      "Epoch 69/400\n",
      "195/195 - 0s - 1ms/step - loss: 4.6389 - val_loss: 4.6510 - learning_rate: 2.0000e-05\n",
      "Epoch 70/400\n",
      "195/195 - 0s - 2ms/step - loss: 4.6389 - val_loss: 4.6510 - learning_rate: 2.0000e-05\n",
      "Epoch 71/400\n",
      "195/195 - 0s - 2ms/step - loss: 4.6388 - val_loss: 4.6511 - learning_rate: 2.0000e-05\n",
      "Epoch 72/400\n",
      "195/195 - 0s - 2ms/step - loss: 4.6388 - val_loss: 4.6511 - learning_rate: 2.0000e-05\n",
      "Epoch 73/400\n",
      "195/195 - 0s - 1ms/step - loss: 4.6388 - val_loss: 4.6510 - learning_rate: 2.0000e-05\n",
      "Epoch 74/400\n",
      "195/195 - 0s - 2ms/step - loss: 4.6388 - val_loss: 4.6511 - learning_rate: 2.0000e-05\n",
      "Epoch 75/400\n",
      "195/195 - 0s - 2ms/step - loss: 4.6389 - val_loss: 4.6511 - learning_rate: 2.0000e-05\n",
      "Epoch 76/400\n",
      "195/195 - 0s - 2ms/step - loss: 4.6388 - val_loss: 4.6511 - learning_rate: 2.0000e-05\n",
      "Epoch 77/400\n",
      "195/195 - 0s - 2ms/step - loss: 4.6388 - val_loss: 4.6511 - learning_rate: 2.0000e-05\n",
      "Epoch 78/400\n",
      "195/195 - 0s - 2ms/step - loss: 4.6388 - val_loss: 4.6510 - learning_rate: 2.0000e-06\n"
     ]
    }
   ],
   "source": [
    "history = model.fit(\n",
    "    x=x_train,\n",
    "    y=y_train[:, np.newaxis],\n",
    "    batch_size=1024,\n",
    "    epochs=EPOCHS,\n",
    "    verbose=2,\n",
    "    callbacks=callbacks,\n",
    "    validation_data=(x_eval, y_eval[:, np.newaxis])).history"
   ]
  },
  {
   "cell_type": "code",
   "execution_count": 24,
   "metadata": {
    "id": "mAJGs5SebDeN"
   },
   "outputs": [
    {
     "data": {
      "text/plain": [
       "<Axes: >"
      ]
     },
     "execution_count": 24,
     "metadata": {},
     "output_type": "execute_result"
    },
    {
     "data": {
      "image/png": "[encoded data removed]",
      "text/plain": [
       "<Figure size 640x480 with 1 Axes>"
      ]
     },
     "metadata": {},
     "output_type": "display_data"
    }
   ],
   "source": [
    "pd.DataFrame(history)[['loss', 'val_loss']][2:].plot()"
   ]
  },
  {
   "cell_type": "markdown",
   "metadata": {
    "id": "bHaiutmy2aYm"
   },
   "source": [
    "### Eval"
   ]
  },
  {
   "cell_type": "code",
   "execution_count": 25,
   "metadata": {
    "id": "l6E_5gYAYQMw"
   },
   "outputs": [
    {
     "name": "stderr",
     "output_type": "stream",
     "text": [
      "/home/reza/miniconda3/envs/clv-google/lib/python3.12/site-packages/keras/src/models/functional.py:225: UserWarning: The structure of `inputs` doesn't match the expected structure: ['numeric', 'chain', 'dept', 'category', 'brand', 'productmeasure']. Received: the structure of inputs={'chain': '*', 'dept': '*', 'category': '*', 'brand': '*', 'productmeasure': '*', 'numeric': '*'}\n",
      "  warnings.warn(\n"
     ]
    },
    {
     "name": "stdout",
     "output_type": "stream",
     "text": [
      "\u001b[1m49/49\u001b[0m \u001b[32m━━━━━━━━━━━━━━━━━━━━\u001b[0m\u001b[37m\u001b[0m \u001b[1m1s\u001b[0m 8ms/step\n"
     ]
    }
   ],
   "source": [
    "logits = model.predict(x=x_eval, batch_size=1024)\n",
    "y_pred = K.sigmoid(logits[..., :1]).numpy().flatten()"
   ]
  },
  {
   "cell_type": "code",
   "execution_count": 26,
   "metadata": {
    "id": "ICTDpg4rxdlj"
   },
   "outputs": [],
   "source": [
    "y_true = (y_eval > 0).astype('float32')"
   ]
  },
  {
   "cell_type": "code",
   "execution_count": 27,
   "metadata": {
    "id": "POeY1gdKTwfx"
   },
   "outputs": [],
   "source": [
    "def classification_report(y_true: Sequence[int],\n",
    "                          y_pred: Sequence[float]) -> pd.DataFrame:\n",
    "  \"\"\"Report individual level classification metrics.\n",
    "\n",
    "  Arguments:\n",
    "    y_true: true binary labels.\n",
    "    y_pred: predicted binary labels.\n",
    "\n",
    "  Returns:\n",
    "    out: dataframe with classification metrics as columns.\n",
    "  \"\"\"\n",
    "  out = pd.DataFrame(index=[0])\n",
    "\n",
    "  out['AUC'] = metrics.roc_auc_score(y_true, y_pred)\n",
    "  out['PR_AUC'] = metrics.average_precision_score(y_true, y_pred)\n",
    "  out['precision'] = metrics.precision_score(y_true, 1 * (y_pred > .5))\n",
    "  out['recall'] = metrics.recall_score(y_true, 1 * (y_pred > .5))\n",
    "  out['f1'] = metrics.f1_score(y_true, 1 * (y_pred > .5))\n",
    "  return out"
   ]
  },
  {
   "cell_type": "code",
   "execution_count": 28,
   "metadata": {
    "id": "vGcWU2vFaeT1"
   },
   "outputs": [
    {
     "data": {
      "text/html": [
       "<div>\n",
       "<style scoped>\n",
       "    .dataframe tbody tr th:only-of-type {\n",
       "        vertical-align: middle;\n",
       "    }\n",
       "\n",
       "    .dataframe tbody tr th {\n",
       "        vertical-align: top;\n",
       "    }\n",
       "\n",
       "    .dataframe thead th {\n",
       "        text-align: right;\n",
       "    }\n",
       "</style>\n",
       "<table border=\"1\" class=\"dataframe\">\n",
       "  <thead>\n",
       "    <tr style=\"text-align: right;\">\n",
       "      <th></th>\n",
       "      <th>AUC</th>\n",
       "      <th>PR_AUC</th>\n",
       "      <th>precision</th>\n",
       "      <th>recall</th>\n",
       "      <th>f1</th>\n",
       "    </tr>\n",
       "  </thead>\n",
       "  <tbody>\n",
       "    <tr>\n",
       "      <th>0</th>\n",
       "      <td>0.603492</td>\n",
       "      <td>0.884533</td>\n",
       "      <td>0.845063</td>\n",
       "      <td>0.999145</td>\n",
       "      <td>0.915667</td>\n",
       "    </tr>\n",
       "  </tbody>\n",
       "</table>\n",
       "</div>"
      ],
      "text/plain": [
       "        AUC    PR_AUC  precision    recall        f1\n",
       "0  0.603492  0.884533   0.845063  0.999145  0.915667"
      ]
     },
     "execution_count": 28,
     "metadata": {},
     "output_type": "execute_result"
    }
   ],
   "source": [
    "classification = classification_report(y_true, y_pred)\n",
    "classification"
   ]
  },
  {
   "cell_type": "markdown",
   "metadata": {
    "id": "-i_AbqhXcurk"
   },
   "source": [
    "### All metrics together"
   ]
  },
  {
   "cell_type": "code",
   "execution_count": 29,
   "metadata": {
    "id": "Umqg1-0Bc1HS"
   },
   "outputs": [],
   "source": [
    "df_metrics = pd.DataFrame(\n",
    "    {\n",
    "        'company': COMPANY,\n",
    "        'model': MODEL,\n",
    "        'loss': LOSS,\n",
    "        'label_mean': y_true.mean(),\n",
    "        'pred_mean': y_pred.mean(),\n",
    "        'AUC': classification.loc[0, 'AUC'],\n",
    "        'PR_AUC': classification.loc[0, 'PR_AUC'],\n",
    "        'precision': classification.loc[0, 'precision'],\n",
    "        'recall': classification.loc[0, 'recall'],\n",
    "        'f1': classification.loc[0, 'f1']\n",
    "    },\n",
    "    index=[0])"
   ]
  },
  {
   "cell_type": "code",
   "execution_count": 30,
   "metadata": {
    "id": "1LV1Hs3xcxnd"
   },
   "outputs": [
    {
     "data": {
      "text/html": [
       "<div>\n",
       "<style scoped>\n",
       "    .dataframe tbody tr th:only-of-type {\n",
       "        vertical-align: middle;\n",
       "    }\n",
       "\n",
       "    .dataframe tbody tr th {\n",
       "        vertical-align: top;\n",
       "    }\n",
       "\n",
       "    .dataframe thead th {\n",
       "        text-align: right;\n",
       "    }\n",
       "</style>\n",
       "<table border=\"1\" class=\"dataframe\">\n",
       "  <thead>\n",
       "    <tr style=\"text-align: right;\">\n",
       "      <th></th>\n",
       "      <th>company</th>\n",
       "      <th>model</th>\n",
       "      <th>loss</th>\n",
       "      <th>label_mean</th>\n",
       "      <th>pred_mean</th>\n",
       "      <th>AUC</th>\n",
       "      <th>PR_AUC</th>\n",
       "      <th>precision</th>\n",
       "      <th>recall</th>\n",
       "      <th>f1</th>\n",
       "    </tr>\n",
       "  </thead>\n",
       "  <tbody>\n",
       "    <tr>\n",
       "      <th>0</th>\n",
       "      <td>104900040</td>\n",
       "      <td>dnn</td>\n",
       "      <td>ziln</td>\n",
       "      <td>0.844395</td>\n",
       "      <td>0.842353</td>\n",
       "      <td>0.603492</td>\n",
       "      <td>0.884533</td>\n",
       "      <td>0.845063</td>\n",
       "      <td>0.999145</td>\n",
       "      <td>0.915667</td>\n",
       "    </tr>\n",
       "  </tbody>\n",
       "</table>\n",
       "</div>"
      ],
      "text/plain": [
       "     company model  loss  label_mean  pred_mean       AUC    PR_AUC  \\\n",
       "0  104900040   dnn  ziln    0.844395   0.842353  0.603492  0.884533   \n",
       "\n",
       "   precision    recall        f1  \n",
       "0   0.845063  0.999145  0.915667  "
      ]
     },
     "execution_count": 30,
     "metadata": {},
     "output_type": "execute_result"
    }
   ],
   "source": [
    "df_metrics[[\n",
    "    'company',\n",
    "    'model',\n",
    "    'loss',\n",
    "    'label_mean',\n",
    "    'pred_mean',\n",
    "    'AUC',\n",
    "    'PR_AUC',\n",
    "    'precision',\n",
    "    'recall',\n",
    "    'f1',\n",
    "]]"
   ]
  },
  {
   "cell_type": "markdown",
   "metadata": {
    "id": "UVy6lYn4mSrj"
   },
   "source": [
    "## Save"
   ]
  },
  {
   "cell_type": "code",
   "execution_count": 31,
   "metadata": {
    "id": "mtkQ4mqUEFsb"
   },
   "outputs": [],
   "source": [
    "output_path = os.path.join(OUTPUT_CSV_FOLDER, COMPANY)"
   ]
  },
  {
   "cell_type": "code",
   "execution_count": 32,
   "metadata": {
    "id": "3qmLzJqOEFsm"
   },
   "outputs": [],
   "source": [
    "if not os.path.isdir(output_path):\n",
    "  os.makedirs(output_path)"
   ]
  },
  {
   "cell_type": "code",
   "execution_count": 33,
   "metadata": {
    "id": "61B5Zc_UEFsr"
   },
   "outputs": [],
   "source": [
    "output_file = os.path.join(output_path,\n",
    "                           '{}_classification_{}.csv'.format(MODEL, LOSS))"
   ]
  },
  {
   "cell_type": "code",
   "execution_count": 34,
   "metadata": {
    "id": "gqglbXfwEFsv"
   },
   "outputs": [],
   "source": [
    "df_metrics.to_csv(output_file, index=False)"
   ]
  }
 ],
 "metadata": {
  "colab": {
   "collapsed_sections": [],
   "last_runtime": {
    "build_target": "",
    "kind": "local"
   },
   "name": "classification.ipynb",
   "provenance": [],
   "toc_visible": true
  },
  "kernelspec": {
   "display_name": "Python 3 (ipykernel)",
   "language": "python",
   "name": "python3"
  },
  "language_info": {
   "codemirror_mode": {
    "name": "ipython",
    "version": 3
   },
   "file_extension": ".py",
   "mimetype": "text/x-python",
   "name": "python",
   "nbconvert_exporter": "python",
   "pygments_lexer": "ipython3",
   "version": "3.12.7"
  }
 },
 "nbformat": 4,
 "nbformat_minor": 4
}
