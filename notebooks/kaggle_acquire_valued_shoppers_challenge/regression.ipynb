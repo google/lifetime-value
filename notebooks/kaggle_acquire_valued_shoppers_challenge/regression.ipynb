{
 "cells": [
  {
   "cell_type": "code",
   "execution_count": 1,
   "metadata": {
    "id": "5RoRxBv3bRjy"
   },
   "outputs": [],
   "source": [
    "#@title Copyright 2019 The Lifetime Value Authors.\n",
    "# Licensed under the Apache License, Version 2.0 (the \"License\");\n",
    "# you may not use this file except in compliance with the License.\n",
    "# You may obtain a copy of the License at\n",
    "#\n",
    "#     https://www.apache.org/licenses/LICENSE-2.0\n",
    "#\n",
    "# Unless required by applicable law or agreed to in writing, software\n",
    "# distributed under the License is distributed on an \"AS IS\" BASIS,\n",
    "# WITHOUT WARRANTIES OR CONDITIONS OF ANY KIND, either express or implied.\n",
    "# See the License for the specific language governing permissions and\n",
    "# limitations under the License.\n",
    "# ============================================================================"
   ]
  },
  {
   "cell_type": "markdown",
   "metadata": {
    "id": "2tkQUXmWhqRY"
   },
   "source": [
    "# Lifetime Value prediction for Kaggle Acquire Valued Customer Challenge"
   ]
  },
  {
   "cell_type": "markdown",
   "metadata": {
    "id": "Pw8bm9nV6YJ5"
   },
   "source": [
    "<table align=\"left\">\n",
    "  <td>\n",
    "    <a target=\"_blank\" href=\"https://colab.research.google.com/github/google/lifetime_value/blob/master/notebooks/kaggle_acquire_valued_shoppers_challenge/regression.ipynb\"><img src=\"https://www.tensorflow.org/images/colab_logo_32px.png\" />Run in Google Colab</a>\n",
    "  </td>\n",
    "  <td>\n",
    "    <a target=\"_blank\" href=\"https://github.com/google/lifetime_value/blob/master/notebooks/kaggle_acquire_valued_shoppers_challenge/regression.ipynb\"><img src=\"https://www.tensorflow.org/images/GitHub-Mark-32px.png\" />View source on GitHub</a>\n",
    "  </td>\n",
    "</table>"
   ]
  },
  {
   "cell_type": "code",
   "execution_count": 2,
   "metadata": {
    "id": "KObdQwyXH2mC"
   },
   "outputs": [
    {
     "name": "stderr",
     "output_type": "stream",
     "text": [
      "2024-12-01 16:37:01.196599: I tensorflow/core/util/port.cc:153] oneDNN custom operations are on. You may see slightly different numerical results due to floating-point round-off errors from different computation orders. To turn them off, set the environment variable `TF_ENABLE_ONEDNN_OPTS=0`.\n",
      "2024-12-01 16:37:01.211147: E external/local_xla/xla/stream_executor/cuda/cuda_fft.cc:477] Unable to register cuFFT factory: Attempting to register factory for plugin cuFFT when one has already been registered\n",
      "WARNING: All log messages before absl::InitializeLog() is called are written to STDERR\n",
      "E0000 00:00:1733071021.228796   68489 cuda_dnn.cc:8310] Unable to register cuDNN factory: Attempting to register factory for plugin cuDNN when one has already been registered\n",
      "E0000 00:00:1733071021.233969   68489 cuda_blas.cc:1418] Unable to register cuBLAS factory: Attempting to register factory for plugin cuBLAS when one has already been registered\n",
      "2024-12-01 16:37:01.251873: I tensorflow/core/platform/cpu_feature_guard.cc:210] This TensorFlow binary is optimized to use available CPU instructions in performance-critical operations.\n",
      "To enable the following instructions: AVX2 AVX512F AVX512_VNNI FMA, in other operations, rebuild TensorFlow with the appropriate compiler flags.\n"
     ]
    }
   ],
   "source": [
    "import os\n",
    "\n",
    "import numpy as np\n",
    "import pandas as pd\n",
    "from scipy import stats\n",
    "import seaborn as sns\n",
    "from sklearn import model_selection\n",
    "from sklearn import preprocessing\n",
    "import tensorflow as tf\n",
    "from tensorflow import keras\n",
    "from tensorflow.keras import backend as K\n",
    "import tensorflow_probability as tfp\n",
    "import tqdm\n",
    "from typing import Sequence\n",
    "\n",
    "# install and import ltv\n",
    "#!pip install -q git+https://github.com/google/lifetime_value\n",
    "import lifetime_value as ltv"
   ]
  },
  {
   "cell_type": "code",
   "execution_count": 3,
   "metadata": {
    "id": "K41RmAfNXtu_"
   },
   "outputs": [],
   "source": [
    "tfd = tfp.distributions\n",
    "%config InlineBackend.figure_format='retina'\n",
    "sns.set_style('whitegrid')\n",
    "pd.options.mode.chained_assignment = None  # default='warn'"
   ]
  },
  {
   "cell_type": "markdown",
   "metadata": {
    "id": "DoN-PRvNuIti"
   },
   "source": [
    "## Global variables"
   ]
  },
  {
   "cell_type": "code",
   "execution_count": 4,
   "metadata": {
    "id": "3GGpDbxd3S5L"
   },
   "outputs": [],
   "source": [
    "COMPANY = '103600030'  # @param { isTemplate: true, type: 'string'}\n",
    "LOSS = 'ziln'  # @param { isTemplate: true, type: 'string'} ['mse', 'ziln']\n",
    "#LOSS = 'mse'  # @param { isTemplate: true, type: 'string'} ['mse', 'ziln']\n",
    "MODEL = 'dnn'  # @param { isTemplate: true, type: 'string'} ['linear', 'dnn']\n",
    "# MODEL = 'linear'  # @param { isTemplate: true, type: 'string'} ['linear', 'dnn']\n",
    "LEARNING_RATE = 0.0002  # @param { isTemplate: true}\n",
    "EPOCHS = 400  # @param { isTemplate: true, type: 'integer'}\n",
    "DATA_FOLDER = './tmp/acquire-valued-shoppers-challenge' # @param { isTemplate: true, type: 'string'}\n",
    "OUTPUT_CSV_FOLDER = f'{DATA_FOLDER}/result'  # @param { isTemplate: true, type: 'string'}"
   ]
  },
  {
   "cell_type": "code",
   "execution_count": 5,
   "metadata": {
    "id": "UK9Y5NoMtm3X"
   },
   "outputs": [],
   "source": [
    "CATEGORICAL_FEATURES = ['chain', 'dept', 'category', 'brand', 'productmeasure']\n",
    "NUMERIC_FEATURES = ['log_calibration_value']\n",
    "\n",
    "ALL_FEATURES = CATEGORICAL_FEATURES + NUMERIC_FEATURES"
   ]
  },
  {
   "cell_type": "markdown",
   "metadata": {
    "id": "RzTaK6fFXMWT"
   },
   "source": [
    "## Data"
   ]
  },
  {
   "cell_type": "markdown",
   "metadata": {
    "id": "SFi0JMPu138h"
   },
   "source": [
    "### Download data"
   ]
  },
  {
   "cell_type": "markdown",
   "metadata": {
    "id": "krXMbrkVNtdN"
   },
   "source": [
    "Setup kaggle API correctly following https://www.kaggle.com/docs/api\n",
    "```\n",
    "%%shell\n",
    "mkdir ~/.kaggle\n",
    "echo \\{\\\"username\\\":\\\"{your kaggle username}\\\",\\\"key\\\":\\\"{your kaggle api key}\\\"\\} > ~/.kaggle/kaggle.json\n",
    "pip install kaggle\n",
    "```"
   ]
  },
  {
   "cell_type": "code",
   "execution_count": 6,
   "metadata": {},
   "outputs": [
    {
     "name": "stdout",
     "output_type": "stream",
     "text": [
      "env: DATA_FOLDER=./tmp/acquire-valued-shoppers-challenge\n"
     ]
    }
   ],
   "source": [
    "# Set it DATA_FOLDER as an environment variable\n",
    "%env DATA_FOLDER=$DATA_FOLDER"
   ]
  },
  {
   "cell_type": "code",
   "execution_count": 7,
   "metadata": {
    "id": "0gf4ipd-14x0"
   },
   "outputs": [
    {
     "name": "stdout",
     "output_type": "stream",
     "text": [
      "File already exists, no need to download.\n"
     ]
    }
   ],
   "source": [
    "%%bash\n",
    "if [ -e $DATA_FOLDER/transactions.csv ]\n",
    "then\n",
    "  echo \"File already exists, no need to download.\"\n",
    "else\n",
    "  rm -rf $DATA_FOLDER\n",
    "  mkdir -p $DATA_FOLDER\n",
    "  cd $DATA_FOLDER\n",
    "  kaggle competitions download -c acquire-valued-shoppers-challenge\n",
    "  echo \"Unzip file. This may take 10 min.\"\n",
    "  unzip acquire-valued-shoppers-challenge.zip transactions.csv.gz\n",
    "  gunzip transactions.csv.gz\n",
    "fi"
   ]
  },
  {
   "cell_type": "markdown",
   "metadata": {
    "id": "IT53azGsa2a2"
   },
   "source": [
    "### Load transaction csv"
   ]
  },
  {
   "cell_type": "code",
   "execution_count": 8,
   "metadata": {
    "id": "5tIMvE3dW1Ky"
   },
   "outputs": [],
   "source": [
    "def load_transaction_data(company):\n",
    "  all_data_filename = f'{DATA_FOLDER}/transactions.csv'\n",
    "  one_company_data_filename = f'{DATA_FOLDER}/transactions_company_{company}.csv'\n",
    "  if os.path.isfile(one_company_data_filename):\n",
    "    df = pd.read_csv(one_company_data_filename)\n",
    "  else:\n",
    "    data_list = []\n",
    "    chunksize = 10**6\n",
    "    # 350 iterations\n",
    "    for chunk in tqdm.tqdm(pd.read_csv(all_data_filename, chunksize=chunksize)):\n",
    "      data_list.append(chunk.query(\"company=={}\".format(company)))\n",
    "    df = pd.concat(data_list, axis=0)\n",
    "    df.to_csv(one_company_data_filename, index=None)\n",
    "  return df"
   ]
  },
  {
   "cell_type": "markdown",
   "metadata": {
    "id": "9ra4bfwCVwKn"
   },
   "source": [
    "### Preprocess data"
   ]
  },
  {
   "cell_type": "code",
   "execution_count": 9,
   "metadata": {
    "id": "PlJl5g9Delmi"
   },
   "outputs": [],
   "source": [
    "def preprocess(df):\n",
    "  df = df.query('purchaseamount>0')\n",
    "  df['date'] = pd.to_datetime(df['date'], format='%Y-%m-%d')\n",
    "  df['start_date'] = df.groupby('id')['date'].transform('min')\n",
    "\n",
    "  # Compute calibration values\n",
    "  calibration_value = (\n",
    "      df.query('date==start_date').groupby('id')\n",
    "      ['purchaseamount'].sum().reset_index())\n",
    "  calibration_value.columns = ['id', 'calibration_value']\n",
    "\n",
    "  # Compute holdout values\n",
    "  one_year_holdout_window_mask = (\n",
    "      (df['date'] > df['start_date']) &\n",
    "      (df['date'] <= df['start_date'] + np.timedelta64(365, 'D')))\n",
    "  holdout_value = (\n",
    "      df[one_year_holdout_window_mask].groupby('id')\n",
    "      ['purchaseamount'].sum().reset_index())\n",
    "  holdout_value.columns = ['id', 'holdout_value']\n",
    "\n",
    "  # Compute calibration attributes\n",
    "  calibration_attributes = (\n",
    "      df.query('date==start_date').sort_values(\n",
    "          'purchaseamount', ascending=False).groupby('id')[[\n",
    "              'chain', 'dept', 'category', 'brand', 'productmeasure'\n",
    "          ]].first().reset_index())\n",
    "\n",
    "  # Merge dataframes\n",
    "  customer_level_data = (\n",
    "      calibration_value.merge(calibration_attributes, how='left',\n",
    "                              on='id').merge(\n",
    "                                  holdout_value, how='left', on='id'))\n",
    "  customer_level_data['holdout_value'] = (\n",
    "      customer_level_data['holdout_value'].fillna(0.))\n",
    "  customer_level_data[CATEGORICAL_FEATURES] = (\n",
    "      customer_level_data[CATEGORICAL_FEATURES].fillna('UNKNOWN'))\n",
    "\n",
    "  # Specify data types\n",
    "  customer_level_data['log_calibration_value'] = (\n",
    "      np.log(customer_level_data['calibration_value']).astype('float32'))\n",
    "  customer_level_data['chain'] = (\n",
    "      customer_level_data['chain'].astype('category'))\n",
    "  customer_level_data['dept'] = (customer_level_data['dept'].astype('category'))\n",
    "  customer_level_data['brand'] = (\n",
    "      customer_level_data['brand'].astype('category'))\n",
    "  customer_level_data['category'] = (\n",
    "      customer_level_data['category'].astype('category'))\n",
    "  customer_level_data['label'] = (\n",
    "      customer_level_data['holdout_value'].astype('float32'))\n",
    "  return customer_level_data"
   ]
  },
  {
   "cell_type": "markdown",
   "metadata": {
    "id": "fP3q6uuMoXhA"
   },
   "source": [
    "### Load customer-level csv"
   ]
  },
  {
   "cell_type": "code",
   "execution_count": 10,
   "metadata": {
    "id": "X8B4zV1xoeMX"
   },
   "outputs": [],
   "source": [
    "def load_customer_level_csv(company):\n",
    "  customer_level_data_file = f'{DATA_FOLDER}/customer_level_data_company_{company}.csv'\n",
    "  if os.path.isfile(customer_level_data_file):\n",
    "    customer_level_data = pd.read_csv(customer_level_data_file)\n",
    "  else:\n",
    "    customer_level_data = preprocess(load_transaction_data(company))\n",
    "  for cat_col in CATEGORICAL_FEATURES:\n",
    "    customer_level_data[cat_col] = (\n",
    "        customer_level_data[cat_col].astype('category'))\n",
    "  for num_col in [\n",
    "      'log_calibration_value', 'calibration_value', 'holdout_value'\n",
    "  ]:\n",
    "    customer_level_data[num_col] = (\n",
    "        customer_level_data[num_col].astype('float32'))\n",
    "\n",
    "  return customer_level_data"
   ]
  },
  {
   "cell_type": "code",
   "execution_count": 11,
   "metadata": {
    "id": "88dVPdt5QWpu"
   },
   "outputs": [],
   "source": [
    "# Processes data. 350 iteration in total. May take 10min.\n",
    "customer_level_data = load_customer_level_csv(COMPANY)"
   ]
  },
  {
   "cell_type": "code",
   "execution_count": 12,
   "metadata": {},
   "outputs": [
    {
     "data": {
      "text/html": [
       "<div>\n",
       "<style scoped>\n",
       "    .dataframe tbody tr th:only-of-type {\n",
       "        vertical-align: middle;\n",
       "    }\n",
       "\n",
       "    .dataframe tbody tr th {\n",
       "        vertical-align: top;\n",
       "    }\n",
       "\n",
       "    .dataframe thead th {\n",
       "        text-align: right;\n",
       "    }\n",
       "</style>\n",
       "<table border=\"1\" class=\"dataframe\">\n",
       "  <thead>\n",
       "    <tr style=\"text-align: right;\">\n",
       "      <th></th>\n",
       "      <th>id</th>\n",
       "      <th>calibration_value</th>\n",
       "      <th>chain</th>\n",
       "      <th>dept</th>\n",
       "      <th>category</th>\n",
       "      <th>brand</th>\n",
       "      <th>productmeasure</th>\n",
       "      <th>holdout_value</th>\n",
       "      <th>log_calibration_value</th>\n",
       "      <th>label</th>\n",
       "    </tr>\n",
       "  </thead>\n",
       "  <tbody>\n",
       "    <tr>\n",
       "      <th>0</th>\n",
       "      <td>86246</td>\n",
       "      <td>4.98</td>\n",
       "      <td>205</td>\n",
       "      <td>26</td>\n",
       "      <td>2630</td>\n",
       "      <td>9787</td>\n",
       "      <td>CT</td>\n",
       "      <td>173.000000</td>\n",
       "      <td>1.605430</td>\n",
       "      <td>173.00</td>\n",
       "    </tr>\n",
       "    <tr>\n",
       "      <th>1</th>\n",
       "      <td>86252</td>\n",
       "      <td>6.84</td>\n",
       "      <td>205</td>\n",
       "      <td>26</td>\n",
       "      <td>2614</td>\n",
       "      <td>9878</td>\n",
       "      <td>CT</td>\n",
       "      <td>167.100006</td>\n",
       "      <td>1.922788</td>\n",
       "      <td>167.10</td>\n",
       "    </tr>\n",
       "    <tr>\n",
       "      <th>2</th>\n",
       "      <td>12262064</td>\n",
       "      <td>3.99</td>\n",
       "      <td>95</td>\n",
       "      <td>26</td>\n",
       "      <td>2614</td>\n",
       "      <td>9878</td>\n",
       "      <td>CT</td>\n",
       "      <td>2.490000</td>\n",
       "      <td>1.383791</td>\n",
       "      <td>2.49</td>\n",
       "    </tr>\n",
       "    <tr>\n",
       "      <th>3</th>\n",
       "      <td>12277270</td>\n",
       "      <td>1.99</td>\n",
       "      <td>95</td>\n",
       "      <td>26</td>\n",
       "      <td>2630</td>\n",
       "      <td>9787</td>\n",
       "      <td>CT</td>\n",
       "      <td>3.990000</td>\n",
       "      <td>0.688135</td>\n",
       "      <td>3.99</td>\n",
       "    </tr>\n",
       "    <tr>\n",
       "      <th>4</th>\n",
       "      <td>12332190</td>\n",
       "      <td>7.99</td>\n",
       "      <td>95</td>\n",
       "      <td>26</td>\n",
       "      <td>2634</td>\n",
       "      <td>4139</td>\n",
       "      <td>RL</td>\n",
       "      <td>96.360001</td>\n",
       "      <td>2.078191</td>\n",
       "      <td>96.36</td>\n",
       "    </tr>\n",
       "    <tr>\n",
       "      <th>...</th>\n",
       "      <td>...</td>\n",
       "      <td>...</td>\n",
       "      <td>...</td>\n",
       "      <td>...</td>\n",
       "      <td>...</td>\n",
       "      <td>...</td>\n",
       "      <td>...</td>\n",
       "      <td>...</td>\n",
       "      <td>...</td>\n",
       "      <td>...</td>\n",
       "    </tr>\n",
       "    <tr>\n",
       "      <th>225177</th>\n",
       "      <td>4821651378</td>\n",
       "      <td>6.99</td>\n",
       "      <td>46</td>\n",
       "      <td>26</td>\n",
       "      <td>2634</td>\n",
       "      <td>4139</td>\n",
       "      <td>RL</td>\n",
       "      <td>0.000000</td>\n",
       "      <td>1.944481</td>\n",
       "      <td>0.00</td>\n",
       "    </tr>\n",
       "    <tr>\n",
       "      <th>225178</th>\n",
       "      <td>4821703398</td>\n",
       "      <td>4.98</td>\n",
       "      <td>46</td>\n",
       "      <td>26</td>\n",
       "      <td>2634</td>\n",
       "      <td>4139</td>\n",
       "      <td>RL</td>\n",
       "      <td>0.000000</td>\n",
       "      <td>1.605430</td>\n",
       "      <td>0.00</td>\n",
       "    </tr>\n",
       "    <tr>\n",
       "      <th>225179</th>\n",
       "      <td>4836226081</td>\n",
       "      <td>24.99</td>\n",
       "      <td>46</td>\n",
       "      <td>26</td>\n",
       "      <td>2613</td>\n",
       "      <td>8583</td>\n",
       "      <td>CT</td>\n",
       "      <td>0.000000</td>\n",
       "      <td>3.218476</td>\n",
       "      <td>0.00</td>\n",
       "    </tr>\n",
       "    <tr>\n",
       "      <th>225180</th>\n",
       "      <td>4847628950</td>\n",
       "      <td>5.99</td>\n",
       "      <td>166</td>\n",
       "      <td>26</td>\n",
       "      <td>2632</td>\n",
       "      <td>8583</td>\n",
       "      <td>CT</td>\n",
       "      <td>3.490000</td>\n",
       "      <td>1.790091</td>\n",
       "      <td>3.49</td>\n",
       "    </tr>\n",
       "    <tr>\n",
       "      <th>225181</th>\n",
       "      <td>4847787712</td>\n",
       "      <td>6.49</td>\n",
       "      <td>46</td>\n",
       "      <td>26</td>\n",
       "      <td>2634</td>\n",
       "      <td>4139</td>\n",
       "      <td>RL</td>\n",
       "      <td>0.000000</td>\n",
       "      <td>1.870263</td>\n",
       "      <td>0.00</td>\n",
       "    </tr>\n",
       "  </tbody>\n",
       "</table>\n",
       "<p>225182 rows × 10 columns</p>\n",
       "</div>"
      ],
      "text/plain": [
       "                id  calibration_value chain dept category brand  \\\n",
       "0            86246               4.98   205   26     2630  9787   \n",
       "1            86252               6.84   205   26     2614  9878   \n",
       "2         12262064               3.99    95   26     2614  9878   \n",
       "3         12277270               1.99    95   26     2630  9787   \n",
       "4         12332190               7.99    95   26     2634  4139   \n",
       "...            ...                ...   ...  ...      ...   ...   \n",
       "225177  4821651378               6.99    46   26     2634  4139   \n",
       "225178  4821703398               4.98    46   26     2634  4139   \n",
       "225179  4836226081              24.99    46   26     2613  8583   \n",
       "225180  4847628950               5.99   166   26     2632  8583   \n",
       "225181  4847787712               6.49    46   26     2634  4139   \n",
       "\n",
       "       productmeasure  holdout_value  log_calibration_value   label  \n",
       "0                  CT     173.000000               1.605430  173.00  \n",
       "1                  CT     167.100006               1.922788  167.10  \n",
       "2                  CT       2.490000               1.383791    2.49  \n",
       "3                  CT       3.990000               0.688135    3.99  \n",
       "4                  RL      96.360001               2.078191   96.36  \n",
       "...               ...            ...                    ...     ...  \n",
       "225177             RL       0.000000               1.944481    0.00  \n",
       "225178             RL       0.000000               1.605430    0.00  \n",
       "225179             CT       0.000000               3.218476    0.00  \n",
       "225180             CT       3.490000               1.790091    3.49  \n",
       "225181             RL       0.000000               1.870263    0.00  \n",
       "\n",
       "[225182 rows x 10 columns]"
      ]
     },
     "execution_count": 12,
     "metadata": {},
     "output_type": "execute_result"
    }
   ],
   "source": [
    "customer_level_data"
   ]
  },
  {
   "cell_type": "markdown",
   "metadata": {
    "id": "09tqgvANtsil"
   },
   "source": [
    "We observe a mixture of zero and lognormal distribution of holdout value."
   ]
  },
  {
   "cell_type": "code",
   "execution_count": 13,
   "metadata": {
    "id": "BtF0z3VbmGev"
   },
   "outputs": [
    {
     "data": {
      "text/plain": [
       "<Axes: >"
      ]
     },
     "execution_count": 13,
     "metadata": {},
     "output_type": "execute_result"
    },
    {
     "data": {
      "image/png": "[encoded data removed]",
      "text/plain": [
       "<Figure size 640x480 with 1 Axes>"
      ]
     },
     "metadata": {
      "image/png": {
       "height": 413,
       "width": 570
      }
     },
     "output_type": "display_data"
    }
   ],
   "source": [
    "customer_level_data.label.apply(np.log1p).hist(bins=50)"
   ]
  },
  {
   "cell_type": "markdown",
   "metadata": {
    "id": "i4kN0uk4kZ68"
   },
   "source": [
    "### Make train/eval"
   ]
  },
  {
   "cell_type": "code",
   "execution_count": 14,
   "metadata": {
    "id": "nc0MLKx2yD72"
   },
   "outputs": [],
   "source": [
    "def linear_split(df):\n",
    "  # get_dummies preserves numeric features.\n",
    "  x = pd.get_dummies(df[ALL_FEATURES], drop_first=True).astype('float32').values\n",
    "  y = df['label'].values\n",
    "  y0 = df['calibration_value'].values\n",
    "\n",
    "  x_train, x_eval, y_train, y_eval, y0_train, y0_eval = (\n",
    "      model_selection.train_test_split(\n",
    "          x, y, y0, test_size=0.2, random_state=123))\n",
    "\n",
    "  return x_train, x_eval, y_train, y_eval, y0_eval"
   ]
  },
  {
   "cell_type": "code",
   "execution_count": 15,
   "metadata": {
    "id": "eAGbXp9ax042"
   },
   "outputs": [],
   "source": [
    "def dnn_split(df):\n",
    "  for key in CATEGORICAL_FEATURES:\n",
    "    encoder = preprocessing.LabelEncoder()\n",
    "    df[key] = encoder.fit_transform(df[key])\n",
    "\n",
    "  y0 = df['calibration_value'].values\n",
    "  df_train, df_eval, y0_train, y0_eval = model_selection.train_test_split(\n",
    "      df, y0, test_size=0.2, random_state=123)\n",
    "\n",
    "  def feature_dict(df):\n",
    "    features = {k: v.values for k, v in dict(df[CATEGORICAL_FEATURES]).items()}\n",
    "    features['numeric'] = df[NUMERIC_FEATURES].values\n",
    "    return features\n",
    "\n",
    "  x_train, y_train = feature_dict(df_train), df_train['label'].values\n",
    "  x_eval, y_eval = feature_dict(df_eval), df_eval['label'].values\n",
    "\n",
    "  return x_train, x_eval, y_train, y_eval, y0_eval"
   ]
  },
  {
   "cell_type": "markdown",
   "metadata": {
    "id": "lqbShWBzR4NE"
   },
   "source": [
    "## Model"
   ]
  },
  {
   "cell_type": "code",
   "execution_count": 16,
   "metadata": {},
   "outputs": [],
   "source": [
    "def linear_model(output_units, input_dim):\n",
    "  return tf.keras.Sequential([\n",
    "    tf.keras.layers.Input(shape=(input_dim,)),\n",
    "    tf.keras.layers.Dense(output_units, activation=None)\n",
    "  ])"
   ]
  },
  {
   "cell_type": "code",
   "execution_count": 17,
   "metadata": {
    "id": "Q7huREFbR7Dl"
   },
   "outputs": [],
   "source": [
    "def embedding_dim(x):\n",
    "  return int(x**.25) + 1\n",
    "\n",
    "\n",
    "def embedding_layer(vocab_size):\n",
    "  return tf.keras.Sequential([\n",
    "      tf.keras.layers.Embedding(\n",
    "          input_dim=vocab_size,\n",
    "          output_dim=embedding_dim(vocab_size)\n",
    "      ),\n",
    "      tf.keras.layers.Flatten(),\n",
    "  ])\n",
    "\n",
    "\n",
    "def dnn_model(output_units, df):\n",
    "  numeric_input = tf.keras.layers.Input(\n",
    "      shape=(len(NUMERIC_FEATURES),), name='numeric')\n",
    "\n",
    "  embedding_inputs = [\n",
    "      tf.keras.layers.Input(shape=(1,), name=key, dtype=np.int64)\n",
    "      for key in CATEGORICAL_FEATURES\n",
    "  ]\n",
    "\n",
    "  embedding_outputs = [\n",
    "      embedding_layer(vocab_size=df[key].nunique())(input)\n",
    "      for key, input in zip(CATEGORICAL_FEATURES, embedding_inputs)\n",
    "  ]\n",
    "\n",
    "  deep_input = tf.keras.layers.concatenate([numeric_input] + embedding_outputs)\n",
    "  deep_model = tf.keras.Sequential([\n",
    "      tf.keras.layers.Dense(64, activation='relu'),\n",
    "      tf.keras.layers.Dense(32, activation='relu'),\n",
    "      tf.keras.layers.Dense(output_units),\n",
    "  ])\n",
    "  return tf.keras.Model(\n",
    "      inputs=[numeric_input] + embedding_inputs, outputs=deep_model(deep_input))"
   ]
  },
  {
   "cell_type": "markdown",
   "metadata": {
    "id": "U8l-KzZ12fbK"
   },
   "source": [
    "### Train"
   ]
  },
  {
   "cell_type": "code",
   "execution_count": 18,
   "metadata": {
    "id": "L3HzXsj61uy3"
   },
   "outputs": [],
   "source": [
    "if LOSS == 'mse':\n",
    "  loss = keras.losses.MeanSquaredError()\n",
    "  output_units = 1\n",
    "\n",
    "if LOSS == 'ziln':\n",
    "  loss = ltv.zero_inflated_lognormal_loss\n",
    "  output_units = 3"
   ]
  },
  {
   "cell_type": "code",
   "execution_count": 19,
   "metadata": {
    "id": "0pNM4q5m19Dv"
   },
   "outputs": [
    {
     "name": "stderr",
     "output_type": "stream",
     "text": [
      "I0000 00:00:1733071024.251388   68489 gpu_device.cc:2022] Created device /job:localhost/replica:0/task:0/device:GPU:0 with 21987 MB memory:  -> device: 0, name: NVIDIA RTX A5000, pci bus id: 0000:73:00.0, compute capability: 8.6\n"
     ]
    }
   ],
   "source": [
    "if MODEL == 'linear':\n",
    "  x_train, x_eval, y_train, y_eval, y0_eval = linear_split(customer_level_data)\n",
    "  model = linear_model(output_units, x_train.shape[1])\n",
    "\n",
    "if MODEL == 'dnn':\n",
    "  x_train, x_eval, y_train, y_eval, y0_eval = dnn_split(customer_level_data)\n",
    "  model = dnn_model(output_units, customer_level_data)"
   ]
  },
  {
   "cell_type": "code",
   "execution_count": 20,
   "metadata": {
    "id": "Un-yJPHp31gp"
   },
   "outputs": [],
   "source": [
    "model.compile(loss=loss, optimizer=keras.optimizers.Adam(learning_rate=LEARNING_RATE))"
   ]
  },
  {
   "cell_type": "code",
   "execution_count": 21,
   "metadata": {
    "id": "_GQ-RlIAfT62"
   },
   "outputs": [],
   "source": [
    "callbacks = [\n",
    "    tf.keras.callbacks.ReduceLROnPlateau(monitor='val_loss', min_lr=1e-6),\n",
    "    tf.keras.callbacks.EarlyStopping(monitor='val_loss', patience=10),\n",
    "]"
   ]
  },
  {
   "cell_type": "code",
   "execution_count": 22,
   "metadata": {
    "id": "-BjnHV7MWhK1"
   },
   "outputs": [
    {
     "name": "stdout",
     "output_type": "stream",
     "text": [
      "Epoch 1/400\n"
     ]
    },
    {
     "name": "stderr",
     "output_type": "stream",
     "text": [
      "WARNING: All log messages before absl::InitializeLog() is called are written to STDERR\n",
      "I0000 00:00:1733071025.671741   68647 service.cc:148] XLA service 0x72f398005470 initialized for platform CUDA (this does not guarantee that XLA will be used). Devices:\n",
      "I0000 00:00:1733071025.671769   68647 service.cc:156]   StreamExecutor device (0): NVIDIA RTX A5000, Compute Capability 8.6\n",
      "2024-12-01 16:37:05.684760: I tensorflow/compiler/mlir/tensorflow/utils/dump_mlir_util.cc:268] disabling MLIR crash reproducer, set env var `MLIR_CRASH_REPRODUCER_DIRECTORY` to enable.\n",
      "I0000 00:00:1733071025.712716   68647 cuda_dnn.cc:529] Loaded cuDNN version 90300\n",
      "2024-12-01 16:37:05.745213: W external/local_xla/xla/service/gpu/nvptx_compiler.cc:930] The NVIDIA driver's CUDA version is 12.4 which is older than the PTX compiler version 12.5.82. Because the driver is older than the PTX compiler version, XLA is disabling parallel compilation, which may slow down compilation. You should update your NVIDIA driver or use the NVIDIA-provided CUDA forward compatibility packages.\n",
      "I0000 00:00:1733071025.909286   68647 device_compiler.h:188] Compiled cluster using XLA!  This line is logged at most once for the lifetime of the process.\n"
     ]
    },
    {
     "name": "stdout",
     "output_type": "stream",
     "text": [
      "176/176 - 1s - 7ms/step - loss: 782552.6875 - val_loss: 19093.8887 - learning_rate: 2.0000e-04\n",
      "Epoch 2/400\n",
      "176/176 - 0s - 1ms/step - loss: 782536.9375 - val_loss: 19080.2656 - learning_rate: 2.0000e-04\n",
      "Epoch 3/400\n",
      "176/176 - 0s - 2ms/step - loss: 782520.3750 - val_loss: 19066.0918 - learning_rate: 2.0000e-04\n",
      "Epoch 4/400\n",
      "176/176 - 0s - 2ms/step - loss: 782504.6250 - val_loss: 19051.9922 - learning_rate: 2.0000e-04\n",
      "Epoch 5/400\n",
      "176/176 - 0s - 1ms/step - loss: 782488.5625 - val_loss: 19038.4297 - learning_rate: 2.0000e-04\n",
      "Epoch 6/400\n",
      "176/176 - 0s - 2ms/step - loss: 782472.2500 - val_loss: 19024.6387 - learning_rate: 2.0000e-04\n",
      "Epoch 7/400\n",
      "176/176 - 0s - 2ms/step - loss: 782456.3750 - val_loss: 19011.0566 - learning_rate: 2.0000e-04\n",
      "Epoch 8/400\n",
      "176/176 - 0s - 2ms/step - loss: 782440.6250 - val_loss: 18997.6484 - learning_rate: 2.0000e-04\n",
      "Epoch 9/400\n",
      "176/176 - 0s - 1ms/step - loss: 782425.0625 - val_loss: 18984.2852 - learning_rate: 2.0000e-04\n",
      "Epoch 10/400\n",
      "176/176 - 0s - 2ms/step - loss: 782409.6250 - val_loss: 18971.1426 - learning_rate: 2.0000e-04\n",
      "Epoch 11/400\n",
      "176/176 - 0s - 1ms/step - loss: 782394.2500 - val_loss: 18957.6953 - learning_rate: 2.0000e-04\n",
      "Epoch 12/400\n",
      "176/176 - 0s - 1ms/step - loss: 782378.3750 - val_loss: 18944.6191 - learning_rate: 2.0000e-04\n",
      "Epoch 13/400\n",
      "176/176 - 0s - 2ms/step - loss: 782363.8750 - val_loss: 18931.5762 - learning_rate: 2.0000e-04\n",
      "Epoch 14/400\n",
      "176/176 - 0s - 1ms/step - loss: 782348.3750 - val_loss: 18918.5312 - learning_rate: 2.0000e-04\n",
      "Epoch 15/400\n",
      "176/176 - 0s - 1ms/step - loss: 782332.9375 - val_loss: 18905.5391 - learning_rate: 2.0000e-04\n",
      "Epoch 16/400\n",
      "176/176 - 0s - 2ms/step - loss: 782317.9375 - val_loss: 18892.6992 - learning_rate: 2.0000e-04\n",
      "Epoch 17/400\n",
      "176/176 - 0s - 1ms/step - loss: 782302.6250 - val_loss: 18879.9863 - learning_rate: 2.0000e-04\n",
      "Epoch 18/400\n",
      "176/176 - 0s - 2ms/step - loss: 782288.4375 - val_loss: 18867.4629 - learning_rate: 2.0000e-04\n",
      "Epoch 19/400\n",
      "176/176 - 0s - 1ms/step - loss: 782273.3750 - val_loss: 18854.8887 - learning_rate: 2.0000e-04\n",
      "Epoch 20/400\n",
      "176/176 - 0s - 1ms/step - loss: 782258.6875 - val_loss: 18842.3867 - learning_rate: 2.0000e-04\n",
      "Epoch 21/400\n",
      "176/176 - 0s - 1ms/step - loss: 782243.8750 - val_loss: 18829.9922 - learning_rate: 2.0000e-04\n",
      "Epoch 22/400\n",
      "176/176 - 0s - 2ms/step - loss: 782229.4375 - val_loss: 18817.4609 - learning_rate: 2.0000e-04\n",
      "Epoch 23/400\n",
      "176/176 - 0s - 1ms/step - loss: 782214.8750 - val_loss: 18805.3516 - learning_rate: 2.0000e-04\n",
      "Epoch 24/400\n",
      "176/176 - 0s - 2ms/step - loss: 782200.5000 - val_loss: 18793.0410 - learning_rate: 2.0000e-04\n",
      "Epoch 25/400\n",
      "176/176 - 0s - 2ms/step - loss: 782185.9375 - val_loss: 18780.7578 - learning_rate: 2.0000e-04\n",
      "Epoch 26/400\n",
      "176/176 - 0s - 1ms/step - loss: 782171.5000 - val_loss: 18768.5723 - learning_rate: 2.0000e-04\n",
      "Epoch 27/400\n",
      "176/176 - 0s - 1ms/step - loss: 782157.1875 - val_loss: 18756.7754 - learning_rate: 2.0000e-04\n",
      "Epoch 28/400\n",
      "176/176 - 0s - 1ms/step - loss: 782143.1250 - val_loss: 18744.7324 - learning_rate: 2.0000e-04\n",
      "Epoch 29/400\n",
      "176/176 - 0s - 1ms/step - loss: 782128.9375 - val_loss: 18732.8008 - learning_rate: 2.0000e-04\n",
      "Epoch 30/400\n",
      "176/176 - 0s - 2ms/step - loss: 782115.0000 - val_loss: 18721.0820 - learning_rate: 2.0000e-04\n",
      "Epoch 31/400\n",
      "176/176 - 0s - 1ms/step - loss: 782101.1875 - val_loss: 18709.4023 - learning_rate: 2.0000e-04\n",
      "Epoch 32/400\n",
      "176/176 - 0s - 1ms/step - loss: 782087.5625 - val_loss: 18697.7012 - learning_rate: 2.0000e-04\n",
      "Epoch 33/400\n",
      "176/176 - 0s - 1ms/step - loss: 782073.7500 - val_loss: 18686.2031 - learning_rate: 2.0000e-04\n",
      "Epoch 34/400\n",
      "176/176 - 0s - 1ms/step - loss: 782059.7500 - val_loss: 18674.6426 - learning_rate: 2.0000e-04\n",
      "Epoch 35/400\n",
      "176/176 - 0s - 1ms/step - loss: 782046.6250 - val_loss: 18663.1582 - learning_rate: 2.0000e-04\n",
      "Epoch 36/400\n",
      "176/176 - 0s - 2ms/step - loss: 782033.0625 - val_loss: 18652.0137 - learning_rate: 2.0000e-04\n",
      "Epoch 37/400\n",
      "176/176 - 0s - 2ms/step - loss: 782019.6250 - val_loss: 18640.7363 - learning_rate: 2.0000e-04\n",
      "Epoch 38/400\n",
      "176/176 - 0s - 1ms/step - loss: 782006.5000 - val_loss: 18629.5312 - learning_rate: 2.0000e-04\n",
      "Epoch 39/400\n",
      "176/176 - 0s - 1ms/step - loss: 781992.8750 - val_loss: 18618.3418 - learning_rate: 2.0000e-04\n",
      "Epoch 40/400\n",
      "176/176 - 0s - 1ms/step - loss: 781979.6250 - val_loss: 18607.5078 - learning_rate: 2.0000e-04\n",
      "Epoch 41/400\n",
      "176/176 - 0s - 2ms/step - loss: 781966.3750 - val_loss: 18596.3516 - learning_rate: 2.0000e-04\n",
      "Epoch 42/400\n",
      "176/176 - 0s - 2ms/step - loss: 781953.3125 - val_loss: 18585.3906 - learning_rate: 2.0000e-04\n",
      "Epoch 43/400\n",
      "176/176 - 0s - 1ms/step - loss: 781940.5000 - val_loss: 18574.6504 - learning_rate: 2.0000e-04\n",
      "Epoch 44/400\n",
      "176/176 - 0s - 1ms/step - loss: 781927.5000 - val_loss: 18563.9199 - learning_rate: 2.0000e-04\n",
      "Epoch 45/400\n",
      "176/176 - 0s - 2ms/step - loss: 781914.8125 - val_loss: 18553.5820 - learning_rate: 2.0000e-04\n",
      "Epoch 46/400\n",
      "176/176 - 0s - 1ms/step - loss: 781902.3125 - val_loss: 18542.6758 - learning_rate: 2.0000e-04\n",
      "Epoch 47/400\n",
      "176/176 - 0s - 1ms/step - loss: 781889.5625 - val_loss: 18532.2090 - learning_rate: 2.0000e-04\n",
      "Epoch 48/400\n",
      "176/176 - 0s - 1ms/step - loss: 781876.9375 - val_loss: 18521.8438 - learning_rate: 2.0000e-04\n",
      "Epoch 49/400\n",
      "176/176 - 0s - 1ms/step - loss: 781864.5625 - val_loss: 18511.2910 - learning_rate: 2.0000e-04\n",
      "Epoch 50/400\n",
      "176/176 - 0s - 1ms/step - loss: 781852.1875 - val_loss: 18501.0059 - learning_rate: 2.0000e-04\n",
      "Epoch 51/400\n",
      "176/176 - 0s - 1ms/step - loss: 781839.6250 - val_loss: 18490.5645 - learning_rate: 2.0000e-04\n",
      "Epoch 52/400\n",
      "176/176 - 0s - 1ms/step - loss: 781826.8750 - val_loss: 18480.3457 - learning_rate: 2.0000e-04\n",
      "Epoch 53/400\n",
      "176/176 - 0s - 1ms/step - loss: 781815.2500 - val_loss: 18470.3438 - learning_rate: 2.0000e-04\n",
      "Epoch 54/400\n",
      "176/176 - 0s - 1ms/step - loss: 781803.0625 - val_loss: 18460.3145 - learning_rate: 2.0000e-04\n",
      "Epoch 55/400\n",
      "176/176 - 0s - 1ms/step - loss: 781790.9375 - val_loss: 18450.3555 - learning_rate: 2.0000e-04\n",
      "Epoch 56/400\n",
      "176/176 - 0s - 2ms/step - loss: 781778.8750 - val_loss: 18440.7402 - learning_rate: 2.0000e-04\n",
      "Epoch 57/400\n",
      "176/176 - 0s - 1ms/step - loss: 781766.8750 - val_loss: 18430.5742 - learning_rate: 2.0000e-04\n",
      "Epoch 58/400\n",
      "176/176 - 0s - 1ms/step - loss: 781754.6875 - val_loss: 18420.7305 - learning_rate: 2.0000e-04\n",
      "Epoch 59/400\n",
      "176/176 - 0s - 2ms/step - loss: 781743.1250 - val_loss: 18410.9531 - learning_rate: 2.0000e-04\n",
      "Epoch 60/400\n",
      "176/176 - 0s - 1ms/step - loss: 781731.5625 - val_loss: 18401.2734 - learning_rate: 2.0000e-04\n",
      "Epoch 61/400\n",
      "176/176 - 0s - 1ms/step - loss: 781719.6875 - val_loss: 18391.7852 - learning_rate: 2.0000e-04\n",
      "Epoch 62/400\n",
      "176/176 - 0s - 1ms/step - loss: 781708.3750 - val_loss: 18382.2969 - learning_rate: 2.0000e-04\n",
      "Epoch 63/400\n",
      "176/176 - 0s - 1ms/step - loss: 781697.5000 - val_loss: 18372.9941 - learning_rate: 2.0000e-04\n",
      "Epoch 64/400\n",
      "176/176 - 0s - 2ms/step - loss: 781685.9375 - val_loss: 18363.6992 - learning_rate: 2.0000e-04\n",
      "Epoch 65/400\n",
      "176/176 - 0s - 2ms/step - loss: 781674.4375 - val_loss: 18354.2480 - learning_rate: 2.0000e-04\n",
      "Epoch 66/400\n",
      "176/176 - 0s - 1ms/step - loss: 781662.8125 - val_loss: 18345.2168 - learning_rate: 2.0000e-04\n",
      "Epoch 67/400\n",
      "176/176 - 0s - 1ms/step - loss: 781651.6250 - val_loss: 18335.7441 - learning_rate: 2.0000e-04\n",
      "Epoch 68/400\n",
      "176/176 - 0s - 1ms/step - loss: 781640.3750 - val_loss: 18326.6816 - learning_rate: 2.0000e-04\n",
      "Epoch 69/400\n",
      "176/176 - 0s - 1ms/step - loss: 781629.6250 - val_loss: 18317.6211 - learning_rate: 2.0000e-04\n",
      "Epoch 70/400\n",
      "176/176 - 0s - 1ms/step - loss: 781618.3750 - val_loss: 18308.9160 - learning_rate: 2.0000e-04\n",
      "Epoch 71/400\n",
      "176/176 - 0s - 1ms/step - loss: 781607.4375 - val_loss: 18299.9492 - learning_rate: 2.0000e-04\n",
      "Epoch 72/400\n",
      "176/176 - 0s - 1ms/step - loss: 781597.2500 - val_loss: 18291.1895 - learning_rate: 2.0000e-04\n",
      "Epoch 73/400\n",
      "176/176 - 0s - 1ms/step - loss: 781586.5000 - val_loss: 18282.5273 - learning_rate: 2.0000e-04\n",
      "Epoch 74/400\n",
      "176/176 - 0s - 2ms/step - loss: 781576.0625 - val_loss: 18273.8145 - learning_rate: 2.0000e-04\n",
      "Epoch 75/400\n",
      "176/176 - 0s - 1ms/step - loss: 781565.2500 - val_loss: 18265.2715 - learning_rate: 2.0000e-04\n",
      "Epoch 76/400\n",
      "176/176 - 0s - 2ms/step - loss: 781554.3125 - val_loss: 18256.7207 - learning_rate: 2.0000e-04\n",
      "Epoch 77/400\n",
      "176/176 - 0s - 2ms/step - loss: 781544.1250 - val_loss: 18248.2305 - learning_rate: 2.0000e-04\n",
      "Epoch 78/400\n",
      "176/176 - 0s - 1ms/step - loss: 781533.8750 - val_loss: 18239.7891 - learning_rate: 2.0000e-04\n",
      "Epoch 79/400\n",
      "176/176 - 0s - 1ms/step - loss: 781523.7500 - val_loss: 18231.4297 - learning_rate: 2.0000e-04\n",
      "Epoch 80/400\n",
      "176/176 - 0s - 2ms/step - loss: 781513.1875 - val_loss: 18223.0605 - learning_rate: 2.0000e-04\n",
      "Epoch 81/400\n",
      "176/176 - 0s - 1ms/step - loss: 781502.9375 - val_loss: 18214.7402 - learning_rate: 2.0000e-04\n",
      "Epoch 82/400\n",
      "176/176 - 0s - 2ms/step - loss: 781492.5625 - val_loss: 18206.5293 - learning_rate: 2.0000e-04\n",
      "Epoch 83/400\n",
      "176/176 - 0s - 2ms/step - loss: 781482.1250 - val_loss: 18198.3262 - learning_rate: 2.0000e-04\n",
      "Epoch 84/400\n",
      "176/176 - 0s - 1ms/step - loss: 781472.1875 - val_loss: 18190.2988 - learning_rate: 2.0000e-04\n",
      "Epoch 85/400\n",
      "176/176 - 0s - 2ms/step - loss: 781462.1875 - val_loss: 18182.1367 - learning_rate: 2.0000e-04\n",
      "Epoch 86/400\n",
      "176/176 - 0s - 2ms/step - loss: 781452.2500 - val_loss: 18174.2246 - learning_rate: 2.0000e-04\n",
      "Epoch 87/400\n",
      "176/176 - 0s - 1ms/step - loss: 781442.7500 - val_loss: 18166.2500 - learning_rate: 2.0000e-04\n",
      "Epoch 88/400\n",
      "176/176 - 0s - 2ms/step - loss: 781432.8750 - val_loss: 18158.4980 - learning_rate: 2.0000e-04\n",
      "Epoch 89/400\n",
      "176/176 - 0s - 2ms/step - loss: 781423.1875 - val_loss: 18150.7598 - learning_rate: 2.0000e-04\n",
      "Epoch 90/400\n",
      "176/176 - 0s - 2ms/step - loss: 781413.6250 - val_loss: 18143.0723 - learning_rate: 2.0000e-04\n",
      "Epoch 91/400\n",
      "176/176 - 0s - 1ms/step - loss: 781403.6250 - val_loss: 18135.5273 - learning_rate: 2.0000e-04\n",
      "Epoch 92/400\n",
      "176/176 - 0s - 1ms/step - loss: 781394.8125 - val_loss: 18128.0156 - learning_rate: 2.0000e-04\n",
      "Epoch 93/400\n",
      "176/176 - 0s - 1ms/step - loss: 781385.4375 - val_loss: 18120.5254 - learning_rate: 2.0000e-04\n",
      "Epoch 94/400\n",
      "176/176 - 0s - 2ms/step - loss: 781375.6250 - val_loss: 18113.1348 - learning_rate: 2.0000e-04\n",
      "Epoch 95/400\n",
      "176/176 - 0s - 1ms/step - loss: 781366.4375 - val_loss: 18105.7480 - learning_rate: 2.0000e-04\n",
      "Epoch 96/400\n",
      "176/176 - 0s - 2ms/step - loss: 781357.4375 - val_loss: 18098.4160 - learning_rate: 2.0000e-04\n",
      "Epoch 97/400\n",
      "176/176 - 0s - 2ms/step - loss: 781348.3125 - val_loss: 18091.1895 - learning_rate: 2.0000e-04\n",
      "Epoch 98/400\n",
      "176/176 - 0s - 2ms/step - loss: 781339.3750 - val_loss: 18083.9121 - learning_rate: 2.0000e-04\n",
      "Epoch 99/400\n",
      "176/176 - 0s - 1ms/step - loss: 781330.1875 - val_loss: 18076.7598 - learning_rate: 2.0000e-04\n",
      "Epoch 100/400\n",
      "176/176 - 0s - 2ms/step - loss: 781320.7500 - val_loss: 18069.5879 - learning_rate: 2.0000e-04\n",
      "Epoch 101/400\n",
      "176/176 - 0s - 2ms/step - loss: 781312.3750 - val_loss: 18062.5234 - learning_rate: 2.0000e-04\n",
      "Epoch 102/400\n",
      "176/176 - 0s - 2ms/step - loss: 781303.3125 - val_loss: 18055.6309 - learning_rate: 2.0000e-04\n",
      "Epoch 103/400\n",
      "176/176 - 0s - 2ms/step - loss: 781294.5625 - val_loss: 18049.0176 - learning_rate: 2.0000e-04\n",
      "Epoch 104/400\n",
      "176/176 - 0s - 2ms/step - loss: 781285.3750 - val_loss: 18041.8203 - learning_rate: 2.0000e-04\n",
      "Epoch 105/400\n",
      "176/176 - 0s - 1ms/step - loss: 781277.1250 - val_loss: 18035.1211 - learning_rate: 2.0000e-04\n",
      "Epoch 106/400\n",
      "176/176 - 0s - 2ms/step - loss: 781268.1250 - val_loss: 18028.1680 - learning_rate: 2.0000e-04\n",
      "Epoch 107/400\n",
      "176/176 - 0s - 2ms/step - loss: 781259.9375 - val_loss: 18021.5117 - learning_rate: 2.0000e-04\n",
      "Epoch 108/400\n",
      "176/176 - 0s - 2ms/step - loss: 781251.5625 - val_loss: 18014.9785 - learning_rate: 2.0000e-04\n",
      "Epoch 109/400\n",
      "176/176 - 0s - 2ms/step - loss: 781243.2500 - val_loss: 18008.4277 - learning_rate: 2.0000e-04\n",
      "Epoch 110/400\n",
      "176/176 - 0s - 1ms/step - loss: 781234.8750 - val_loss: 18002.0898 - learning_rate: 2.0000e-04\n",
      "Epoch 111/400\n",
      "176/176 - 0s - 2ms/step - loss: 781226.4375 - val_loss: 17995.3672 - learning_rate: 2.0000e-04\n",
      "Epoch 112/400\n",
      "176/176 - 0s - 2ms/step - loss: 781218.2500 - val_loss: 17989.0449 - learning_rate: 2.0000e-04\n",
      "Epoch 113/400\n",
      "176/176 - 0s - 1ms/step - loss: 781210.3750 - val_loss: 17982.6934 - learning_rate: 2.0000e-04\n",
      "Epoch 114/400\n",
      "176/176 - 0s - 2ms/step - loss: 781201.8125 - val_loss: 17976.3242 - learning_rate: 2.0000e-04\n",
      "Epoch 115/400\n",
      "176/176 - 0s - 1ms/step - loss: 781193.8750 - val_loss: 17970.2305 - learning_rate: 2.0000e-04\n",
      "Epoch 116/400\n",
      "176/176 - 0s - 2ms/step - loss: 781185.8750 - val_loss: 17963.9766 - learning_rate: 2.0000e-04\n",
      "Epoch 117/400\n",
      "176/176 - 0s - 2ms/step - loss: 781178.0000 - val_loss: 17957.7949 - learning_rate: 2.0000e-04\n",
      "Epoch 118/400\n",
      "176/176 - 0s - 1ms/step - loss: 781169.8125 - val_loss: 17951.5957 - learning_rate: 2.0000e-04\n",
      "Epoch 119/400\n",
      "176/176 - 0s - 2ms/step - loss: 781162.6875 - val_loss: 17945.7695 - learning_rate: 2.0000e-04\n",
      "Epoch 120/400\n",
      "176/176 - 0s - 2ms/step - loss: 781154.9375 - val_loss: 17939.8984 - learning_rate: 2.0000e-04\n",
      "Epoch 121/400\n",
      "176/176 - 0s - 1ms/step - loss: 781147.0625 - val_loss: 17934.0996 - learning_rate: 2.0000e-04\n",
      "Epoch 122/400\n",
      "176/176 - 0s - 2ms/step - loss: 781139.7500 - val_loss: 17928.1680 - learning_rate: 2.0000e-04\n",
      "Epoch 123/400\n",
      "176/176 - 0s - 2ms/step - loss: 781131.5625 - val_loss: 17922.4648 - learning_rate: 2.0000e-04\n",
      "Epoch 124/400\n",
      "176/176 - 0s - 1ms/step - loss: 781124.7500 - val_loss: 17916.6914 - learning_rate: 2.0000e-04\n",
      "Epoch 125/400\n",
      "176/176 - 0s - 2ms/step - loss: 781117.1250 - val_loss: 17911.0449 - learning_rate: 2.0000e-04\n",
      "Epoch 126/400\n",
      "176/176 - 0s - 2ms/step - loss: 781110.0000 - val_loss: 17905.3027 - learning_rate: 2.0000e-04\n",
      "Epoch 127/400\n",
      "176/176 - 0s - 2ms/step - loss: 781102.5625 - val_loss: 17899.7676 - learning_rate: 2.0000e-04\n",
      "Epoch 128/400\n",
      "176/176 - 0s - 2ms/step - loss: 781095.3125 - val_loss: 17894.1738 - learning_rate: 2.0000e-04\n",
      "Epoch 129/400\n",
      "176/176 - 0s - 2ms/step - loss: 781087.8125 - val_loss: 17888.6309 - learning_rate: 2.0000e-04\n",
      "Epoch 130/400\n",
      "176/176 - 0s - 2ms/step - loss: 781080.8125 - val_loss: 17883.1797 - learning_rate: 2.0000e-04\n",
      "Epoch 131/400\n",
      "176/176 - 0s - 1ms/step - loss: 781073.5000 - val_loss: 17877.7637 - learning_rate: 2.0000e-04\n",
      "Epoch 132/400\n",
      "176/176 - 0s - 2ms/step - loss: 781066.3125 - val_loss: 17872.4277 - learning_rate: 2.0000e-04\n",
      "Epoch 133/400\n",
      "176/176 - 0s - 2ms/step - loss: 781059.3125 - val_loss: 17867.0566 - learning_rate: 2.0000e-04\n",
      "Epoch 134/400\n",
      "176/176 - 0s - 2ms/step - loss: 781052.5625 - val_loss: 17861.8887 - learning_rate: 2.0000e-04\n",
      "Epoch 135/400\n",
      "176/176 - 0s - 2ms/step - loss: 781045.5625 - val_loss: 17856.7852 - learning_rate: 2.0000e-04\n",
      "Epoch 136/400\n",
      "176/176 - 0s - 1ms/step - loss: 781038.9375 - val_loss: 17851.6367 - learning_rate: 2.0000e-04\n",
      "Epoch 137/400\n",
      "176/176 - 0s - 1ms/step - loss: 781032.1875 - val_loss: 17846.5391 - learning_rate: 2.0000e-04\n",
      "Epoch 138/400\n",
      "176/176 - 0s - 1ms/step - loss: 781025.4375 - val_loss: 17841.5039 - learning_rate: 2.0000e-04\n",
      "Epoch 139/400\n",
      "176/176 - 0s - 2ms/step - loss: 781018.5625 - val_loss: 17836.5098 - learning_rate: 2.0000e-04\n",
      "Epoch 140/400\n",
      "176/176 - 0s - 2ms/step - loss: 781012.1875 - val_loss: 17831.4492 - learning_rate: 2.0000e-04\n",
      "Epoch 141/400\n",
      "176/176 - 0s - 2ms/step - loss: 781005.6875 - val_loss: 17826.5625 - learning_rate: 2.0000e-04\n",
      "Epoch 142/400\n",
      "176/176 - 0s - 2ms/step - loss: 780999.0625 - val_loss: 17821.6875 - learning_rate: 2.0000e-04\n",
      "Epoch 143/400\n",
      "176/176 - 0s - 2ms/step - loss: 780992.0000 - val_loss: 17816.8223 - learning_rate: 2.0000e-04\n",
      "Epoch 144/400\n",
      "176/176 - 0s - 1ms/step - loss: 780985.8750 - val_loss: 17812.0840 - learning_rate: 2.0000e-04\n",
      "Epoch 145/400\n",
      "176/176 - 0s - 2ms/step - loss: 780980.0000 - val_loss: 17807.3789 - learning_rate: 2.0000e-04\n",
      "Epoch 146/400\n",
      "176/176 - 0s - 2ms/step - loss: 780973.6250 - val_loss: 17802.6758 - learning_rate: 2.0000e-04\n",
      "Epoch 147/400\n",
      "176/176 - 0s - 1ms/step - loss: 780967.0625 - val_loss: 17797.9961 - learning_rate: 2.0000e-04\n",
      "Epoch 148/400\n",
      "176/176 - 0s - 2ms/step - loss: 780960.6250 - val_loss: 17793.4102 - learning_rate: 2.0000e-04\n",
      "Epoch 149/400\n",
      "176/176 - 0s - 1ms/step - loss: 780954.7500 - val_loss: 17788.8125 - learning_rate: 2.0000e-04\n",
      "Epoch 150/400\n",
      "176/176 - 0s - 1ms/step - loss: 780948.3125 - val_loss: 17784.2715 - learning_rate: 2.0000e-04\n",
      "Epoch 151/400\n",
      "176/176 - 0s - 2ms/step - loss: 780942.3125 - val_loss: 17779.8848 - learning_rate: 2.0000e-04\n",
      "Epoch 152/400\n",
      "176/176 - 0s - 2ms/step - loss: 780935.7500 - val_loss: 17775.2754 - learning_rate: 2.0000e-04\n",
      "Epoch 153/400\n",
      "176/176 - 0s - 2ms/step - loss: 780930.0625 - val_loss: 17770.8613 - learning_rate: 2.0000e-04\n",
      "Epoch 154/400\n",
      "176/176 - 0s - 2ms/step - loss: 780923.6875 - val_loss: 17766.4082 - learning_rate: 2.0000e-04\n",
      "Epoch 155/400\n",
      "176/176 - 0s - 2ms/step - loss: 780918.1250 - val_loss: 17762.1250 - learning_rate: 2.0000e-04\n",
      "Epoch 156/400\n",
      "176/176 - 0s - 1ms/step - loss: 780912.1875 - val_loss: 17757.7402 - learning_rate: 2.0000e-04\n",
      "Epoch 157/400\n",
      "176/176 - 0s - 1ms/step - loss: 780906.3125 - val_loss: 17753.4805 - learning_rate: 2.0000e-04\n",
      "Epoch 158/400\n",
      "176/176 - 0s - 1ms/step - loss: 780900.5000 - val_loss: 17749.2754 - learning_rate: 2.0000e-04\n",
      "Epoch 159/400\n",
      "176/176 - 0s - 1ms/step - loss: 780894.5625 - val_loss: 17745.0938 - learning_rate: 2.0000e-04\n",
      "Epoch 160/400\n",
      "176/176 - 0s - 1ms/step - loss: 780889.0000 - val_loss: 17741.0215 - learning_rate: 2.0000e-04\n",
      "Epoch 161/400\n",
      "176/176 - 0s - 1ms/step - loss: 780883.3750 - val_loss: 17736.8574 - learning_rate: 2.0000e-04\n",
      "Epoch 162/400\n",
      "176/176 - 0s - 2ms/step - loss: 780878.3125 - val_loss: 17732.8652 - learning_rate: 2.0000e-04\n",
      "Epoch 163/400\n",
      "176/176 - 0s - 2ms/step - loss: 780872.1875 - val_loss: 17728.9629 - learning_rate: 2.0000e-04\n",
      "Epoch 164/400\n",
      "176/176 - 0s - 1ms/step - loss: 780866.3125 - val_loss: 17724.9492 - learning_rate: 2.0000e-04\n",
      "Epoch 165/400\n",
      "176/176 - 0s - 1ms/step - loss: 780861.0000 - val_loss: 17721.0996 - learning_rate: 2.0000e-04\n",
      "Epoch 166/400\n",
      "176/176 - 0s - 1ms/step - loss: 780855.4375 - val_loss: 17717.0078 - learning_rate: 2.0000e-04\n",
      "Epoch 167/400\n",
      "176/176 - 0s - 1ms/step - loss: 780850.2500 - val_loss: 17713.1211 - learning_rate: 2.0000e-04\n",
      "Epoch 168/400\n",
      "176/176 - 0s - 2ms/step - loss: 780845.1250 - val_loss: 17709.3281 - learning_rate: 2.0000e-04\n",
      "Epoch 169/400\n",
      "176/176 - 0s - 1ms/step - loss: 780839.5625 - val_loss: 17705.5625 - learning_rate: 2.0000e-04\n",
      "Epoch 170/400\n",
      "176/176 - 0s - 1ms/step - loss: 780834.1875 - val_loss: 17701.7422 - learning_rate: 2.0000e-04\n",
      "Epoch 171/400\n",
      "176/176 - 0s - 1ms/step - loss: 780828.9375 - val_loss: 17698.0312 - learning_rate: 2.0000e-04\n",
      "Epoch 172/400\n",
      "176/176 - 0s - 1ms/step - loss: 780823.6250 - val_loss: 17694.3594 - learning_rate: 2.0000e-04\n",
      "Epoch 173/400\n",
      "176/176 - 0s - 2ms/step - loss: 780818.6250 - val_loss: 17690.8730 - learning_rate: 2.0000e-04\n",
      "Epoch 174/400\n",
      "176/176 - 0s - 1ms/step - loss: 780813.4375 - val_loss: 17687.2168 - learning_rate: 2.0000e-04\n",
      "Epoch 175/400\n",
      "176/176 - 0s - 2ms/step - loss: 780808.5625 - val_loss: 17683.6875 - learning_rate: 2.0000e-04\n",
      "Epoch 176/400\n",
      "176/176 - 0s - 2ms/step - loss: 780803.4375 - val_loss: 17680.0117 - learning_rate: 2.0000e-04\n",
      "Epoch 177/400\n",
      "176/176 - 0s - 2ms/step - loss: 780798.3750 - val_loss: 17676.5254 - learning_rate: 2.0000e-04\n",
      "Epoch 178/400\n",
      "176/176 - 0s - 2ms/step - loss: 780793.0625 - val_loss: 17673.0723 - learning_rate: 2.0000e-04\n",
      "Epoch 179/400\n",
      "176/176 - 0s - 2ms/step - loss: 780788.6250 - val_loss: 17669.6621 - learning_rate: 2.0000e-04\n",
      "Epoch 180/400\n",
      "176/176 - 0s - 2ms/step - loss: 780783.8125 - val_loss: 17666.1992 - learning_rate: 2.0000e-04\n",
      "Epoch 181/400\n",
      "176/176 - 0s - 1ms/step - loss: 780778.2500 - val_loss: 17662.8242 - learning_rate: 2.0000e-04\n",
      "Epoch 182/400\n",
      "176/176 - 0s - 1ms/step - loss: 780773.8750 - val_loss: 17659.5000 - learning_rate: 2.0000e-04\n",
      "Epoch 183/400\n",
      "176/176 - 0s - 2ms/step - loss: 780769.3125 - val_loss: 17656.2012 - learning_rate: 2.0000e-04\n",
      "Epoch 184/400\n",
      "176/176 - 0s - 1ms/step - loss: 780764.4375 - val_loss: 17652.9805 - learning_rate: 2.0000e-04\n",
      "Epoch 185/400\n",
      "176/176 - 0s - 2ms/step - loss: 780759.6250 - val_loss: 17649.6680 - learning_rate: 2.0000e-04\n",
      "Epoch 186/400\n",
      "176/176 - 0s - 1ms/step - loss: 780755.0625 - val_loss: 17646.4336 - learning_rate: 2.0000e-04\n",
      "Epoch 187/400\n",
      "176/176 - 0s - 1ms/step - loss: 780750.6250 - val_loss: 17643.1816 - learning_rate: 2.0000e-04\n",
      "Epoch 188/400\n",
      "176/176 - 0s - 1ms/step - loss: 780745.6250 - val_loss: 17640.0469 - learning_rate: 2.0000e-04\n",
      "Epoch 189/400\n",
      "176/176 - 0s - 2ms/step - loss: 780740.9375 - val_loss: 17636.8359 - learning_rate: 2.0000e-04\n",
      "Epoch 190/400\n",
      "176/176 - 0s - 2ms/step - loss: 780736.5000 - val_loss: 17633.7344 - learning_rate: 2.0000e-04\n",
      "Epoch 191/400\n",
      "176/176 - 0s - 1ms/step - loss: 780732.0625 - val_loss: 17630.6406 - learning_rate: 2.0000e-04\n",
      "Epoch 192/400\n",
      "176/176 - 0s - 1ms/step - loss: 780727.6875 - val_loss: 17627.6133 - learning_rate: 2.0000e-04\n",
      "Epoch 193/400\n",
      "176/176 - 0s - 1ms/step - loss: 780722.9375 - val_loss: 17624.5645 - learning_rate: 2.0000e-04\n",
      "Epoch 194/400\n",
      "176/176 - 0s - 1ms/step - loss: 780718.6875 - val_loss: 17621.5410 - learning_rate: 2.0000e-04\n",
      "Epoch 195/400\n",
      "176/176 - 0s - 1ms/step - loss: 780714.2500 - val_loss: 17618.6055 - learning_rate: 2.0000e-04\n",
      "Epoch 196/400\n",
      "176/176 - 0s - 1ms/step - loss: 780709.8750 - val_loss: 17615.6250 - learning_rate: 2.0000e-04\n",
      "Epoch 197/400\n",
      "176/176 - 0s - 1ms/step - loss: 780705.5625 - val_loss: 17612.7266 - learning_rate: 2.0000e-04\n",
      "Epoch 198/400\n",
      "176/176 - 0s - 2ms/step - loss: 780701.3750 - val_loss: 17609.8848 - learning_rate: 2.0000e-04\n",
      "Epoch 199/400\n",
      "176/176 - 0s - 1ms/step - loss: 780696.8750 - val_loss: 17606.9609 - learning_rate: 2.0000e-04\n",
      "Epoch 200/400\n",
      "176/176 - 0s - 1ms/step - loss: 780692.6875 - val_loss: 17604.0762 - learning_rate: 2.0000e-04\n",
      "Epoch 201/400\n",
      "176/176 - 0s - 1ms/step - loss: 780688.9375 - val_loss: 17601.3086 - learning_rate: 2.0000e-04\n",
      "Epoch 202/400\n",
      "176/176 - 0s - 1ms/step - loss: 780684.5000 - val_loss: 17598.6504 - learning_rate: 2.0000e-04\n",
      "Epoch 203/400\n",
      "176/176 - 0s - 2ms/step - loss: 780680.5000 - val_loss: 17595.7520 - learning_rate: 2.0000e-04\n",
      "Epoch 204/400\n",
      "176/176 - 0s - 1ms/step - loss: 780676.1875 - val_loss: 17593.0312 - learning_rate: 2.0000e-04\n",
      "Epoch 205/400\n",
      "176/176 - 0s - 1ms/step - loss: 780672.0000 - val_loss: 17590.2383 - learning_rate: 2.0000e-04\n",
      "Epoch 206/400\n",
      "176/176 - 0s - 2ms/step - loss: 780668.1875 - val_loss: 17587.5898 - learning_rate: 2.0000e-04\n",
      "Epoch 207/400\n",
      "176/176 - 0s - 2ms/step - loss: 780664.0000 - val_loss: 17584.9473 - learning_rate: 2.0000e-04\n",
      "Epoch 208/400\n",
      "176/176 - 0s - 1ms/step - loss: 780660.3125 - val_loss: 17582.3027 - learning_rate: 2.0000e-04\n",
      "Epoch 209/400\n",
      "176/176 - 0s - 2ms/step - loss: 780656.3125 - val_loss: 17579.6797 - learning_rate: 2.0000e-04\n",
      "Epoch 210/400\n",
      "176/176 - 0s - 2ms/step - loss: 780652.4375 - val_loss: 17577.0938 - learning_rate: 2.0000e-04\n",
      "Epoch 211/400\n",
      "176/176 - 0s - 1ms/step - loss: 780648.3125 - val_loss: 17574.5723 - learning_rate: 2.0000e-04\n",
      "Epoch 212/400\n",
      "176/176 - 0s - 2ms/step - loss: 780644.3750 - val_loss: 17571.9844 - learning_rate: 2.0000e-04\n",
      "Epoch 213/400\n",
      "176/176 - 0s - 2ms/step - loss: 780640.3750 - val_loss: 17569.5703 - learning_rate: 2.0000e-04\n",
      "Epoch 214/400\n",
      "176/176 - 0s - 2ms/step - loss: 780636.9375 - val_loss: 17567.0996 - learning_rate: 2.0000e-04\n",
      "Epoch 215/400\n",
      "176/176 - 0s - 2ms/step - loss: 780633.0000 - val_loss: 17564.5938 - learning_rate: 2.0000e-04\n",
      "Epoch 216/400\n",
      "176/176 - 0s - 2ms/step - loss: 780629.3750 - val_loss: 17562.1797 - learning_rate: 2.0000e-04\n",
      "Epoch 217/400\n",
      "176/176 - 0s - 2ms/step - loss: 780625.7500 - val_loss: 17559.7520 - learning_rate: 2.0000e-04\n",
      "Epoch 218/400\n",
      "176/176 - 0s - 1ms/step - loss: 780621.7500 - val_loss: 17557.3438 - learning_rate: 2.0000e-04\n",
      "Epoch 219/400\n",
      "176/176 - 0s - 1ms/step - loss: 780618.4375 - val_loss: 17554.9688 - learning_rate: 2.0000e-04\n",
      "Epoch 220/400\n",
      "176/176 - 0s - 1ms/step - loss: 780614.4375 - val_loss: 17552.6230 - learning_rate: 2.0000e-04\n",
      "Epoch 221/400\n",
      "176/176 - 0s - 1ms/step - loss: 780611.2500 - val_loss: 17550.2539 - learning_rate: 2.0000e-04\n",
      "Epoch 222/400\n",
      "176/176 - 0s - 2ms/step - loss: 780607.3750 - val_loss: 17547.9473 - learning_rate: 2.0000e-04\n",
      "Epoch 223/400\n",
      "176/176 - 0s - 2ms/step - loss: 780603.8125 - val_loss: 17545.5781 - learning_rate: 2.0000e-04\n",
      "Epoch 224/400\n",
      "176/176 - 0s - 1ms/step - loss: 780600.3750 - val_loss: 17543.3027 - learning_rate: 2.0000e-04\n",
      "Epoch 225/400\n",
      "176/176 - 0s - 2ms/step - loss: 780596.8750 - val_loss: 17541.1094 - learning_rate: 2.0000e-04\n",
      "Epoch 226/400\n",
      "176/176 - 0s - 1ms/step - loss: 780593.0000 - val_loss: 17538.8320 - learning_rate: 2.0000e-04\n",
      "Epoch 227/400\n",
      "176/176 - 0s - 2ms/step - loss: 780589.8750 - val_loss: 17536.5625 - learning_rate: 2.0000e-04\n",
      "Epoch 228/400\n",
      "176/176 - 0s - 1ms/step - loss: 780586.2500 - val_loss: 17534.3125 - learning_rate: 2.0000e-04\n",
      "Epoch 229/400\n",
      "176/176 - 0s - 2ms/step - loss: 780582.6250 - val_loss: 17532.1387 - learning_rate: 2.0000e-04\n",
      "Epoch 230/400\n",
      "176/176 - 0s - 1ms/step - loss: 780579.4375 - val_loss: 17530.0586 - learning_rate: 2.0000e-04\n",
      "Epoch 231/400\n",
      "176/176 - 0s - 1ms/step - loss: 780575.8125 - val_loss: 17527.6934 - learning_rate: 2.0000e-04\n",
      "Epoch 232/400\n",
      "176/176 - 0s - 1ms/step - loss: 780572.4375 - val_loss: 17525.5449 - learning_rate: 2.0000e-04\n",
      "Epoch 233/400\n",
      "176/176 - 0s - 2ms/step - loss: 780569.6875 - val_loss: 17523.3770 - learning_rate: 2.0000e-04\n",
      "Epoch 234/400\n",
      "176/176 - 0s - 1ms/step - loss: 780565.6250 - val_loss: 17521.2930 - learning_rate: 2.0000e-04\n",
      "Epoch 235/400\n",
      "176/176 - 0s - 2ms/step - loss: 780562.0625 - val_loss: 17519.1680 - learning_rate: 2.0000e-04\n",
      "Epoch 236/400\n",
      "176/176 - 0s - 1ms/step - loss: 780558.6875 - val_loss: 17517.0625 - learning_rate: 2.0000e-04\n",
      "Epoch 237/400\n",
      "176/176 - 0s - 1ms/step - loss: 780555.6875 - val_loss: 17515.0332 - learning_rate: 2.0000e-04\n",
      "Epoch 238/400\n",
      "176/176 - 0s - 2ms/step - loss: 780552.4375 - val_loss: 17513.0293 - learning_rate: 2.0000e-04\n",
      "Epoch 239/400\n",
      "176/176 - 0s - 2ms/step - loss: 780549.1250 - val_loss: 17511.0215 - learning_rate: 2.0000e-04\n",
      "Epoch 240/400\n",
      "176/176 - 0s - 1ms/step - loss: 780546.1250 - val_loss: 17508.9980 - learning_rate: 2.0000e-04\n",
      "Epoch 241/400\n",
      "176/176 - 0s - 2ms/step - loss: 780543.0625 - val_loss: 17507.0098 - learning_rate: 2.0000e-04\n",
      "Epoch 242/400\n",
      "176/176 - 0s - 1ms/step - loss: 780539.6875 - val_loss: 17505.0566 - learning_rate: 2.0000e-04\n",
      "Epoch 243/400\n",
      "176/176 - 0s - 1ms/step - loss: 780536.4375 - val_loss: 17503.0273 - learning_rate: 2.0000e-04\n",
      "Epoch 244/400\n",
      "176/176 - 0s - 1ms/step - loss: 780533.5000 - val_loss: 17501.1211 - learning_rate: 2.0000e-04\n",
      "Epoch 245/400\n",
      "176/176 - 0s - 2ms/step - loss: 780530.4375 - val_loss: 17499.2559 - learning_rate: 2.0000e-04\n",
      "Epoch 246/400\n",
      "176/176 - 0s - 2ms/step - loss: 780527.1250 - val_loss: 17497.2715 - learning_rate: 2.0000e-04\n",
      "Epoch 247/400\n",
      "176/176 - 0s - 1ms/step - loss: 780523.9375 - val_loss: 17495.3828 - learning_rate: 2.0000e-04\n",
      "Epoch 248/400\n",
      "176/176 - 0s - 2ms/step - loss: 780521.1250 - val_loss: 17493.5410 - learning_rate: 2.0000e-04\n",
      "Epoch 249/400\n",
      "176/176 - 0s - 1ms/step - loss: 780517.7500 - val_loss: 17491.6582 - learning_rate: 2.0000e-04\n",
      "Epoch 250/400\n",
      "176/176 - 0s - 1ms/step - loss: 780515.0625 - val_loss: 17489.8008 - learning_rate: 2.0000e-04\n",
      "Epoch 251/400\n",
      "176/176 - 0s - 1ms/step - loss: 780512.3125 - val_loss: 17488.0000 - learning_rate: 2.0000e-04\n",
      "Epoch 252/400\n",
      "176/176 - 0s - 1ms/step - loss: 780509.0625 - val_loss: 17486.1309 - learning_rate: 2.0000e-04\n",
      "Epoch 253/400\n",
      "176/176 - 0s - 2ms/step - loss: 780506.3750 - val_loss: 17484.3340 - learning_rate: 2.0000e-04\n",
      "Epoch 254/400\n",
      "176/176 - 0s - 1ms/step - loss: 780502.8750 - val_loss: 17482.5957 - learning_rate: 2.0000e-04\n",
      "Epoch 255/400\n",
      "176/176 - 0s - 2ms/step - loss: 780500.3750 - val_loss: 17480.8457 - learning_rate: 2.0000e-04\n",
      "Epoch 256/400\n",
      "176/176 - 0s - 2ms/step - loss: 780497.5625 - val_loss: 17479.1250 - learning_rate: 2.0000e-04\n",
      "Epoch 257/400\n",
      "176/176 - 0s - 2ms/step - loss: 780494.5000 - val_loss: 17477.2793 - learning_rate: 2.0000e-04\n",
      "Epoch 258/400\n",
      "176/176 - 0s - 1ms/step - loss: 780491.6875 - val_loss: 17475.5645 - learning_rate: 2.0000e-04\n",
      "Epoch 259/400\n",
      "176/176 - 0s - 2ms/step - loss: 780488.9375 - val_loss: 17473.8848 - learning_rate: 2.0000e-04\n",
      "Epoch 260/400\n",
      "176/176 - 0s - 1ms/step - loss: 780485.9375 - val_loss: 17472.1855 - learning_rate: 2.0000e-04\n",
      "Epoch 261/400\n",
      "176/176 - 0s - 2ms/step - loss: 780482.9375 - val_loss: 17470.4062 - learning_rate: 2.0000e-04\n",
      "Epoch 262/400\n",
      "176/176 - 0s - 1ms/step - loss: 780480.1875 - val_loss: 17468.7109 - learning_rate: 2.0000e-04\n",
      "Epoch 263/400\n",
      "176/176 - 0s - 1ms/step - loss: 780477.6875 - val_loss: 17467.0410 - learning_rate: 2.0000e-04\n",
      "Epoch 264/400\n",
      "176/176 - 0s - 2ms/step - loss: 780474.7500 - val_loss: 17465.3672 - learning_rate: 2.0000e-04\n",
      "Epoch 265/400\n",
      "176/176 - 0s - 1ms/step - loss: 780471.9375 - val_loss: 17463.6973 - learning_rate: 2.0000e-04\n",
      "Epoch 266/400\n",
      "176/176 - 0s - 1ms/step - loss: 780469.0000 - val_loss: 17462.0664 - learning_rate: 2.0000e-04\n",
      "Epoch 267/400\n",
      "176/176 - 0s - 1ms/step - loss: 780466.3750 - val_loss: 17460.5234 - learning_rate: 2.0000e-04\n",
      "Epoch 268/400\n",
      "176/176 - 0s - 1ms/step - loss: 780463.6875 - val_loss: 17458.8887 - learning_rate: 2.0000e-04\n",
      "Epoch 269/400\n",
      "176/176 - 0s - 1ms/step - loss: 780460.9375 - val_loss: 17457.2285 - learning_rate: 2.0000e-04\n",
      "Epoch 270/400\n",
      "176/176 - 0s - 1ms/step - loss: 780458.5000 - val_loss: 17455.6445 - learning_rate: 2.0000e-04\n",
      "Epoch 271/400\n",
      "176/176 - 0s - 1ms/step - loss: 780455.5625 - val_loss: 17454.0527 - learning_rate: 2.0000e-04\n",
      "Epoch 272/400\n",
      "176/176 - 0s - 2ms/step - loss: 780453.0000 - val_loss: 17452.4766 - learning_rate: 2.0000e-04\n",
      "Epoch 273/400\n",
      "176/176 - 0s - 2ms/step - loss: 780450.1875 - val_loss: 17450.9141 - learning_rate: 2.0000e-04\n",
      "Epoch 274/400\n",
      "176/176 - 0s - 1ms/step - loss: 780447.7500 - val_loss: 17449.3457 - learning_rate: 2.0000e-04\n",
      "Epoch 275/400\n",
      "176/176 - 0s - 1ms/step - loss: 780445.1875 - val_loss: 17447.7930 - learning_rate: 2.0000e-04\n",
      "Epoch 276/400\n",
      "176/176 - 0s - 2ms/step - loss: 780442.8125 - val_loss: 17446.2539 - learning_rate: 2.0000e-04\n",
      "Epoch 277/400\n",
      "176/176 - 0s - 2ms/step - loss: 780440.0000 - val_loss: 17444.7559 - learning_rate: 2.0000e-04\n",
      "Epoch 278/400\n",
      "176/176 - 0s - 2ms/step - loss: 780437.3750 - val_loss: 17443.2852 - learning_rate: 2.0000e-04\n",
      "Epoch 279/400\n",
      "176/176 - 0s - 2ms/step - loss: 780434.9375 - val_loss: 17441.7480 - learning_rate: 2.0000e-04\n",
      "Epoch 280/400\n",
      "176/176 - 0s - 1ms/step - loss: 780432.0000 - val_loss: 17440.2461 - learning_rate: 2.0000e-04\n",
      "Epoch 281/400\n",
      "176/176 - 0s - 1ms/step - loss: 780429.4375 - val_loss: 17438.7754 - learning_rate: 2.0000e-04\n",
      "Epoch 282/400\n",
      "176/176 - 0s - 2ms/step - loss: 780426.9375 - val_loss: 17437.3008 - learning_rate: 2.0000e-04\n",
      "Epoch 283/400\n",
      "176/176 - 0s - 2ms/step - loss: 780424.3750 - val_loss: 17435.8457 - learning_rate: 2.0000e-04\n",
      "Epoch 284/400\n",
      "176/176 - 0s - 1ms/step - loss: 780421.7500 - val_loss: 17434.4004 - learning_rate: 2.0000e-04\n",
      "Epoch 285/400\n",
      "176/176 - 0s - 1ms/step - loss: 780419.5625 - val_loss: 17432.9707 - learning_rate: 2.0000e-04\n",
      "Epoch 286/400\n",
      "176/176 - 0s - 1ms/step - loss: 780417.0000 - val_loss: 17431.5547 - learning_rate: 2.0000e-04\n",
      "Epoch 287/400\n",
      "176/176 - 0s - 1ms/step - loss: 780414.7500 - val_loss: 17430.2188 - learning_rate: 2.0000e-04\n",
      "Epoch 288/400\n",
      "176/176 - 0s - 1ms/step - loss: 780411.9375 - val_loss: 17428.7578 - learning_rate: 2.0000e-04\n",
      "Epoch 289/400\n",
      "176/176 - 0s - 1ms/step - loss: 780409.5625 - val_loss: 17427.3438 - learning_rate: 2.0000e-04\n",
      "Epoch 290/400\n",
      "176/176 - 0s - 2ms/step - loss: 780407.3750 - val_loss: 17425.9121 - learning_rate: 2.0000e-04\n",
      "Epoch 291/400\n",
      "176/176 - 0s - 1ms/step - loss: 780404.4375 - val_loss: 17424.5430 - learning_rate: 2.0000e-04\n",
      "Epoch 292/400\n",
      "176/176 - 0s - 1ms/step - loss: 780402.4375 - val_loss: 17423.1660 - learning_rate: 2.0000e-04\n",
      "Epoch 293/400\n",
      "176/176 - 0s - 2ms/step - loss: 780399.7500 - val_loss: 17421.8047 - learning_rate: 2.0000e-04\n",
      "Epoch 294/400\n",
      "176/176 - 0s - 2ms/step - loss: 780398.1875 - val_loss: 17420.4590 - learning_rate: 2.0000e-04\n",
      "Epoch 295/400\n",
      "176/176 - 0s - 2ms/step - loss: 780395.2500 - val_loss: 17419.1387 - learning_rate: 2.0000e-04\n",
      "Epoch 296/400\n",
      "176/176 - 0s - 1ms/step - loss: 780393.3750 - val_loss: 17417.8086 - learning_rate: 2.0000e-04\n",
      "Epoch 297/400\n",
      "176/176 - 0s - 1ms/step - loss: 780390.6250 - val_loss: 17416.4531 - learning_rate: 2.0000e-04\n",
      "Epoch 298/400\n",
      "176/176 - 0s - 1ms/step - loss: 780388.3750 - val_loss: 17415.1523 - learning_rate: 2.0000e-04\n",
      "Epoch 299/400\n",
      "176/176 - 0s - 1ms/step - loss: 780386.0000 - val_loss: 17413.8223 - learning_rate: 2.0000e-04\n",
      "Epoch 300/400\n",
      "176/176 - 0s - 2ms/step - loss: 780383.6875 - val_loss: 17412.5117 - learning_rate: 2.0000e-04\n",
      "Epoch 301/400\n",
      "176/176 - 0s - 1ms/step - loss: 780381.5000 - val_loss: 17411.2422 - learning_rate: 2.0000e-04\n",
      "Epoch 302/400\n",
      "176/176 - 0s - 1ms/step - loss: 780379.0000 - val_loss: 17409.9336 - learning_rate: 2.0000e-04\n",
      "Epoch 303/400\n",
      "176/176 - 0s - 2ms/step - loss: 780377.2500 - val_loss: 17408.7070 - learning_rate: 2.0000e-04\n",
      "Epoch 304/400\n",
      "176/176 - 0s - 1ms/step - loss: 780374.3750 - val_loss: 17407.5176 - learning_rate: 2.0000e-04\n",
      "Epoch 305/400\n",
      "176/176 - 0s - 1ms/step - loss: 780372.1875 - val_loss: 17406.0879 - learning_rate: 2.0000e-04\n",
      "Epoch 306/400\n",
      "176/176 - 0s - 1ms/step - loss: 780370.0000 - val_loss: 17404.8203 - learning_rate: 2.0000e-04\n",
      "Epoch 307/400\n",
      "176/176 - 0s - 1ms/step - loss: 780367.8750 - val_loss: 17403.5684 - learning_rate: 2.0000e-04\n",
      "Epoch 308/400\n",
      "176/176 - 0s - 1ms/step - loss: 780365.6875 - val_loss: 17402.3633 - learning_rate: 2.0000e-04\n",
      "Epoch 309/400\n",
      "176/176 - 0s - 1ms/step - loss: 780363.2500 - val_loss: 17401.0898 - learning_rate: 2.0000e-04\n",
      "Epoch 310/400\n",
      "176/176 - 0s - 2ms/step - loss: 780361.2500 - val_loss: 17399.8809 - learning_rate: 2.0000e-04\n",
      "Epoch 311/400\n",
      "176/176 - 0s - 2ms/step - loss: 780359.1250 - val_loss: 17398.7012 - learning_rate: 2.0000e-04\n",
      "Epoch 312/400\n",
      "176/176 - 0s - 1ms/step - loss: 780356.6875 - val_loss: 17397.4883 - learning_rate: 2.0000e-04\n",
      "Epoch 313/400\n",
      "176/176 - 0s - 2ms/step - loss: 780354.8125 - val_loss: 17396.3281 - learning_rate: 2.0000e-04\n",
      "Epoch 314/400\n",
      "176/176 - 0s - 1ms/step - loss: 780352.5000 - val_loss: 17395.0723 - learning_rate: 2.0000e-04\n",
      "Epoch 315/400\n",
      "176/176 - 0s - 1ms/step - loss: 780350.4375 - val_loss: 17393.9062 - learning_rate: 2.0000e-04\n",
      "Epoch 316/400\n",
      "176/176 - 0s - 1ms/step - loss: 780348.4375 - val_loss: 17392.7188 - learning_rate: 2.0000e-04\n",
      "Epoch 317/400\n",
      "176/176 - 0s - 1ms/step - loss: 780346.1250 - val_loss: 17391.5488 - learning_rate: 2.0000e-04\n",
      "Epoch 318/400\n",
      "176/176 - 0s - 1ms/step - loss: 780344.0625 - val_loss: 17390.3770 - learning_rate: 2.0000e-04\n",
      "Epoch 319/400\n",
      "176/176 - 0s - 1ms/step - loss: 780341.5000 - val_loss: 17389.2012 - learning_rate: 2.0000e-04\n",
      "Epoch 320/400\n",
      "176/176 - 0s - 2ms/step - loss: 780339.9375 - val_loss: 17388.0547 - learning_rate: 2.0000e-04\n",
      "Epoch 321/400\n",
      "176/176 - 0s - 1ms/step - loss: 780337.6875 - val_loss: 17386.9570 - learning_rate: 2.0000e-04\n",
      "Epoch 322/400\n",
      "176/176 - 0s - 2ms/step - loss: 780335.5000 - val_loss: 17385.7441 - learning_rate: 2.0000e-04\n",
      "Epoch 323/400\n",
      "176/176 - 0s - 1ms/step - loss: 780333.3125 - val_loss: 17384.6191 - learning_rate: 2.0000e-04\n",
      "Epoch 324/400\n",
      "176/176 - 0s - 1ms/step - loss: 780331.3125 - val_loss: 17383.4551 - learning_rate: 2.0000e-04\n",
      "Epoch 325/400\n",
      "176/176 - 0s - 2ms/step - loss: 780329.1250 - val_loss: 17382.3379 - learning_rate: 2.0000e-04\n",
      "Epoch 326/400\n",
      "176/176 - 0s - 1ms/step - loss: 780327.1250 - val_loss: 17381.1973 - learning_rate: 2.0000e-04\n",
      "Epoch 327/400\n",
      "176/176 - 0s - 1ms/step - loss: 780324.9375 - val_loss: 17380.0820 - learning_rate: 2.0000e-04\n",
      "Epoch 328/400\n",
      "176/176 - 0s - 2ms/step - loss: 780323.1250 - val_loss: 17379.0195 - learning_rate: 2.0000e-04\n",
      "Epoch 329/400\n",
      "176/176 - 0s - 2ms/step - loss: 780320.9375 - val_loss: 17377.8262 - learning_rate: 2.0000e-04\n",
      "Epoch 330/400\n",
      "176/176 - 0s - 1ms/step - loss: 780319.0625 - val_loss: 17376.7422 - learning_rate: 2.0000e-04\n",
      "Epoch 331/400\n",
      "176/176 - 0s - 2ms/step - loss: 780317.2500 - val_loss: 17375.6523 - learning_rate: 2.0000e-04\n",
      "Epoch 332/400\n",
      "176/176 - 0s - 2ms/step - loss: 780315.2500 - val_loss: 17374.5820 - learning_rate: 2.0000e-04\n",
      "Epoch 333/400\n",
      "176/176 - 0s - 2ms/step - loss: 780313.2500 - val_loss: 17373.4961 - learning_rate: 2.0000e-04\n",
      "Epoch 334/400\n",
      "176/176 - 0s - 2ms/step - loss: 780311.0625 - val_loss: 17372.4395 - learning_rate: 2.0000e-04\n",
      "Epoch 335/400\n",
      "176/176 - 0s - 1ms/step - loss: 780308.9375 - val_loss: 17371.3516 - learning_rate: 2.0000e-04\n",
      "Epoch 336/400\n",
      "176/176 - 0s - 2ms/step - loss: 780307.0625 - val_loss: 17370.2891 - learning_rate: 2.0000e-04\n",
      "Epoch 337/400\n",
      "176/176 - 0s - 2ms/step - loss: 780304.7500 - val_loss: 17369.2598 - learning_rate: 2.0000e-04\n",
      "Epoch 338/400\n",
      "176/176 - 0s - 2ms/step - loss: 780302.9375 - val_loss: 17368.2031 - learning_rate: 2.0000e-04\n",
      "Epoch 339/400\n",
      "176/176 - 0s - 2ms/step - loss: 780301.1250 - val_loss: 17367.1133 - learning_rate: 2.0000e-04\n",
      "Epoch 340/400\n",
      "176/176 - 0s - 2ms/step - loss: 780299.3125 - val_loss: 17366.0742 - learning_rate: 2.0000e-04\n",
      "Epoch 341/400\n",
      "176/176 - 0s - 1ms/step - loss: 780297.1250 - val_loss: 17365.0605 - learning_rate: 2.0000e-04\n",
      "Epoch 342/400\n",
      "176/176 - 0s - 1ms/step - loss: 780295.0625 - val_loss: 17364.0703 - learning_rate: 2.0000e-04\n",
      "Epoch 343/400\n",
      "176/176 - 0s - 1ms/step - loss: 780293.3125 - val_loss: 17363.0703 - learning_rate: 2.0000e-04\n",
      "Epoch 344/400\n",
      "176/176 - 0s - 1ms/step - loss: 780291.6875 - val_loss: 17362.0547 - learning_rate: 2.0000e-04\n",
      "Epoch 345/400\n",
      "176/176 - 0s - 1ms/step - loss: 780289.9375 - val_loss: 17361.0449 - learning_rate: 2.0000e-04\n",
      "Epoch 346/400\n",
      "176/176 - 0s - 2ms/step - loss: 780287.8750 - val_loss: 17360.1309 - learning_rate: 2.0000e-04\n",
      "Epoch 347/400\n",
      "176/176 - 0s - 2ms/step - loss: 780286.1250 - val_loss: 17359.0508 - learning_rate: 2.0000e-04\n",
      "Epoch 348/400\n",
      "176/176 - 0s - 1ms/step - loss: 780283.9375 - val_loss: 17358.0527 - learning_rate: 2.0000e-04\n",
      "Epoch 349/400\n",
      "176/176 - 0s - 2ms/step - loss: 780282.1250 - val_loss: 17357.0879 - learning_rate: 2.0000e-04\n",
      "Epoch 350/400\n",
      "176/176 - 0s - 1ms/step - loss: 780280.1875 - val_loss: 17356.1367 - learning_rate: 2.0000e-04\n",
      "Epoch 351/400\n",
      "176/176 - 0s - 2ms/step - loss: 780278.6875 - val_loss: 17355.1602 - learning_rate: 2.0000e-04\n",
      "Epoch 352/400\n",
      "176/176 - 0s - 1ms/step - loss: 780276.6875 - val_loss: 17354.1895 - learning_rate: 2.0000e-04\n",
      "Epoch 353/400\n",
      "176/176 - 0s - 2ms/step - loss: 780274.8750 - val_loss: 17353.2480 - learning_rate: 2.0000e-04\n",
      "Epoch 354/400\n",
      "176/176 - 0s - 2ms/step - loss: 780273.3125 - val_loss: 17352.3027 - learning_rate: 2.0000e-04\n",
      "Epoch 355/400\n",
      "176/176 - 0s - 2ms/step - loss: 780271.3125 - val_loss: 17351.3477 - learning_rate: 2.0000e-04\n",
      "Epoch 356/400\n",
      "176/176 - 0s - 1ms/step - loss: 780269.3125 - val_loss: 17350.4043 - learning_rate: 2.0000e-04\n",
      "Epoch 357/400\n",
      "176/176 - 0s - 1ms/step - loss: 780267.5625 - val_loss: 17349.4648 - learning_rate: 2.0000e-04\n",
      "Epoch 358/400\n",
      "176/176 - 0s - 2ms/step - loss: 780265.7500 - val_loss: 17348.5176 - learning_rate: 2.0000e-04\n",
      "Epoch 359/400\n",
      "176/176 - 0s - 2ms/step - loss: 780263.8125 - val_loss: 17347.5664 - learning_rate: 2.0000e-04\n",
      "Epoch 360/400\n",
      "176/176 - 0s - 2ms/step - loss: 780262.3125 - val_loss: 17346.6367 - learning_rate: 2.0000e-04\n",
      "Epoch 361/400\n",
      "176/176 - 0s - 2ms/step - loss: 780260.6875 - val_loss: 17345.7402 - learning_rate: 2.0000e-04\n",
      "Epoch 362/400\n",
      "176/176 - 0s - 2ms/step - loss: 780258.9375 - val_loss: 17344.7949 - learning_rate: 2.0000e-04\n",
      "Epoch 363/400\n",
      "176/176 - 0s - 1ms/step - loss: 780257.0000 - val_loss: 17343.8906 - learning_rate: 2.0000e-04\n",
      "Epoch 364/400\n",
      "176/176 - 0s - 2ms/step - loss: 780255.1875 - val_loss: 17342.9551 - learning_rate: 2.0000e-04\n",
      "Epoch 365/400\n",
      "176/176 - 0s - 1ms/step - loss: 780253.6250 - val_loss: 17342.0547 - learning_rate: 2.0000e-04\n",
      "Epoch 366/400\n",
      "176/176 - 0s - 1ms/step - loss: 780251.8125 - val_loss: 17341.1309 - learning_rate: 2.0000e-04\n",
      "Epoch 367/400\n",
      "176/176 - 0s - 2ms/step - loss: 780250.1875 - val_loss: 17340.2090 - learning_rate: 2.0000e-04\n",
      "Epoch 368/400\n",
      "176/176 - 0s - 1ms/step - loss: 780248.1250 - val_loss: 17339.3320 - learning_rate: 2.0000e-04\n",
      "Epoch 369/400\n",
      "176/176 - 0s - 2ms/step - loss: 780246.5000 - val_loss: 17338.4277 - learning_rate: 2.0000e-04\n",
      "Epoch 370/400\n",
      "176/176 - 0s - 2ms/step - loss: 780244.6250 - val_loss: 17337.5762 - learning_rate: 2.0000e-04\n",
      "Epoch 371/400\n",
      "176/176 - 0s - 2ms/step - loss: 780242.8125 - val_loss: 17336.6426 - learning_rate: 2.0000e-04\n",
      "Epoch 372/400\n",
      "176/176 - 0s - 1ms/step - loss: 780241.4375 - val_loss: 17335.7832 - learning_rate: 2.0000e-04\n",
      "Epoch 373/400\n",
      "176/176 - 0s - 2ms/step - loss: 780239.4375 - val_loss: 17334.9277 - learning_rate: 2.0000e-04\n",
      "Epoch 374/400\n",
      "176/176 - 0s - 2ms/step - loss: 780237.7500 - val_loss: 17334.0957 - learning_rate: 2.0000e-04\n",
      "Epoch 375/400\n",
      "176/176 - 0s - 1ms/step - loss: 780235.9375 - val_loss: 17333.1660 - learning_rate: 2.0000e-04\n",
      "Epoch 376/400\n",
      "176/176 - 0s - 2ms/step - loss: 780234.3750 - val_loss: 17332.2969 - learning_rate: 2.0000e-04\n",
      "Epoch 377/400\n",
      "176/176 - 0s - 1ms/step - loss: 780232.6250 - val_loss: 17331.4316 - learning_rate: 2.0000e-04\n",
      "Epoch 378/400\n",
      "176/176 - 0s - 1ms/step - loss: 780231.1250 - val_loss: 17330.5957 - learning_rate: 2.0000e-04\n",
      "Epoch 379/400\n",
      "176/176 - 0s - 1ms/step - loss: 780229.1875 - val_loss: 17329.7520 - learning_rate: 2.0000e-04\n",
      "Epoch 380/400\n",
      "176/176 - 0s - 2ms/step - loss: 780227.8125 - val_loss: 17328.9062 - learning_rate: 2.0000e-04\n",
      "Epoch 381/400\n",
      "176/176 - 0s - 2ms/step - loss: 780226.1875 - val_loss: 17328.0625 - learning_rate: 2.0000e-04\n",
      "Epoch 382/400\n",
      "176/176 - 0s - 2ms/step - loss: 780224.2500 - val_loss: 17327.2246 - learning_rate: 2.0000e-04\n",
      "Epoch 383/400\n",
      "176/176 - 0s - 2ms/step - loss: 780223.2500 - val_loss: 17326.3887 - learning_rate: 2.0000e-04\n",
      "Epoch 384/400\n",
      "176/176 - 0s - 1ms/step - loss: 780221.0000 - val_loss: 17325.5684 - learning_rate: 2.0000e-04\n",
      "Epoch 385/400\n",
      "176/176 - 0s - 1ms/step - loss: 780219.4375 - val_loss: 17324.7266 - learning_rate: 2.0000e-04\n",
      "Epoch 386/400\n",
      "176/176 - 0s - 1ms/step - loss: 780217.6250 - val_loss: 17323.8848 - learning_rate: 2.0000e-04\n",
      "Epoch 387/400\n",
      "176/176 - 0s - 2ms/step - loss: 780216.1875 - val_loss: 17323.0586 - learning_rate: 2.0000e-04\n",
      "Epoch 388/400\n",
      "176/176 - 0s - 1ms/step - loss: 780214.5625 - val_loss: 17322.2480 - learning_rate: 2.0000e-04\n",
      "Epoch 389/400\n",
      "176/176 - 0s - 1ms/step - loss: 780212.7500 - val_loss: 17321.4375 - learning_rate: 2.0000e-04\n",
      "Epoch 390/400\n",
      "176/176 - 0s - 2ms/step - loss: 780211.0625 - val_loss: 17320.6250 - learning_rate: 2.0000e-04\n",
      "Epoch 391/400\n",
      "176/176 - 0s - 1ms/step - loss: 780209.6250 - val_loss: 17319.8418 - learning_rate: 2.0000e-04\n",
      "Epoch 392/400\n",
      "176/176 - 0s - 2ms/step - loss: 780208.0000 - val_loss: 17319.0000 - learning_rate: 2.0000e-04\n",
      "Epoch 393/400\n",
      "176/176 - 0s - 2ms/step - loss: 780206.6250 - val_loss: 17318.1875 - learning_rate: 2.0000e-04\n",
      "Epoch 394/400\n",
      "176/176 - 0s - 1ms/step - loss: 780204.5625 - val_loss: 17317.3945 - learning_rate: 2.0000e-04\n",
      "Epoch 395/400\n",
      "176/176 - 0s - 2ms/step - loss: 780202.8750 - val_loss: 17316.6074 - learning_rate: 2.0000e-04\n",
      "Epoch 396/400\n",
      "176/176 - 0s - 2ms/step - loss: 780201.8125 - val_loss: 17315.8281 - learning_rate: 2.0000e-04\n",
      "Epoch 397/400\n",
      "176/176 - 0s - 2ms/step - loss: 780199.7500 - val_loss: 17315.0410 - learning_rate: 2.0000e-04\n",
      "Epoch 398/400\n",
      "176/176 - 0s - 1ms/step - loss: 780198.3750 - val_loss: 17314.2578 - learning_rate: 2.0000e-04\n",
      "Epoch 399/400\n",
      "176/176 - 0s - 2ms/step - loss: 780197.0000 - val_loss: 17313.4766 - learning_rate: 2.0000e-04\n",
      "Epoch 400/400\n",
      "176/176 - 0s - 1ms/step - loss: 780195.2500 - val_loss: 17312.7188 - learning_rate: 2.0000e-04\n"
     ]
    }
   ],
   "source": [
    "# y array needs to have a two dimensional shape to work with ziln loss function\n",
    "# so we use [:, np.newaxis] to make the data two-dimensional for the fit function call\n",
    "history = model.fit(\n",
    "    x=x_train,\n",
    "    y=y_train[:, np.newaxis],\n",
    "    batch_size=1024,\n",
    "    epochs=EPOCHS,\n",
    "    verbose=2,\n",
    "    callbacks=callbacks,\n",
    "    validation_data=(x_eval, y_eval[:, np.newaxis])).history"
   ]
  },
  {
   "cell_type": "code",
   "execution_count": 23,
   "metadata": {
    "id": "mAJGs5SebDeN"
   },
   "outputs": [
    {
     "data": {
      "text/plain": [
       "<Axes: >"
      ]
     },
     "execution_count": 23,
     "metadata": {},
     "output_type": "execute_result"
    },
    {
     "data": {
      "image/png": "[encoded data removed]",
      "text/plain": [
       "<Figure size 640x480 with 1 Axes>"
      ]
     },
     "metadata": {
      "image/png": {
       "height": 413,
       "width": 578
      }
     },
     "output_type": "display_data"
    }
   ],
   "source": [
    "pd.DataFrame(history)[['loss', 'val_loss']][2:].plot()"
   ]
  },
  {
   "cell_type": "markdown",
   "metadata": {
    "id": "bHaiutmy2aYm"
   },
   "source": [
    "### Eval"
   ]
  },
  {
   "cell_type": "code",
   "execution_count": 24,
   "metadata": {
    "id": "l6E_5gYAYQMw"
   },
   "outputs": [
    {
     "name": "stdout",
     "output_type": "stream",
     "text": [
      "\u001b[1m44/44\u001b[0m \u001b[32m━━━━━━━━━━━━━━━━━━━━\u001b[0m\u001b[37m\u001b[0m \u001b[1m0s\u001b[0m 3ms/step\n"
     ]
    }
   ],
   "source": [
    "if LOSS == 'mse':\n",
    "  y_pred = model.predict(x=x_eval, batch_size=1024).flatten()\n",
    "\n",
    "if LOSS == 'ziln':\n",
    "  logits = model.predict(x=x_eval, batch_size=1024)\n",
    "  y_pred = ltv.zero_inflated_lognormal_pred(logits).numpy().flatten()"
   ]
  },
  {
   "cell_type": "code",
   "execution_count": 25,
   "metadata": {
    "id": "Mm28qKSGXNyr"
   },
   "outputs": [
    {
     "data": {
      "text/html": [
       "<div>\n",
       "<style scoped>\n",
       "    .dataframe tbody tr th:only-of-type {\n",
       "        vertical-align: middle;\n",
       "    }\n",
       "\n",
       "    .dataframe tbody tr th {\n",
       "        vertical-align: top;\n",
       "    }\n",
       "\n",
       "    .dataframe thead th {\n",
       "        text-align: right;\n",
       "    }\n",
       "</style>\n",
       "<table border=\"1\" class=\"dataframe\">\n",
       "  <thead>\n",
       "    <tr style=\"text-align: right;\">\n",
       "      <th></th>\n",
       "      <th>y_true</th>\n",
       "      <th>y_pred</th>\n",
       "    </tr>\n",
       "  </thead>\n",
       "  <tbody>\n",
       "    <tr>\n",
       "      <th>0</th>\n",
       "      <td>1.57</td>\n",
       "      <td>30.595821</td>\n",
       "    </tr>\n",
       "    <tr>\n",
       "      <th>1</th>\n",
       "      <td>23.16</td>\n",
       "      <td>30.393700</td>\n",
       "    </tr>\n",
       "    <tr>\n",
       "      <th>2</th>\n",
       "      <td>252.28</td>\n",
       "      <td>53.585178</td>\n",
       "    </tr>\n",
       "    <tr>\n",
       "      <th>3</th>\n",
       "      <td>5.49</td>\n",
       "      <td>41.293995</td>\n",
       "    </tr>\n",
       "    <tr>\n",
       "      <th>4</th>\n",
       "      <td>3.69</td>\n",
       "      <td>42.963581</td>\n",
       "    </tr>\n",
       "    <tr>\n",
       "      <th>5</th>\n",
       "      <td>2.48</td>\n",
       "      <td>29.083897</td>\n",
       "    </tr>\n",
       "    <tr>\n",
       "      <th>6</th>\n",
       "      <td>45.31</td>\n",
       "      <td>41.245186</td>\n",
       "    </tr>\n",
       "    <tr>\n",
       "      <th>7</th>\n",
       "      <td>30.95</td>\n",
       "      <td>30.180840</td>\n",
       "    </tr>\n",
       "    <tr>\n",
       "      <th>8</th>\n",
       "      <td>11.94</td>\n",
       "      <td>30.528008</td>\n",
       "    </tr>\n",
       "    <tr>\n",
       "      <th>9</th>\n",
       "      <td>40.55</td>\n",
       "      <td>45.317451</td>\n",
       "    </tr>\n",
       "  </tbody>\n",
       "</table>\n",
       "</div>"
      ],
      "text/plain": [
       "   y_true     y_pred\n",
       "0    1.57  30.595821\n",
       "1   23.16  30.393700\n",
       "2  252.28  53.585178\n",
       "3    5.49  41.293995\n",
       "4    3.69  42.963581\n",
       "5    2.48  29.083897\n",
       "6   45.31  41.245186\n",
       "7   30.95  30.180840\n",
       "8   11.94  30.528008\n",
       "9   40.55  45.317451"
      ]
     },
     "execution_count": 25,
     "metadata": {},
     "output_type": "execute_result"
    }
   ],
   "source": [
    "df_pred = pd.DataFrame({\n",
    "    'y_true': y_eval,\n",
    "    'y_pred': y_pred,\n",
    "})\n",
    "df_pred.head(10)"
   ]
  },
  {
   "cell_type": "markdown",
   "metadata": {
    "id": "zROhsEWxnA5u"
   },
   "source": [
    "### Gini Coefficient"
   ]
  },
  {
   "cell_type": "code",
   "execution_count": 26,
   "metadata": {
    "id": "gRsJ7y-632h_"
   },
   "outputs": [],
   "source": [
    "gain = pd.DataFrame({\n",
    "    'lorenz': ltv.cumulative_true(y_eval, y_eval),\n",
    "    'baseline': ltv.cumulative_true(y_eval, y0_eval),\n",
    "    'model': ltv.cumulative_true(y_eval, y_pred),\n",
    "})"
   ]
  },
  {
   "cell_type": "code",
   "execution_count": 27,
   "metadata": {
    "id": "yg-ndbve4AL_"
   },
   "outputs": [],
   "source": [
    "num_customers = np.float32(gain.shape[0])\n",
    "gain['cumulative_customer'] = (np.arange(num_customers) + 1.) / num_customers"
   ]
  },
  {
   "cell_type": "code",
   "execution_count": 28,
   "metadata": {
    "id": "WEoAvuCj4OVy"
   },
   "outputs": [
    {
     "data": {
      "text/plain": [
       "Text(0.5, 1.0, 'Gain Chart')"
      ]
     },
     "execution_count": 28,
     "metadata": {},
     "output_type": "execute_result"
    },
    {
     "data": {
      "image/png": "[encoded data removed]",
      "text/plain": [
       "<Figure size 800x500 with 1 Axes>"
      ]
     },
     "metadata": {
      "image/png": {
       "height": 469,
       "width": 702
      }
     },
     "output_type": "display_data"
    }
   ],
   "source": [
    "ax = gain[[\n",
    "    'cumulative_customer',\n",
    "    'lorenz',\n",
    "    'baseline',\n",
    "    'model',\n",
    "]].plot(\n",
    "    x='cumulative_customer', figsize=(8, 5), legend=True)\n",
    "\n",
    "ax.legend(['Groundtruth', 'Baseline', 'Model'], loc='upper left')\n",
    "\n",
    "ax.set_xlabel('Cumulative Fraction of Customers')\n",
    "ax.set_xticks(np.arange(0, 1.1, 0.1))\n",
    "ax.set_xlim((0, 1.))\n",
    "\n",
    "ax.set_ylabel('Cumulative Fraction of Total Lifetime Value')\n",
    "ax.set_yticks(np.arange(0, 1.1, 0.1))\n",
    "ax.set_ylim((0, 1.05))\n",
    "ax.set_title('Gain Chart')"
   ]
  },
  {
   "cell_type": "code",
   "execution_count": 29,
   "metadata": {
    "id": "kzPqaiNO4iWC"
   },
   "outputs": [
    {
     "name": "stderr",
     "output_type": "stream",
     "text": [
      "/home/reza/miniconda3/envs/clv-google/lib/python3.12/site-packages/lifetime_value/metrics.py:57: FutureWarning: Series.__getitem__ treating keys as positions is deprecated. In a future version, integer keys will always be treated as labels (consistent with DataFrame behavior). To access a value by position, use `ser.iloc[pos]`\n",
      "  normalized = raw / raw[0]\n"
     ]
    },
    {
     "data": {
      "text/html": [
       "<div>\n",
       "<style scoped>\n",
       "    .dataframe tbody tr th:only-of-type {\n",
       "        vertical-align: middle;\n",
       "    }\n",
       "\n",
       "    .dataframe tbody tr th {\n",
       "        vertical-align: top;\n",
       "    }\n",
       "\n",
       "    .dataframe thead th {\n",
       "        text-align: right;\n",
       "    }\n",
       "</style>\n",
       "<table border=\"1\" class=\"dataframe\">\n",
       "  <thead>\n",
       "    <tr style=\"text-align: right;\">\n",
       "      <th></th>\n",
       "      <th>raw</th>\n",
       "      <th>normalized</th>\n",
       "    </tr>\n",
       "  </thead>\n",
       "  <tbody>\n",
       "    <tr>\n",
       "      <th>lorenz</th>\n",
       "      <td>0.706898</td>\n",
       "      <td>1.000000</td>\n",
       "    </tr>\n",
       "    <tr>\n",
       "      <th>baseline</th>\n",
       "      <td>0.290027</td>\n",
       "      <td>0.410281</td>\n",
       "    </tr>\n",
       "    <tr>\n",
       "      <th>model</th>\n",
       "      <td>0.290161</td>\n",
       "      <td>0.410470</td>\n",
       "    </tr>\n",
       "  </tbody>\n",
       "</table>\n",
       "</div>"
      ],
      "text/plain": [
       "               raw  normalized\n",
       "lorenz    0.706898    1.000000\n",
       "baseline  0.290027    0.410281\n",
       "model     0.290161    0.410470"
      ]
     },
     "execution_count": 29,
     "metadata": {},
     "output_type": "execute_result"
    }
   ],
   "source": [
    "gini = ltv.gini_from_gain(gain[['lorenz', 'baseline', 'model']])\n",
    "gini"
   ]
  },
  {
   "cell_type": "markdown",
   "metadata": {
    "id": "S84RitIa9PBu"
   },
   "source": [
    "### Calibration"
   ]
  },
  {
   "cell_type": "code",
   "execution_count": 30,
   "metadata": {
    "id": "X7sKbsEf6RvF"
   },
   "outputs": [
    {
     "name": "stderr",
     "output_type": "stream",
     "text": [
      "/home/reza/miniconda3/envs/clv-google/lib/python3.12/site-packages/lifetime_value/metrics.py:105: FutureWarning: The default of observed=False is deprecated and will be changed to True in a future version of pandas. Pass observed=False to retain current behavior or observed=True to adopt the future default and silence this warning.\n",
      "  }).groupby('decile').apply(_aggregate_fn)\n"
     ]
    },
    {
     "data": {
      "text/html": [
       "<div>\n",
       "<style scoped>\n",
       "    .dataframe tbody tr th:only-of-type {\n",
       "        vertical-align: middle;\n",
       "    }\n",
       "\n",
       "    .dataframe tbody tr th {\n",
       "        vertical-align: top;\n",
       "    }\n",
       "\n",
       "    .dataframe thead th {\n",
       "        text-align: right;\n",
       "    }\n",
       "</style>\n",
       "<table border=\"1\" class=\"dataframe\">\n",
       "  <thead>\n",
       "    <tr style=\"text-align: right;\">\n",
       "      <th></th>\n",
       "      <th>label_mean</th>\n",
       "      <th>pred_mean</th>\n",
       "      <th>normalized_rmse</th>\n",
       "      <th>normalized_mae</th>\n",
       "      <th>decile_mape</th>\n",
       "    </tr>\n",
       "    <tr>\n",
       "      <th>decile</th>\n",
       "      <th></th>\n",
       "      <th></th>\n",
       "      <th></th>\n",
       "      <th></th>\n",
       "      <th></th>\n",
       "    </tr>\n",
       "  </thead>\n",
       "  <tbody>\n",
       "    <tr>\n",
       "      <th>0</th>\n",
       "      <td>15.557820</td>\n",
       "      <td>25.885990</td>\n",
       "      <td>3.451447</td>\n",
       "      <td>1.546275</td>\n",
       "      <td>0.663857</td>\n",
       "    </tr>\n",
       "    <tr>\n",
       "      <th>1</th>\n",
       "      <td>20.547965</td>\n",
       "      <td>30.427340</td>\n",
       "      <td>1.961868</td>\n",
       "      <td>1.314481</td>\n",
       "      <td>0.480796</td>\n",
       "    </tr>\n",
       "    <tr>\n",
       "      <th>2</th>\n",
       "      <td>24.187642</td>\n",
       "      <td>32.837349</td>\n",
       "      <td>1.973056</td>\n",
       "      <td>1.227313</td>\n",
       "      <td>0.357608</td>\n",
       "    </tr>\n",
       "    <tr>\n",
       "      <th>3</th>\n",
       "      <td>27.824785</td>\n",
       "      <td>34.775261</td>\n",
       "      <td>1.913530</td>\n",
       "      <td>1.142297</td>\n",
       "      <td>0.249794</td>\n",
       "    </tr>\n",
       "    <tr>\n",
       "      <th>4</th>\n",
       "      <td>31.200810</td>\n",
       "      <td>36.791695</td>\n",
       "      <td>1.733998</td>\n",
       "      <td>1.075480</td>\n",
       "      <td>0.179190</td>\n",
       "    </tr>\n",
       "    <tr>\n",
       "      <th>5</th>\n",
       "      <td>35.345837</td>\n",
       "      <td>38.537971</td>\n",
       "      <td>1.667350</td>\n",
       "      <td>1.032346</td>\n",
       "      <td>0.090311</td>\n",
       "    </tr>\n",
       "    <tr>\n",
       "      <th>6</th>\n",
       "      <td>42.076224</td>\n",
       "      <td>40.403961</td>\n",
       "      <td>5.516392</td>\n",
       "      <td>1.006333</td>\n",
       "      <td>0.039744</td>\n",
       "    </tr>\n",
       "    <tr>\n",
       "      <th>7</th>\n",
       "      <td>44.517820</td>\n",
       "      <td>42.694275</td>\n",
       "      <td>1.917616</td>\n",
       "      <td>0.956860</td>\n",
       "      <td>0.040962</td>\n",
       "    </tr>\n",
       "    <tr>\n",
       "      <th>8</th>\n",
       "      <td>58.057556</td>\n",
       "      <td>46.023380</td>\n",
       "      <td>2.921090</td>\n",
       "      <td>0.905332</td>\n",
       "      <td>0.207280</td>\n",
       "    </tr>\n",
       "    <tr>\n",
       "      <th>9</th>\n",
       "      <td>93.754831</td>\n",
       "      <td>51.818218</td>\n",
       "      <td>2.763795</td>\n",
       "      <td>0.848265</td>\n",
       "      <td>0.447301</td>\n",
       "    </tr>\n",
       "  </tbody>\n",
       "</table>\n",
       "</div>"
      ],
      "text/plain": [
       "        label_mean  pred_mean  normalized_rmse  normalized_mae  decile_mape\n",
       "decile                                                                     \n",
       "0        15.557820  25.885990         3.451447        1.546275     0.663857\n",
       "1        20.547965  30.427340         1.961868        1.314481     0.480796\n",
       "2        24.187642  32.837349         1.973056        1.227313     0.357608\n",
       "3        27.824785  34.775261         1.913530        1.142297     0.249794\n",
       "4        31.200810  36.791695         1.733998        1.075480     0.179190\n",
       "5        35.345837  38.537971         1.667350        1.032346     0.090311\n",
       "6        42.076224  40.403961         5.516392        1.006333     0.039744\n",
       "7        44.517820  42.694275         1.917616        0.956860     0.040962\n",
       "8        58.057556  46.023380         2.921090        0.905332     0.207280\n",
       "9        93.754831  51.818218         2.763795        0.848265     0.447301"
      ]
     },
     "execution_count": 30,
     "metadata": {},
     "output_type": "execute_result"
    }
   ],
   "source": [
    "df_decile = ltv.decile_stats(y_eval, y_pred)\n",
    "df_decile"
   ]
  },
  {
   "cell_type": "code",
   "execution_count": 31,
   "metadata": {
    "id": "DHdLqUqdL4hf"
   },
   "outputs": [
    {
     "data": {
      "text/plain": [
       "<matplotlib.legend.Legend at 0x72f5cc1b4f80>"
      ]
     },
     "execution_count": 31,
     "metadata": {},
     "output_type": "execute_result"
    },
    {
     "data": {
      "image/png": "[encoded data removed]",
      "text/plain": [
       "<Figure size 640x480 with 1 Axes>"
      ]
     },
     "metadata": {
      "image/png": {
       "height": 454,
       "width": 562
      }
     },
     "output_type": "display_data"
    }
   ],
   "source": [
    "ax = df_decile[['label_mean', 'pred_mean']].plot.bar(rot=0)\n",
    "\n",
    "ax.set_title('Decile Chart')\n",
    "ax.set_xlabel('Prediction bucket')\n",
    "ax.set_ylabel('Average bucket value')\n",
    "ax.legend(['Label', 'Prediction'], loc='upper left')"
   ]
  },
  {
   "cell_type": "markdown",
   "metadata": {
    "id": "nK6DQ89xU-d4"
   },
   "source": [
    "### Rank Correlation"
   ]
  },
  {
   "cell_type": "code",
   "execution_count": 32,
   "metadata": {
    "id": "I9qWGyY3WePz"
   },
   "outputs": [
    {
     "data": {
      "text/plain": [
       "np.float64(0.28770686700926495)"
      ]
     },
     "execution_count": 32,
     "metadata": {},
     "output_type": "execute_result"
    }
   ],
   "source": [
    "def spearmanr(x1: Sequence[float], x2: Sequence[float]) -> float:\n",
    "  \"\"\"Calculates spearmanr rank correlation coefficient.\n",
    "\n",
    "  See https://docs.scipy.org/doc/scipy/reference/stats.html.\n",
    "\n",
    "  Args:\n",
    "    x1: 1D array_like.\n",
    "    x2: 1D array_like.\n",
    "\n",
    "  Returns:\n",
    "    correlation: float.\n",
    "  \"\"\"\n",
    "  return stats.spearmanr(x1, x2, nan_policy='raise')[0]\n",
    "\n",
    "\n",
    "spearman_corr = spearmanr(y_eval, y_pred)\n",
    "spearman_corr"
   ]
  },
  {
   "cell_type": "markdown",
   "metadata": {
    "id": "-i_AbqhXcurk"
   },
   "source": [
    "### All metrics together"
   ]
  },
  {
   "cell_type": "code",
   "execution_count": 33,
   "metadata": {
    "id": "Umqg1-0Bc1HS"
   },
   "outputs": [
    {
     "name": "stderr",
     "output_type": "stream",
     "text": [
      "/tmp/ipykernel_68489/360493497.py:10: FutureWarning: Series.__getitem__ treating keys as positions is deprecated. In a future version, integer keys will always be treated as labels (consistent with DataFrame behavior). To access a value by position, use `ser.iloc[pos]`\n",
      "  'baseline_gini': gini['normalized'][1],\n",
      "/tmp/ipykernel_68489/360493497.py:11: FutureWarning: Series.__getitem__ treating keys as positions is deprecated. In a future version, integer keys will always be treated as labels (consistent with DataFrame behavior). To access a value by position, use `ser.iloc[pos]`\n",
      "  'gini': gini['normalized'][2],\n"
     ]
    }
   ],
   "source": [
    "df_metrics = pd.DataFrame(\n",
    "    {\n",
    "        'company': COMPANY,\n",
    "        'model': MODEL,\n",
    "        'loss': LOSS,\n",
    "        'label_mean': y_eval.mean(),\n",
    "        'pred_mean': y_pred.mean(),\n",
    "        'label_positive': np.mean(y_eval > 0),\n",
    "        'decile_mape': df_decile['decile_mape'].mean(),\n",
    "        'baseline_gini': gini['normalized'][1],\n",
    "        'gini': gini['normalized'][2],\n",
    "        'spearman_corr': spearman_corr,\n",
    "    },\n",
    "    index=[0])"
   ]
  },
  {
   "cell_type": "code",
   "execution_count": 34,
   "metadata": {
    "id": "1LV1Hs3xcxnd"
   },
   "outputs": [
    {
     "data": {
      "text/html": [
       "<div>\n",
       "<style scoped>\n",
       "    .dataframe tbody tr th:only-of-type {\n",
       "        vertical-align: middle;\n",
       "    }\n",
       "\n",
       "    .dataframe tbody tr th {\n",
       "        vertical-align: top;\n",
       "    }\n",
       "\n",
       "    .dataframe thead th {\n",
       "        text-align: right;\n",
       "    }\n",
       "</style>\n",
       "<table border=\"1\" class=\"dataframe\">\n",
       "  <thead>\n",
       "    <tr style=\"text-align: right;\">\n",
       "      <th></th>\n",
       "      <th>company</th>\n",
       "      <th>model</th>\n",
       "      <th>loss</th>\n",
       "      <th>label_mean</th>\n",
       "      <th>pred_mean</th>\n",
       "      <th>label_positive</th>\n",
       "      <th>decile_mape</th>\n",
       "      <th>baseline_gini</th>\n",
       "      <th>gini</th>\n",
       "      <th>spearman_corr</th>\n",
       "    </tr>\n",
       "  </thead>\n",
       "  <tbody>\n",
       "    <tr>\n",
       "      <th>0</th>\n",
       "      <td>103600030</td>\n",
       "      <td>linear</td>\n",
       "      <td>mse</td>\n",
       "      <td>39.295242</td>\n",
       "      <td>38.013298</td>\n",
       "      <td>0.774563</td>\n",
       "      <td>0.275684</td>\n",
       "      <td>0.410281</td>\n",
       "      <td>0.41047</td>\n",
       "      <td>0.287707</td>\n",
       "    </tr>\n",
       "  </tbody>\n",
       "</table>\n",
       "</div>"
      ],
      "text/plain": [
       "     company   model loss  label_mean  pred_mean  label_positive  decile_mape  \\\n",
       "0  103600030  linear  mse   39.295242  38.013298        0.774563     0.275684   \n",
       "\n",
       "   baseline_gini     gini  spearman_corr  \n",
       "0       0.410281  0.41047       0.287707  "
      ]
     },
     "execution_count": 34,
     "metadata": {},
     "output_type": "execute_result"
    }
   ],
   "source": [
    "df_metrics[[\n",
    "    'company',\n",
    "    'model',\n",
    "    'loss',\n",
    "    'label_mean',\n",
    "    'pred_mean',\n",
    "    'label_positive',\n",
    "    'decile_mape',\n",
    "    'baseline_gini',\n",
    "    'gini',\n",
    "    'spearman_corr',\n",
    "]]"
   ]
  },
  {
   "cell_type": "markdown",
   "metadata": {
    "id": "UVy6lYn4mSrj"
   },
   "source": [
    "## Save"
   ]
  },
  {
   "cell_type": "code",
   "execution_count": 35,
   "metadata": {
    "id": "mtkQ4mqUEFsb"
   },
   "outputs": [],
   "source": [
    "output_path = os.path.join(OUTPUT_CSV_FOLDER, COMPANY)"
   ]
  },
  {
   "cell_type": "code",
   "execution_count": 36,
   "metadata": {
    "id": "3qmLzJqOEFsm"
   },
   "outputs": [],
   "source": [
    "if not os.path.isdir(output_path):\n",
    "  os.makedirs(output_path)"
   ]
  },
  {
   "cell_type": "code",
   "execution_count": 37,
   "metadata": {
    "id": "61B5Zc_UEFsr"
   },
   "outputs": [],
   "source": [
    "output_file = os.path.join(output_path,\n",
    "                           '{}_regression_{}.csv'.format(MODEL, LOSS))"
   ]
  },
  {
   "cell_type": "code",
   "execution_count": 38,
   "metadata": {
    "id": "gqglbXfwEFsv"
   },
   "outputs": [],
   "source": [
    "df_metrics.to_csv(output_file, index=False)"
   ]
  }
 ],
 "metadata": {
  "colab": {
   "collapsed_sections": [],
   "last_runtime": {
    "build_target": "//learning/deepmind/public/tools/ml_python:ml_notebook",
    "kind": "private"
   },
   "name": "regression.ipynb",
   "provenance": []
  },
  "kernelspec": {
   "display_name": "Python 3 (ipykernel)",
   "language": "python",
   "name": "python3"
  },
  "language_info": {
   "codemirror_mode": {
    "name": "ipython",
    "version": 3
   },
   "file_extension": ".py",
   "mimetype": "text/x-python",
   "name": "python",
   "nbconvert_exporter": "python",
   "pygments_lexer": "ipython3",
   "version": "3.12.7"
  }
 },
 "nbformat": 4,
 "nbformat_minor": 4
}
