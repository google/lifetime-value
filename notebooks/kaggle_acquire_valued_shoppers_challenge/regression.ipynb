{
 "cells": [
  {
   "cell_type": "code",
   "execution_count": 1,
   "metadata": {
    "id": "5RoRxBv3bRjy"
   },
   "outputs": [],
   "source": [
    "#@title Copyright 2019 The Lifetime Value Authors.\n",
    "# Licensed under the Apache License, Version 2.0 (the \"License\");\n",
    "# you may not use this file except in compliance with the License.\n",
    "# You may obtain a copy of the License at\n",
    "#\n",
    "#     https://www.apache.org/licenses/LICENSE-2.0\n",
    "#\n",
    "# Unless required by applicable law or agreed to in writing, software\n",
    "# distributed under the License is distributed on an \"AS IS\" BASIS,\n",
    "# WITHOUT WARRANTIES OR CONDITIONS OF ANY KIND, either express or implied.\n",
    "# See the License for the specific language governing permissions and\n",
    "# limitations under the License.\n",
    "# ============================================================================"
   ]
  },
  {
   "cell_type": "markdown",
   "metadata": {
    "id": "2tkQUXmWhqRY"
   },
   "source": [
    "# Lifetime Value prediction for Kaggle Acquire Valued Customer Challenge"
   ]
  },
  {
   "cell_type": "markdown",
   "metadata": {
    "id": "Pw8bm9nV6YJ5"
   },
   "source": [
    "<table align=\"left\">\n",
    "  <td>\n",
    "    <a target=\"_blank\" href=\"https://colab.research.google.com/github/google/lifetime_value/blob/master/notebooks/kaggle_acquire_valued_shoppers_challenge/regression.ipynb\"><img src=\"https://www.tensorflow.org/images/colab_logo_32px.png\" />Run in Google Colab</a>\n",
    "  </td>\n",
    "  <td>\n",
    "    <a target=\"_blank\" href=\"https://github.com/google/lifetime_value/blob/master/notebooks/kaggle_acquire_valued_shoppers_challenge/regression.ipynb\"><img src=\"https://www.tensorflow.org/images/GitHub-Mark-32px.png\" />View source on GitHub</a>\n",
    "  </td>\n",
    "</table>"
   ]
  },
  {
   "cell_type": "code",
   "execution_count": 2,
   "metadata": {
    "id": "KObdQwyXH2mC"
   },
   "outputs": [
    {
     "name": "stderr",
     "output_type": "stream",
     "text": [
      "2024-11-29 19:03:40.106667: I tensorflow/core/util/port.cc:153] oneDNN custom operations are on. You may see slightly different numerical results due to floating-point round-off errors from different computation orders. To turn them off, set the environment variable `TF_ENABLE_ONEDNN_OPTS=0`.\n",
      "2024-11-29 19:03:40.122512: E external/local_xla/xla/stream_executor/cuda/cuda_fft.cc:477] Unable to register cuFFT factory: Attempting to register factory for plugin cuFFT when one has already been registered\n",
      "WARNING: All log messages before absl::InitializeLog() is called are written to STDERR\n",
      "E0000 00:00:1732907020.140579  137051 cuda_dnn.cc:8310] Unable to register cuDNN factory: Attempting to register factory for plugin cuDNN when one has already been registered\n",
      "E0000 00:00:1732907020.146217  137051 cuda_blas.cc:1418] Unable to register cuBLAS factory: Attempting to register factory for plugin cuBLAS when one has already been registered\n",
      "2024-11-29 19:03:40.164889: I tensorflow/core/platform/cpu_feature_guard.cc:210] This TensorFlow binary is optimized to use available CPU instructions in performance-critical operations.\n",
      "To enable the following instructions: AVX2 AVX512F AVX512_VNNI FMA, in other operations, rebuild TensorFlow with the appropriate compiler flags.\n"
     ]
    }
   ],
   "source": [
    "import os\n",
    "\n",
    "import numpy as np\n",
    "import pandas as pd\n",
    "from scipy import stats\n",
    "import seaborn as sns\n",
    "from sklearn import model_selection\n",
    "from sklearn import preprocessing\n",
    "import tensorflow as tf\n",
    "from tensorflow import keras\n",
    "from tensorflow.keras import backend as K\n",
    "import tensorflow_probability as tfp\n",
    "import tqdm\n",
    "from typing import Sequence\n",
    "\n",
    "# install and import ltv\n",
    "#!pip install -q git+https://github.com/google/lifetime_value\n",
    "import lifetime_value as ltv"
   ]
  },
  {
   "cell_type": "code",
   "execution_count": 3,
   "metadata": {
    "id": "K41RmAfNXtu_"
   },
   "outputs": [],
   "source": [
    "tfd = tfp.distributions\n",
    "%config InlineBackend.figure_format='retina'\n",
    "sns.set_style('whitegrid')\n",
    "pd.options.mode.chained_assignment = None  # default='warn'"
   ]
  },
  {
   "cell_type": "markdown",
   "metadata": {
    "id": "DoN-PRvNuIti"
   },
   "source": [
    "## Global variables"
   ]
  },
  {
   "cell_type": "code",
   "execution_count": 4,
   "metadata": {
    "id": "3GGpDbxd3S5L"
   },
   "outputs": [],
   "source": [
    "COMPANY = '103600030'  # @param { isTemplate: true, type: 'string'}\n",
    "LOSS = 'ziln'  # @param { isTemplate: true, type: 'string'} ['mse', 'ziln']\n",
    "MODEL = 'dnn'  # @param { isTemplate: true, type: 'string'} ['linear', 'dnn']\n",
    "LEARNING_RATE = 0.0002  # @param { isTemplate: true}\n",
    "EPOCHS = 400  # @param { isTemplate: true, type: 'integer'}\n",
    "DATA_FOLDER = './tmp/acquire-valued-shoppers-challenge' # @param { isTemplate: true, type: 'string'}\n",
    "OUTPUT_CSV_FOLDER = f'{DATA_FOLDER}/result'  # @param { isTemplate: true, type: 'string'}"
   ]
  },
  {
   "cell_type": "code",
   "execution_count": 5,
   "metadata": {
    "id": "UK9Y5NoMtm3X"
   },
   "outputs": [],
   "source": [
    "CATEGORICAL_FEATURES = ['chain', 'dept', 'category', 'brand', 'productmeasure']\n",
    "NUMERIC_FEATURES = ['log_calibration_value']\n",
    "\n",
    "ALL_FEATURES = CATEGORICAL_FEATURES + NUMERIC_FEATURES"
   ]
  },
  {
   "cell_type": "markdown",
   "metadata": {
    "id": "RzTaK6fFXMWT"
   },
   "source": [
    "## Data"
   ]
  },
  {
   "cell_type": "markdown",
   "metadata": {
    "id": "SFi0JMPu138h"
   },
   "source": [
    "### Download data"
   ]
  },
  {
   "cell_type": "markdown",
   "metadata": {
    "id": "krXMbrkVNtdN"
   },
   "source": [
    "Setup kaggle API correctly following https://www.kaggle.com/docs/api\n",
    "```\n",
    "%%shell\n",
    "mkdir ~/.kaggle\n",
    "echo \\{\\\"username\\\":\\\"{your kaggle username}\\\",\\\"key\\\":\\\"{your kaggle api key}\\\"\\} > ~/.kaggle/kaggle.json\n",
    "pip install kaggle\n",
    "```"
   ]
  },
  {
   "cell_type": "code",
   "execution_count": 6,
   "metadata": {},
   "outputs": [
    {
     "name": "stdout",
     "output_type": "stream",
     "text": [
      "env: DATA_FOLDER=./tmp/acquire-valued-shoppers-challenge\n"
     ]
    }
   ],
   "source": [
    "# Set it DATA_FOLDER as an environment variable\n",
    "%env DATA_FOLDER=$DATA_FOLDER"
   ]
  },
  {
   "cell_type": "code",
   "execution_count": 7,
   "metadata": {
    "id": "0gf4ipd-14x0"
   },
   "outputs": [
    {
     "name": "stdout",
     "output_type": "stream",
     "text": [
      "File already exists, no need to download.\n"
     ]
    }
   ],
   "source": [
    "%%bash\n",
    "if [ -e $DATA_FOLDER/transactions.csv ]\n",
    "then\n",
    "  echo \"File already exists, no need to download.\"\n",
    "else\n",
    "  rm -rf $DATA_FOLDER\n",
    "  mkdir -p $DATA_FOLDER\n",
    "  cd $DATA_FOLDER\n",
    "  kaggle competitions download -c acquire-valued-shoppers-challenge\n",
    "  echo \"Unzip file. This may take 10 min.\"\n",
    "  unzip acquire-valued-shoppers-challenge.zip transactions.csv.gz\n",
    "  gunzip transactions.csv.gz\n",
    "fi"
   ]
  },
  {
   "cell_type": "markdown",
   "metadata": {
    "id": "IT53azGsa2a2"
   },
   "source": [
    "### Load transaction csv"
   ]
  },
  {
   "cell_type": "code",
   "execution_count": 8,
   "metadata": {
    "id": "5tIMvE3dW1Ky"
   },
   "outputs": [],
   "source": [
    "def load_transaction_data(company):\n",
    "  all_data_filename = f'{DATA_FOLDER}/transactions.csv'\n",
    "  one_company_data_filename = f'{DATA_FOLDER}/transactions_company_{company}.csv'\n",
    "  if os.path.isfile(one_company_data_filename):\n",
    "    df = pd.read_csv(one_company_data_filename)\n",
    "  else:\n",
    "    data_list = []\n",
    "    chunksize = 10**6\n",
    "    # 350 iterations\n",
    "    for chunk in tqdm.tqdm(pd.read_csv(all_data_filename, chunksize=chunksize)):\n",
    "      data_list.append(chunk.query(\"company=={}\".format(company)))\n",
    "    df = pd.concat(data_list, axis=0)\n",
    "    df.to_csv(one_company_data_filename, index=None)\n",
    "  return df"
   ]
  },
  {
   "cell_type": "markdown",
   "metadata": {
    "id": "9ra4bfwCVwKn"
   },
   "source": [
    "### Preprocess data"
   ]
  },
  {
   "cell_type": "code",
   "execution_count": 9,
   "metadata": {
    "id": "PlJl5g9Delmi"
   },
   "outputs": [],
   "source": [
    "def preprocess(df):\n",
    "  df = df.query('purchaseamount>0')\n",
    "  df['date'] = pd.to_datetime(df['date'], format='%Y-%m-%d')\n",
    "  df['start_date'] = df.groupby('id')['date'].transform('min')\n",
    "\n",
    "  # Compute calibration values\n",
    "  calibration_value = (\n",
    "      df.query('date==start_date').groupby('id')\n",
    "      ['purchaseamount'].sum().reset_index())\n",
    "  calibration_value.columns = ['id', 'calibration_value']\n",
    "\n",
    "  # Compute holdout values\n",
    "  one_year_holdout_window_mask = (\n",
    "      (df['date'] > df['start_date']) &\n",
    "      (df['date'] <= df['start_date'] + np.timedelta64(365, 'D')))\n",
    "  holdout_value = (\n",
    "      df[one_year_holdout_window_mask].groupby('id')\n",
    "      ['purchaseamount'].sum().reset_index())\n",
    "  holdout_value.columns = ['id', 'holdout_value']\n",
    "\n",
    "  # Compute calibration attributes\n",
    "  calibration_attributes = (\n",
    "      df.query('date==start_date').sort_values(\n",
    "          'purchaseamount', ascending=False).groupby('id')[[\n",
    "              'chain', 'dept', 'category', 'brand', 'productmeasure'\n",
    "          ]].first().reset_index())\n",
    "\n",
    "  # Merge dataframes\n",
    "  customer_level_data = (\n",
    "      calibration_value.merge(calibration_attributes, how='left',\n",
    "                              on='id').merge(\n",
    "                                  holdout_value, how='left', on='id'))\n",
    "  customer_level_data['holdout_value'] = (\n",
    "      customer_level_data['holdout_value'].fillna(0.))\n",
    "  customer_level_data[CATEGORICAL_FEATURES] = (\n",
    "      customer_level_data[CATEGORICAL_FEATURES].fillna('UNKNOWN'))\n",
    "\n",
    "  # Specify data types\n",
    "  customer_level_data['log_calibration_value'] = (\n",
    "      np.log(customer_level_data['calibration_value']).astype('float32'))\n",
    "  customer_level_data['chain'] = (\n",
    "      customer_level_data['chain'].astype('category'))\n",
    "  customer_level_data['dept'] = (customer_level_data['dept'].astype('category'))\n",
    "  customer_level_data['brand'] = (\n",
    "      customer_level_data['brand'].astype('category'))\n",
    "  customer_level_data['category'] = (\n",
    "      customer_level_data['category'].astype('category'))\n",
    "  customer_level_data['label'] = (\n",
    "      customer_level_data['holdout_value'].astype('float32'))\n",
    "  return customer_level_data"
   ]
  },
  {
   "cell_type": "markdown",
   "metadata": {
    "id": "fP3q6uuMoXhA"
   },
   "source": [
    "### Load customer-level csv"
   ]
  },
  {
   "cell_type": "code",
   "execution_count": 10,
   "metadata": {
    "id": "X8B4zV1xoeMX"
   },
   "outputs": [],
   "source": [
    "def load_customer_level_csv(company):\n",
    "  customer_level_data_file = f'{DATA_FOLDER}/customer_level_data_company_{company}.csv'\n",
    "  if os.path.isfile(customer_level_data_file):\n",
    "    customer_level_data = pd.read_csv(customer_level_data_file)\n",
    "  else:\n",
    "    customer_level_data = preprocess(load_transaction_data(company))\n",
    "  for cat_col in CATEGORICAL_FEATURES:\n",
    "    customer_level_data[cat_col] = (\n",
    "        customer_level_data[cat_col].astype('category'))\n",
    "  for num_col in [\n",
    "      'log_calibration_value', 'calibration_value', 'holdout_value'\n",
    "  ]:\n",
    "    customer_level_data[num_col] = (\n",
    "        customer_level_data[num_col].astype('float32'))\n",
    "\n",
    "  return customer_level_data"
   ]
  },
  {
   "cell_type": "code",
   "execution_count": 11,
   "metadata": {
    "id": "88dVPdt5QWpu"
   },
   "outputs": [],
   "source": [
    "# Processes data. 350 iteration in total. May take 10min.\n",
    "customer_level_data = load_customer_level_csv(COMPANY)"
   ]
  },
  {
   "cell_type": "code",
   "execution_count": 12,
   "metadata": {},
   "outputs": [
    {
     "data": {
      "text/html": [
       "<div>\n",
       "<style scoped>\n",
       "    .dataframe tbody tr th:only-of-type {\n",
       "        vertical-align: middle;\n",
       "    }\n",
       "\n",
       "    .dataframe tbody tr th {\n",
       "        vertical-align: top;\n",
       "    }\n",
       "\n",
       "    .dataframe thead th {\n",
       "        text-align: right;\n",
       "    }\n",
       "</style>\n",
       "<table border=\"1\" class=\"dataframe\">\n",
       "  <thead>\n",
       "    <tr style=\"text-align: right;\">\n",
       "      <th></th>\n",
       "      <th>id</th>\n",
       "      <th>calibration_value</th>\n",
       "      <th>chain</th>\n",
       "      <th>dept</th>\n",
       "      <th>category</th>\n",
       "      <th>brand</th>\n",
       "      <th>productmeasure</th>\n",
       "      <th>holdout_value</th>\n",
       "      <th>log_calibration_value</th>\n",
       "      <th>label</th>\n",
       "    </tr>\n",
       "  </thead>\n",
       "  <tbody>\n",
       "    <tr>\n",
       "      <th>0</th>\n",
       "      <td>86246</td>\n",
       "      <td>4.98</td>\n",
       "      <td>205</td>\n",
       "      <td>26</td>\n",
       "      <td>2630</td>\n",
       "      <td>9787</td>\n",
       "      <td>CT</td>\n",
       "      <td>173.000000</td>\n",
       "      <td>1.605430</td>\n",
       "      <td>173.00</td>\n",
       "    </tr>\n",
       "    <tr>\n",
       "      <th>1</th>\n",
       "      <td>86252</td>\n",
       "      <td>6.84</td>\n",
       "      <td>205</td>\n",
       "      <td>26</td>\n",
       "      <td>2614</td>\n",
       "      <td>9878</td>\n",
       "      <td>CT</td>\n",
       "      <td>167.100006</td>\n",
       "      <td>1.922788</td>\n",
       "      <td>167.10</td>\n",
       "    </tr>\n",
       "    <tr>\n",
       "      <th>2</th>\n",
       "      <td>12262064</td>\n",
       "      <td>3.99</td>\n",
       "      <td>95</td>\n",
       "      <td>26</td>\n",
       "      <td>2614</td>\n",
       "      <td>9878</td>\n",
       "      <td>CT</td>\n",
       "      <td>2.490000</td>\n",
       "      <td>1.383791</td>\n",
       "      <td>2.49</td>\n",
       "    </tr>\n",
       "    <tr>\n",
       "      <th>3</th>\n",
       "      <td>12277270</td>\n",
       "      <td>1.99</td>\n",
       "      <td>95</td>\n",
       "      <td>26</td>\n",
       "      <td>2630</td>\n",
       "      <td>9787</td>\n",
       "      <td>CT</td>\n",
       "      <td>3.990000</td>\n",
       "      <td>0.688135</td>\n",
       "      <td>3.99</td>\n",
       "    </tr>\n",
       "    <tr>\n",
       "      <th>4</th>\n",
       "      <td>12332190</td>\n",
       "      <td>7.99</td>\n",
       "      <td>95</td>\n",
       "      <td>26</td>\n",
       "      <td>2634</td>\n",
       "      <td>4139</td>\n",
       "      <td>RL</td>\n",
       "      <td>96.360001</td>\n",
       "      <td>2.078191</td>\n",
       "      <td>96.36</td>\n",
       "    </tr>\n",
       "    <tr>\n",
       "      <th>...</th>\n",
       "      <td>...</td>\n",
       "      <td>...</td>\n",
       "      <td>...</td>\n",
       "      <td>...</td>\n",
       "      <td>...</td>\n",
       "      <td>...</td>\n",
       "      <td>...</td>\n",
       "      <td>...</td>\n",
       "      <td>...</td>\n",
       "      <td>...</td>\n",
       "    </tr>\n",
       "    <tr>\n",
       "      <th>225177</th>\n",
       "      <td>4821651378</td>\n",
       "      <td>6.99</td>\n",
       "      <td>46</td>\n",
       "      <td>26</td>\n",
       "      <td>2634</td>\n",
       "      <td>4139</td>\n",
       "      <td>RL</td>\n",
       "      <td>0.000000</td>\n",
       "      <td>1.944481</td>\n",
       "      <td>0.00</td>\n",
       "    </tr>\n",
       "    <tr>\n",
       "      <th>225178</th>\n",
       "      <td>4821703398</td>\n",
       "      <td>4.98</td>\n",
       "      <td>46</td>\n",
       "      <td>26</td>\n",
       "      <td>2634</td>\n",
       "      <td>4139</td>\n",
       "      <td>RL</td>\n",
       "      <td>0.000000</td>\n",
       "      <td>1.605430</td>\n",
       "      <td>0.00</td>\n",
       "    </tr>\n",
       "    <tr>\n",
       "      <th>225179</th>\n",
       "      <td>4836226081</td>\n",
       "      <td>24.99</td>\n",
       "      <td>46</td>\n",
       "      <td>26</td>\n",
       "      <td>2613</td>\n",
       "      <td>8583</td>\n",
       "      <td>CT</td>\n",
       "      <td>0.000000</td>\n",
       "      <td>3.218476</td>\n",
       "      <td>0.00</td>\n",
       "    </tr>\n",
       "    <tr>\n",
       "      <th>225180</th>\n",
       "      <td>4847628950</td>\n",
       "      <td>5.99</td>\n",
       "      <td>166</td>\n",
       "      <td>26</td>\n",
       "      <td>2632</td>\n",
       "      <td>8583</td>\n",
       "      <td>CT</td>\n",
       "      <td>3.490000</td>\n",
       "      <td>1.790091</td>\n",
       "      <td>3.49</td>\n",
       "    </tr>\n",
       "    <tr>\n",
       "      <th>225181</th>\n",
       "      <td>4847787712</td>\n",
       "      <td>6.49</td>\n",
       "      <td>46</td>\n",
       "      <td>26</td>\n",
       "      <td>2634</td>\n",
       "      <td>4139</td>\n",
       "      <td>RL</td>\n",
       "      <td>0.000000</td>\n",
       "      <td>1.870263</td>\n",
       "      <td>0.00</td>\n",
       "    </tr>\n",
       "  </tbody>\n",
       "</table>\n",
       "<p>225182 rows × 10 columns</p>\n",
       "</div>"
      ],
      "text/plain": [
       "                id  calibration_value chain dept category brand  \\\n",
       "0            86246               4.98   205   26     2630  9787   \n",
       "1            86252               6.84   205   26     2614  9878   \n",
       "2         12262064               3.99    95   26     2614  9878   \n",
       "3         12277270               1.99    95   26     2630  9787   \n",
       "4         12332190               7.99    95   26     2634  4139   \n",
       "...            ...                ...   ...  ...      ...   ...   \n",
       "225177  4821651378               6.99    46   26     2634  4139   \n",
       "225178  4821703398               4.98    46   26     2634  4139   \n",
       "225179  4836226081              24.99    46   26     2613  8583   \n",
       "225180  4847628950               5.99   166   26     2632  8583   \n",
       "225181  4847787712               6.49    46   26     2634  4139   \n",
       "\n",
       "       productmeasure  holdout_value  log_calibration_value   label  \n",
       "0                  CT     173.000000               1.605430  173.00  \n",
       "1                  CT     167.100006               1.922788  167.10  \n",
       "2                  CT       2.490000               1.383791    2.49  \n",
       "3                  CT       3.990000               0.688135    3.99  \n",
       "4                  RL      96.360001               2.078191   96.36  \n",
       "...               ...            ...                    ...     ...  \n",
       "225177             RL       0.000000               1.944481    0.00  \n",
       "225178             RL       0.000000               1.605430    0.00  \n",
       "225179             CT       0.000000               3.218476    0.00  \n",
       "225180             CT       3.490000               1.790091    3.49  \n",
       "225181             RL       0.000000               1.870263    0.00  \n",
       "\n",
       "[225182 rows x 10 columns]"
      ]
     },
     "execution_count": 12,
     "metadata": {},
     "output_type": "execute_result"
    }
   ],
   "source": [
    "customer_level_data"
   ]
  },
  {
   "cell_type": "markdown",
   "metadata": {
    "id": "09tqgvANtsil"
   },
   "source": [
    "We observe a mixture of zero and lognormal distribution of holdout value."
   ]
  },
  {
   "cell_type": "code",
   "execution_count": 13,
   "metadata": {
    "id": "BtF0z3VbmGev"
   },
   "outputs": [
    {
     "data": {
      "text/plain": [
       "<Axes: >"
      ]
     },
     "execution_count": 13,
     "metadata": {},
     "output_type": "execute_result"
    },
    {
     "data": {
      "image/png": "[encoded data removed]",
      "text/plain": [
       "<Figure size 640x480 with 1 Axes>"
      ]
     },
     "metadata": {
      "image/png": {
       "height": 413,
       "width": 570
      }
     },
     "output_type": "display_data"
    }
   ],
   "source": [
    "customer_level_data.label.apply(np.log1p).hist(bins=50)"
   ]
  },
  {
   "cell_type": "markdown",
   "metadata": {
    "id": "i4kN0uk4kZ68"
   },
   "source": [
    "### Make train/eval"
   ]
  },
  {
   "cell_type": "code",
   "execution_count": 14,
   "metadata": {
    "id": "nc0MLKx2yD72"
   },
   "outputs": [],
   "source": [
    "def linear_split(df):\n",
    "  # get_dummies preserves numeric features.\n",
    "  x = pd.get_dummies(df[ALL_FEATURES], drop_first=True).astype('float32').values\n",
    "  y = df['label'].values\n",
    "  y0 = df['calibration_value'].values\n",
    "\n",
    "  x_train, x_eval, y_train, y_eval, y0_train, y0_eval = (\n",
    "      model_selection.train_test_split(\n",
    "          x, y, y0, test_size=0.2, random_state=123))\n",
    "\n",
    "  return x_train, x_eval, y_train, y_eval, y0_eval"
   ]
  },
  {
   "cell_type": "code",
   "execution_count": 15,
   "metadata": {
    "id": "eAGbXp9ax042"
   },
   "outputs": [],
   "source": [
    "def dnn_split(df):\n",
    "  for key in CATEGORICAL_FEATURES:\n",
    "    encoder = preprocessing.LabelEncoder()\n",
    "    df[key] = encoder.fit_transform(df[key])\n",
    "\n",
    "  y0 = df['calibration_value'].values\n",
    "  df_train, df_eval, y0_train, y0_eval = model_selection.train_test_split(\n",
    "      df, y0, test_size=0.2, random_state=123)\n",
    "\n",
    "  def feature_dict(df):\n",
    "    features = {k: v.values for k, v in dict(df[CATEGORICAL_FEATURES]).items()}\n",
    "    features['numeric'] = df[NUMERIC_FEATURES].values\n",
    "    return features\n",
    "\n",
    "  x_train, y_train = feature_dict(df_train), df_train['label'].values\n",
    "  x_eval, y_eval = feature_dict(df_eval), df_eval['label'].values\n",
    "\n",
    "  return x_train, x_eval, y_train, y_eval, y0_eval"
   ]
  },
  {
   "cell_type": "markdown",
   "metadata": {
    "id": "lqbShWBzR4NE"
   },
   "source": [
    "## Model"
   ]
  },
  {
   "cell_type": "code",
   "execution_count": 16,
   "metadata": {
    "id": "RAOttr0W0yTM"
   },
   "outputs": [],
   "source": [
    "def linear_model(output_units):\n",
    "  return tf.keras.experimental.LinearModel(output_units)"
   ]
  },
  {
   "cell_type": "code",
   "execution_count": 17,
   "metadata": {
    "id": "Q7huREFbR7Dl"
   },
   "outputs": [],
   "source": [
    "def embedding_dim(x):\n",
    "  return int(x**.25) + 1\n",
    "\n",
    "\n",
    "def embedding_layer(vocab_size):\n",
    "  return tf.keras.Sequential([\n",
    "      tf.keras.layers.Embedding(\n",
    "          input_dim=vocab_size,\n",
    "          output_dim=embedding_dim(vocab_size)\n",
    "      ),\n",
    "      tf.keras.layers.Flatten(),\n",
    "  ])\n",
    "\n",
    "\n",
    "def dnn_model(output_units, df):\n",
    "  numeric_input = tf.keras.layers.Input(\n",
    "      shape=(len(NUMERIC_FEATURES),), name='numeric')\n",
    "\n",
    "  embedding_inputs = [\n",
    "      tf.keras.layers.Input(shape=(1,), name=key, dtype=np.int64)\n",
    "      for key in CATEGORICAL_FEATURES\n",
    "  ]\n",
    "\n",
    "  embedding_outputs = [\n",
    "      embedding_layer(vocab_size=df[key].nunique())(input)\n",
    "      for key, input in zip(CATEGORICAL_FEATURES, embedding_inputs)\n",
    "  ]\n",
    "\n",
    "  deep_input = tf.keras.layers.concatenate([numeric_input] + embedding_outputs)\n",
    "  deep_model = tf.keras.Sequential([\n",
    "      tf.keras.layers.Dense(64, activation='relu'),\n",
    "      tf.keras.layers.Dense(32, activation='relu'),\n",
    "      tf.keras.layers.Dense(output_units),\n",
    "  ])\n",
    "  return tf.keras.Model(\n",
    "      inputs=[numeric_input] + embedding_inputs, outputs=deep_model(deep_input))"
   ]
  },
  {
   "cell_type": "markdown",
   "metadata": {
    "id": "U8l-KzZ12fbK"
   },
   "source": [
    "### Train"
   ]
  },
  {
   "cell_type": "code",
   "execution_count": 18,
   "metadata": {
    "id": "L3HzXsj61uy3"
   },
   "outputs": [],
   "source": [
    "if LOSS == 'mse':\n",
    "  loss = keras.losses.MeanSquaredError()\n",
    "  output_units = 1\n",
    "\n",
    "if LOSS == 'ziln':\n",
    "  loss = ltv.zero_inflated_lognormal_loss\n",
    "  output_units = 3"
   ]
  },
  {
   "cell_type": "code",
   "execution_count": 19,
   "metadata": {
    "id": "0pNM4q5m19Dv"
   },
   "outputs": [
    {
     "name": "stderr",
     "output_type": "stream",
     "text": [
      "I0000 00:00:1732907022.871052  137051 gpu_device.cc:2022] Created device /job:localhost/replica:0/task:0/device:GPU:0 with 21879 MB memory:  -> device: 0, name: NVIDIA RTX A5000, pci bus id: 0000:73:00.0, compute capability: 8.6\n"
     ]
    }
   ],
   "source": [
    "if MODEL == 'linear':\n",
    "  x_train, x_eval, y_train, y_eval, y0_eval = linear_split(customer_level_data)\n",
    "  model = linear_model(output_units)\n",
    "\n",
    "if MODEL == 'dnn':\n",
    "  x_train, x_eval, y_train, y_eval, y0_eval = dnn_split(customer_level_data)\n",
    "  model = dnn_model(output_units, customer_level_data)"
   ]
  },
  {
   "cell_type": "code",
   "execution_count": 20,
   "metadata": {
    "id": "Un-yJPHp31gp"
   },
   "outputs": [],
   "source": [
    "model.compile(loss=loss, optimizer=keras.optimizers.Adam(learning_rate=LEARNING_RATE))"
   ]
  },
  {
   "cell_type": "code",
   "execution_count": 21,
   "metadata": {
    "id": "_GQ-RlIAfT62"
   },
   "outputs": [],
   "source": [
    "callbacks = [\n",
    "    tf.keras.callbacks.ReduceLROnPlateau(monitor='val_loss', min_lr=1e-6),\n",
    "    tf.keras.callbacks.EarlyStopping(monitor='val_loss', patience=10),\n",
    "]"
   ]
  },
  {
   "cell_type": "code",
   "execution_count": 22,
   "metadata": {
    "id": "-BjnHV7MWhK1"
   },
   "outputs": [
    {
     "name": "stdout",
     "output_type": "stream",
     "text": [
      "Epoch 1/400\n"
     ]
    },
    {
     "name": "stderr",
     "output_type": "stream",
     "text": [
      "/home/reza/miniconda3/envs/clv-google/lib/python3.12/site-packages/keras/src/models/functional.py:225: UserWarning: The structure of `inputs` doesn't match the expected structure: ['numeric', 'chain', 'dept', 'category', 'brand', 'productmeasure']. Received: the structure of inputs={'chain': '*', 'dept': '*', 'category': '*', 'brand': '*', 'productmeasure': '*', 'numeric': '*'}\n",
      "  warnings.warn(\n",
      "WARNING: All log messages before absl::InitializeLog() is called are written to STDERR\n",
      "I0000 00:00:1732907025.374048  137253 service.cc:148] XLA service 0x79e9580040b0 initialized for platform CUDA (this does not guarantee that XLA will be used). Devices:\n",
      "I0000 00:00:1732907025.374094  137253 service.cc:156]   StreamExecutor device (0): NVIDIA RTX A5000, Compute Capability 8.6\n",
      "2024-11-29 19:03:45.423596: I tensorflow/compiler/mlir/tensorflow/utils/dump_mlir_util.cc:268] disabling MLIR crash reproducer, set env var `MLIR_CRASH_REPRODUCER_DIRECTORY` to enable.\n",
      "I0000 00:00:1732907025.602007  137253 cuda_dnn.cc:529] Loaded cuDNN version 90300\n",
      "2024-11-29 19:03:45.658470: W external/local_xla/xla/service/gpu/nvptx_compiler.cc:930] The NVIDIA driver's CUDA version is 12.4 which is older than the PTX compiler version 12.5.82. Because the driver is older than the PTX compiler version, XLA is disabling parallel compilation, which may slow down compilation. You should update your NVIDIA driver or use the NVIDIA-provided CUDA forward compatibility packages.\n",
      "2024-11-29 19:03:46.582203: I external/local_xla/xla/stream_executor/cuda/cuda_asm_compiler.cc:397] ptxas warning : Registers are spilled to local memory in function 'gemm_fusion_dot_1172', 188 bytes spill stores, 188 bytes spill loads\n",
      "\n",
      "2024-11-29 19:03:46.670958: I external/local_xla/xla/stream_executor/cuda/cuda_asm_compiler.cc:397] ptxas warning : Registers are spilled to local memory in function 'gemm_fusion_dot_1193', 28 bytes spill stores, 28 bytes spill loads\n",
      "\n",
      "2024-11-29 19:03:46.907340: I external/local_xla/xla/stream_executor/cuda/cuda_asm_compiler.cc:397] ptxas warning : Registers are spilled to local memory in function 'gemm_fusion_dot_1193', 464 bytes spill stores, 468 bytes spill loads\n",
      "\n",
      "I0000 00:00:1732907027.852407  137253 device_compiler.h:188] Compiled cluster using XLA!  This line is logged at most once for the lifetime of the process.\n",
      "2024-11-29 19:03:49.390982: I external/local_xla/xla/stream_executor/cuda/cuda_asm_compiler.cc:397] ptxas warning : Registers are spilled to local memory in function 'gemm_fusion_dot_1193', 160 bytes spill stores, 160 bytes spill loads\n",
      "\n",
      "2024-11-29 19:03:49.450447: I external/local_xla/xla/stream_executor/cuda/cuda_asm_compiler.cc:397] ptxas warning : Registers are spilled to local memory in function 'gemm_fusion_dot_1172', 304 bytes spill stores, 308 bytes spill loads\n",
      "\n",
      "2024-11-29 19:03:49.710026: I external/local_xla/xla/stream_executor/cuda/cuda_asm_compiler.cc:397] ptxas warning : Registers are spilled to local memory in function 'gemm_fusion_dot_1193', 604 bytes spill stores, 608 bytes spill loads\n",
      "\n"
     ]
    },
    {
     "name": "stdout",
     "output_type": "stream",
     "text": [
      "176/176 - 8s - 46ms/step - loss: 7.7705 - val_loss: 5.5634 - learning_rate: 2.0000e-04\n",
      "Epoch 2/400\n",
      "176/176 - 0s - 2ms/step - loss: 4.9369 - val_loss: 4.4667 - learning_rate: 2.0000e-04\n",
      "Epoch 3/400\n",
      "176/176 - 0s - 2ms/step - loss: 4.2947 - val_loss: 4.2417 - learning_rate: 2.0000e-04\n",
      "Epoch 4/400\n",
      "176/176 - 0s - 2ms/step - loss: 4.2264 - val_loss: 4.2222 - learning_rate: 2.0000e-04\n",
      "Epoch 5/400\n",
      "176/176 - 0s - 2ms/step - loss: 4.2130 - val_loss: 4.2123 - learning_rate: 2.0000e-04\n",
      "Epoch 6/400\n",
      "176/176 - 0s - 2ms/step - loss: 4.2056 - val_loss: 4.2064 - learning_rate: 2.0000e-04\n",
      "Epoch 7/400\n",
      "176/176 - 0s - 2ms/step - loss: 4.2009 - val_loss: 4.2024 - learning_rate: 2.0000e-04\n",
      "Epoch 8/400\n",
      "176/176 - 0s - 2ms/step - loss: 4.1979 - val_loss: 4.1998 - learning_rate: 2.0000e-04\n",
      "Epoch 9/400\n",
      "176/176 - 0s - 2ms/step - loss: 4.1956 - val_loss: 4.1980 - learning_rate: 2.0000e-04\n",
      "Epoch 10/400\n",
      "176/176 - 0s - 2ms/step - loss: 4.1940 - val_loss: 4.1963 - learning_rate: 2.0000e-04\n",
      "Epoch 11/400\n",
      "176/176 - 0s - 2ms/step - loss: 4.1928 - val_loss: 4.1952 - learning_rate: 2.0000e-04\n",
      "Epoch 12/400\n",
      "176/176 - 0s - 2ms/step - loss: 4.1920 - val_loss: 4.1943 - learning_rate: 2.0000e-04\n",
      "Epoch 13/400\n",
      "176/176 - 0s - 2ms/step - loss: 4.1913 - val_loss: 4.1939 - learning_rate: 2.0000e-04\n",
      "Epoch 14/400\n",
      "176/176 - 0s - 2ms/step - loss: 4.1908 - val_loss: 4.1939 - learning_rate: 2.0000e-04\n",
      "Epoch 15/400\n",
      "176/176 - 0s - 2ms/step - loss: 4.1905 - val_loss: 4.1929 - learning_rate: 2.0000e-04\n",
      "Epoch 16/400\n",
      "176/176 - 0s - 2ms/step - loss: 4.1901 - val_loss: 4.1927 - learning_rate: 2.0000e-04\n",
      "Epoch 17/400\n",
      "176/176 - 0s - 2ms/step - loss: 4.1899 - val_loss: 4.1924 - learning_rate: 2.0000e-04\n",
      "Epoch 18/400\n",
      "176/176 - 0s - 2ms/step - loss: 4.1897 - val_loss: 4.1926 - learning_rate: 2.0000e-04\n",
      "Epoch 19/400\n",
      "176/176 - 0s - 2ms/step - loss: 4.1896 - val_loss: 4.1922 - learning_rate: 2.0000e-04\n",
      "Epoch 20/400\n",
      "176/176 - 0s - 2ms/step - loss: 4.1895 - val_loss: 4.1919 - learning_rate: 2.0000e-04\n",
      "Epoch 21/400\n",
      "176/176 - 0s - 2ms/step - loss: 4.1894 - val_loss: 4.1921 - learning_rate: 2.0000e-04\n",
      "Epoch 22/400\n",
      "176/176 - 0s - 2ms/step - loss: 4.1893 - val_loss: 4.1919 - learning_rate: 2.0000e-04\n",
      "Epoch 23/400\n",
      "176/176 - 0s - 2ms/step - loss: 4.1892 - val_loss: 4.1916 - learning_rate: 2.0000e-04\n",
      "Epoch 24/400\n",
      "176/176 - 0s - 1ms/step - loss: 4.1891 - val_loss: 4.1918 - learning_rate: 2.0000e-04\n",
      "Epoch 25/400\n",
      "176/176 - 0s - 2ms/step - loss: 4.1891 - val_loss: 4.1917 - learning_rate: 2.0000e-04\n",
      "Epoch 26/400\n",
      "176/176 - 0s - 2ms/step - loss: 4.1890 - val_loss: 4.1922 - learning_rate: 2.0000e-04\n",
      "Epoch 27/400\n",
      "176/176 - 0s - 2ms/step - loss: 4.1889 - val_loss: 4.1916 - learning_rate: 2.0000e-04\n",
      "Epoch 28/400\n",
      "176/176 - 0s - 2ms/step - loss: 4.1889 - val_loss: 4.1919 - learning_rate: 2.0000e-04\n",
      "Epoch 29/400\n",
      "176/176 - 0s - 2ms/step - loss: 4.1888 - val_loss: 4.1916 - learning_rate: 2.0000e-04\n",
      "Epoch 30/400\n",
      "176/176 - 0s - 2ms/step - loss: 4.1888 - val_loss: 4.1915 - learning_rate: 2.0000e-04\n",
      "Epoch 31/400\n",
      "176/176 - 0s - 2ms/step - loss: 4.1888 - val_loss: 4.1914 - learning_rate: 2.0000e-04\n",
      "Epoch 32/400\n",
      "176/176 - 0s - 2ms/step - loss: 4.1887 - val_loss: 4.1915 - learning_rate: 2.0000e-04\n",
      "Epoch 33/400\n",
      "176/176 - 0s - 2ms/step - loss: 4.1887 - val_loss: 4.1918 - learning_rate: 2.0000e-04\n",
      "Epoch 34/400\n",
      "176/176 - 0s - 2ms/step - loss: 4.1885 - val_loss: 4.1912 - learning_rate: 2.0000e-04\n",
      "Epoch 35/400\n",
      "176/176 - 0s - 2ms/step - loss: 4.1885 - val_loss: 4.1911 - learning_rate: 2.0000e-04\n",
      "Epoch 36/400\n",
      "176/176 - 0s - 2ms/step - loss: 4.1885 - val_loss: 4.1909 - learning_rate: 2.0000e-04\n",
      "Epoch 37/400\n",
      "176/176 - 0s - 2ms/step - loss: 4.1885 - val_loss: 4.1910 - learning_rate: 2.0000e-04\n",
      "Epoch 38/400\n",
      "176/176 - 0s - 2ms/step - loss: 4.1883 - val_loss: 4.1907 - learning_rate: 2.0000e-04\n",
      "Epoch 39/400\n",
      "176/176 - 0s - 2ms/step - loss: 4.1883 - val_loss: 4.1908 - learning_rate: 2.0000e-04\n",
      "Epoch 40/400\n",
      "176/176 - 0s - 2ms/step - loss: 4.1884 - val_loss: 4.1907 - learning_rate: 2.0000e-04\n",
      "Epoch 41/400\n",
      "176/176 - 0s - 2ms/step - loss: 4.1882 - val_loss: 4.1911 - learning_rate: 2.0000e-04\n",
      "Epoch 42/400\n",
      "176/176 - 0s - 2ms/step - loss: 4.1882 - val_loss: 4.1911 - learning_rate: 2.0000e-04\n",
      "Epoch 43/400\n",
      "176/176 - 0s - 2ms/step - loss: 4.1882 - val_loss: 4.1912 - learning_rate: 2.0000e-04\n",
      "Epoch 44/400\n",
      "176/176 - 0s - 2ms/step - loss: 4.1882 - val_loss: 4.1904 - learning_rate: 2.0000e-04\n",
      "Epoch 45/400\n",
      "176/176 - 0s - 2ms/step - loss: 4.1880 - val_loss: 4.1907 - learning_rate: 2.0000e-04\n",
      "Epoch 46/400\n",
      "176/176 - 0s - 2ms/step - loss: 4.1880 - val_loss: 4.1913 - learning_rate: 2.0000e-04\n",
      "Epoch 47/400\n",
      "176/176 - 0s - 2ms/step - loss: 4.1880 - val_loss: 4.1904 - learning_rate: 2.0000e-04\n",
      "Epoch 48/400\n",
      "176/176 - 0s - 2ms/step - loss: 4.1880 - val_loss: 4.1911 - learning_rate: 2.0000e-04\n",
      "Epoch 49/400\n",
      "176/176 - 0s - 2ms/step - loss: 4.1881 - val_loss: 4.1904 - learning_rate: 2.0000e-04\n",
      "Epoch 50/400\n",
      "176/176 - 0s - 2ms/step - loss: 4.1879 - val_loss: 4.1906 - learning_rate: 2.0000e-04\n",
      "Epoch 51/400\n",
      "176/176 - 0s - 2ms/step - loss: 4.1879 - val_loss: 4.1902 - learning_rate: 2.0000e-04\n",
      "Epoch 52/400\n",
      "176/176 - 0s - 2ms/step - loss: 4.1878 - val_loss: 4.1903 - learning_rate: 2.0000e-04\n",
      "Epoch 53/400\n",
      "176/176 - 0s - 2ms/step - loss: 4.1877 - val_loss: 4.1903 - learning_rate: 2.0000e-04\n",
      "Epoch 54/400\n",
      "176/176 - 0s - 2ms/step - loss: 4.1878 - val_loss: 4.1903 - learning_rate: 2.0000e-04\n",
      "Epoch 55/400\n",
      "176/176 - 0s - 2ms/step - loss: 4.1878 - val_loss: 4.1906 - learning_rate: 2.0000e-04\n",
      "Epoch 56/400\n",
      "176/176 - 0s - 2ms/step - loss: 4.1878 - val_loss: 4.1900 - learning_rate: 2.0000e-04\n",
      "Epoch 57/400\n",
      "176/176 - 0s - 2ms/step - loss: 4.1877 - val_loss: 4.1900 - learning_rate: 2.0000e-04\n",
      "Epoch 58/400\n",
      "176/176 - 0s - 2ms/step - loss: 4.1876 - val_loss: 4.1901 - learning_rate: 2.0000e-04\n",
      "Epoch 59/400\n",
      "176/176 - 0s - 2ms/step - loss: 4.1877 - val_loss: 4.1915 - learning_rate: 2.0000e-04\n",
      "Epoch 60/400\n",
      "176/176 - 0s - 2ms/step - loss: 4.1876 - val_loss: 4.1901 - learning_rate: 2.0000e-04\n",
      "Epoch 61/400\n",
      "176/176 - 0s - 2ms/step - loss: 4.1877 - val_loss: 4.1901 - learning_rate: 2.0000e-04\n",
      "Epoch 62/400\n",
      "176/176 - 0s - 2ms/step - loss: 4.1876 - val_loss: 4.1902 - learning_rate: 2.0000e-04\n",
      "Epoch 63/400\n",
      "176/176 - 0s - 2ms/step - loss: 4.1876 - val_loss: 4.1901 - learning_rate: 2.0000e-04\n",
      "Epoch 64/400\n",
      "176/176 - 0s - 2ms/step - loss: 4.1876 - val_loss: 4.1898 - learning_rate: 2.0000e-04\n",
      "Epoch 65/400\n",
      "176/176 - 0s - 2ms/step - loss: 4.1875 - val_loss: 4.1907 - learning_rate: 2.0000e-04\n",
      "Epoch 66/400\n",
      "176/176 - 0s - 2ms/step - loss: 4.1875 - val_loss: 4.1905 - learning_rate: 2.0000e-04\n",
      "Epoch 67/400\n",
      "176/176 - 0s - 2ms/step - loss: 4.1874 - val_loss: 4.1902 - learning_rate: 2.0000e-04\n",
      "Epoch 68/400\n",
      "176/176 - 0s - 2ms/step - loss: 4.1874 - val_loss: 4.1901 - learning_rate: 2.0000e-04\n",
      "Epoch 69/400\n",
      "176/176 - 0s - 2ms/step - loss: 4.1875 - val_loss: 4.1898 - learning_rate: 2.0000e-04\n",
      "Epoch 70/400\n",
      "176/176 - 0s - 2ms/step - loss: 4.1874 - val_loss: 4.1901 - learning_rate: 2.0000e-04\n",
      "Epoch 71/400\n",
      "176/176 - 0s - 2ms/step - loss: 4.1873 - val_loss: 4.1900 - learning_rate: 2.0000e-04\n",
      "Epoch 72/400\n",
      "176/176 - 0s - 2ms/step - loss: 4.1874 - val_loss: 4.1899 - learning_rate: 2.0000e-04\n",
      "Epoch 73/400\n",
      "176/176 - 0s - 2ms/step - loss: 4.1873 - val_loss: 4.1898 - learning_rate: 2.0000e-04\n",
      "Epoch 74/400\n",
      "176/176 - 0s - 2ms/step - loss: 4.1875 - val_loss: 4.1898 - learning_rate: 2.0000e-04\n",
      "Epoch 75/400\n",
      "176/176 - 0s - 2ms/step - loss: 4.1869 - val_loss: 4.1896 - learning_rate: 2.0000e-05\n",
      "Epoch 76/400\n",
      "176/176 - 0s - 2ms/step - loss: 4.1869 - val_loss: 4.1896 - learning_rate: 2.0000e-05\n",
      "Epoch 77/400\n",
      "176/176 - 0s - 2ms/step - loss: 4.1869 - val_loss: 4.1897 - learning_rate: 2.0000e-05\n",
      "Epoch 78/400\n",
      "176/176 - 0s - 2ms/step - loss: 4.1869 - val_loss: 4.1896 - learning_rate: 2.0000e-05\n",
      "Epoch 79/400\n",
      "176/176 - 0s - 2ms/step - loss: 4.1868 - val_loss: 4.1896 - learning_rate: 2.0000e-05\n",
      "Epoch 80/400\n",
      "176/176 - 0s - 2ms/step - loss: 4.1869 - val_loss: 4.1896 - learning_rate: 2.0000e-05\n",
      "Epoch 81/400\n",
      "176/176 - 0s - 2ms/step - loss: 4.1868 - val_loss: 4.1896 - learning_rate: 2.0000e-05\n",
      "Epoch 82/400\n",
      "176/176 - 0s - 2ms/step - loss: 4.1869 - val_loss: 4.1896 - learning_rate: 2.0000e-05\n",
      "Epoch 83/400\n",
      "176/176 - 0s - 2ms/step - loss: 4.1869 - val_loss: 4.1896 - learning_rate: 2.0000e-05\n",
      "Epoch 84/400\n",
      "176/176 - 0s - 2ms/step - loss: 4.1868 - val_loss: 4.1897 - learning_rate: 2.0000e-05\n",
      "Epoch 85/400\n",
      "176/176 - 0s - 2ms/step - loss: 4.1869 - val_loss: 4.1896 - learning_rate: 2.0000e-05\n",
      "Epoch 86/400\n",
      "176/176 - 0s - 2ms/step - loss: 4.1868 - val_loss: 4.1896 - learning_rate: 2.0000e-06\n",
      "Epoch 87/400\n",
      "176/176 - 0s - 2ms/step - loss: 4.1868 - val_loss: 4.1896 - learning_rate: 2.0000e-06\n",
      "Epoch 88/400\n",
      "176/176 - 0s - 2ms/step - loss: 4.1868 - val_loss: 4.1896 - learning_rate: 2.0000e-06\n",
      "Epoch 89/400\n",
      "176/176 - 0s - 2ms/step - loss: 4.1868 - val_loss: 4.1896 - learning_rate: 2.0000e-06\n",
      "Epoch 90/400\n",
      "176/176 - 0s - 2ms/step - loss: 4.1868 - val_loss: 4.1896 - learning_rate: 2.0000e-06\n",
      "Epoch 91/400\n",
      "176/176 - 0s - 2ms/step - loss: 4.1868 - val_loss: 4.1896 - learning_rate: 2.0000e-06\n",
      "Epoch 92/400\n",
      "176/176 - 0s - 2ms/step - loss: 4.1868 - val_loss: 4.1896 - learning_rate: 2.0000e-06\n",
      "Epoch 93/400\n",
      "176/176 - 0s - 2ms/step - loss: 4.1868 - val_loss: 4.1896 - learning_rate: 2.0000e-06\n",
      "Epoch 94/400\n",
      "176/176 - 0s - 2ms/step - loss: 4.1868 - val_loss: 4.1896 - learning_rate: 2.0000e-06\n",
      "Epoch 95/400\n",
      "176/176 - 0s - 2ms/step - loss: 4.1868 - val_loss: 4.1896 - learning_rate: 2.0000e-06\n",
      "Epoch 96/400\n",
      "176/176 - 0s - 2ms/step - loss: 4.1868 - val_loss: 4.1896 - learning_rate: 1.0000e-06\n",
      "Epoch 97/400\n",
      "176/176 - 0s - 2ms/step - loss: 4.1868 - val_loss: 4.1896 - learning_rate: 1.0000e-06\n",
      "Epoch 98/400\n",
      "176/176 - 0s - 2ms/step - loss: 4.1868 - val_loss: 4.1896 - learning_rate: 1.0000e-06\n"
     ]
    }
   ],
   "source": [
    "# y array needs to have a two dimensional shape to work with ziln loss function\n",
    "# so we use [:, np.newaxis] to make the data two-dimensional for the fit function call\n",
    "history = model.fit(\n",
    "    x=x_train,\n",
    "    y=y_train[:, np.newaxis],\n",
    "    batch_size=1024,\n",
    "    epochs=EPOCHS,\n",
    "    verbose=2,\n",
    "    callbacks=callbacks,\n",
    "    validation_data=(x_eval, y_eval[:, np.newaxis])).history"
   ]
  },
  {
   "cell_type": "code",
   "execution_count": 23,
   "metadata": {
    "id": "mAJGs5SebDeN"
   },
   "outputs": [
    {
     "data": {
      "text/plain": [
       "<Axes: >"
      ]
     },
     "execution_count": 23,
     "metadata": {},
     "output_type": "execute_result"
    },
    {
     "data": {
      "image/png": "[encoded data removed]",
      "text/plain": [
       "<Figure size 640x480 with 1 Axes>"
      ]
     },
     "metadata": {
      "image/png": {
       "height": 418,
       "width": 561
      }
     },
     "output_type": "display_data"
    }
   ],
   "source": [
    "pd.DataFrame(history)[['loss', 'val_loss']][2:].plot()"
   ]
  },
  {
   "cell_type": "markdown",
   "metadata": {
    "id": "bHaiutmy2aYm"
   },
   "source": [
    "### Eval"
   ]
  },
  {
   "cell_type": "code",
   "execution_count": 24,
   "metadata": {
    "id": "l6E_5gYAYQMw"
   },
   "outputs": [
    {
     "name": "stderr",
     "output_type": "stream",
     "text": [
      "/home/reza/miniconda3/envs/clv-google/lib/python3.12/site-packages/keras/src/models/functional.py:225: UserWarning: The structure of `inputs` doesn't match the expected structure: ['numeric', 'chain', 'dept', 'category', 'brand', 'productmeasure']. Received: the structure of inputs={'chain': '*', 'dept': '*', 'category': '*', 'brand': '*', 'productmeasure': '*', 'numeric': '*'}\n",
      "  warnings.warn(\n"
     ]
    },
    {
     "name": "stdout",
     "output_type": "stream",
     "text": [
      "\u001b[1m44/44\u001b[0m \u001b[32m━━━━━━━━━━━━━━━━━━━━\u001b[0m\u001b[37m\u001b[0m \u001b[1m1s\u001b[0m 9ms/step \n"
     ]
    }
   ],
   "source": [
    "if LOSS == 'mse':\n",
    "  y_pred = model.predict(x=x_eval, batch_size=1024).flatten()\n",
    "\n",
    "if LOSS == 'ziln':\n",
    "  logits = model.predict(x=x_eval, batch_size=1024)\n",
    "  y_pred = ltv.zero_inflated_lognormal_pred(logits).numpy().flatten()"
   ]
  },
  {
   "cell_type": "code",
   "execution_count": 25,
   "metadata": {
    "id": "Mm28qKSGXNyr"
   },
   "outputs": [
    {
     "data": {
      "text/html": [
       "<div>\n",
       "<style scoped>\n",
       "    .dataframe tbody tr th:only-of-type {\n",
       "        vertical-align: middle;\n",
       "    }\n",
       "\n",
       "    .dataframe tbody tr th {\n",
       "        vertical-align: top;\n",
       "    }\n",
       "\n",
       "    .dataframe thead th {\n",
       "        text-align: right;\n",
       "    }\n",
       "</style>\n",
       "<table border=\"1\" class=\"dataframe\">\n",
       "  <thead>\n",
       "    <tr style=\"text-align: right;\">\n",
       "      <th></th>\n",
       "      <th>y_true</th>\n",
       "      <th>y_pred</th>\n",
       "    </tr>\n",
       "  </thead>\n",
       "  <tbody>\n",
       "    <tr>\n",
       "      <th>0</th>\n",
       "      <td>1.57</td>\n",
       "      <td>18.333229</td>\n",
       "    </tr>\n",
       "    <tr>\n",
       "      <th>1</th>\n",
       "      <td>23.16</td>\n",
       "      <td>28.855919</td>\n",
       "    </tr>\n",
       "    <tr>\n",
       "      <th>2</th>\n",
       "      <td>252.28</td>\n",
       "      <td>164.311844</td>\n",
       "    </tr>\n",
       "    <tr>\n",
       "      <th>3</th>\n",
       "      <td>5.49</td>\n",
       "      <td>49.795326</td>\n",
       "    </tr>\n",
       "    <tr>\n",
       "      <th>4</th>\n",
       "      <td>3.69</td>\n",
       "      <td>49.795326</td>\n",
       "    </tr>\n",
       "    <tr>\n",
       "      <th>5</th>\n",
       "      <td>2.48</td>\n",
       "      <td>18.333229</td>\n",
       "    </tr>\n",
       "    <tr>\n",
       "      <th>6</th>\n",
       "      <td>45.31</td>\n",
       "      <td>50.702831</td>\n",
       "    </tr>\n",
       "    <tr>\n",
       "      <th>7</th>\n",
       "      <td>30.95</td>\n",
       "      <td>18.333229</td>\n",
       "    </tr>\n",
       "    <tr>\n",
       "      <th>8</th>\n",
       "      <td>11.94</td>\n",
       "      <td>18.333229</td>\n",
       "    </tr>\n",
       "    <tr>\n",
       "      <th>9</th>\n",
       "      <td>40.55</td>\n",
       "      <td>49.795326</td>\n",
       "    </tr>\n",
       "  </tbody>\n",
       "</table>\n",
       "</div>"
      ],
      "text/plain": [
       "   y_true      y_pred\n",
       "0    1.57   18.333229\n",
       "1   23.16   28.855919\n",
       "2  252.28  164.311844\n",
       "3    5.49   49.795326\n",
       "4    3.69   49.795326\n",
       "5    2.48   18.333229\n",
       "6   45.31   50.702831\n",
       "7   30.95   18.333229\n",
       "8   11.94   18.333229\n",
       "9   40.55   49.795326"
      ]
     },
     "execution_count": 25,
     "metadata": {},
     "output_type": "execute_result"
    }
   ],
   "source": [
    "df_pred = pd.DataFrame({\n",
    "    'y_true': y_eval,\n",
    "    'y_pred': y_pred,\n",
    "})\n",
    "df_pred.head(10)"
   ]
  },
  {
   "cell_type": "markdown",
   "metadata": {
    "id": "zROhsEWxnA5u"
   },
   "source": [
    "### Gini Coefficient"
   ]
  },
  {
   "cell_type": "code",
   "execution_count": 26,
   "metadata": {
    "id": "gRsJ7y-632h_"
   },
   "outputs": [],
   "source": [
    "gain = pd.DataFrame({\n",
    "    'lorenz': ltv.cumulative_true(y_eval, y_eval),\n",
    "    'baseline': ltv.cumulative_true(y_eval, y0_eval),\n",
    "    'model': ltv.cumulative_true(y_eval, y_pred),\n",
    "})"
   ]
  },
  {
   "cell_type": "code",
   "execution_count": 27,
   "metadata": {
    "id": "yg-ndbve4AL_"
   },
   "outputs": [],
   "source": [
    "num_customers = np.float32(gain.shape[0])\n",
    "gain['cumulative_customer'] = (np.arange(num_customers) + 1.) / num_customers"
   ]
  },
  {
   "cell_type": "code",
   "execution_count": 28,
   "metadata": {
    "id": "WEoAvuCj4OVy"
   },
   "outputs": [
    {
     "data": {
      "text/plain": [
       "Text(0.5, 1.0, 'Gain Chart')"
      ]
     },
     "execution_count": 28,
     "metadata": {},
     "output_type": "execute_result"
    },
    {
     "data": {
      "image/png": "[encoded data removed]",
      "text/plain": [
       "<Figure size 800x500 with 1 Axes>"
      ]
     },
     "metadata": {
      "image/png": {
       "height": 469,
       "width": 702
      }
     },
     "output_type": "display_data"
    }
   ],
   "source": [
    "ax = gain[[\n",
    "    'cumulative_customer',\n",
    "    'lorenz',\n",
    "    'baseline',\n",
    "    'model',\n",
    "]].plot(\n",
    "    x='cumulative_customer', figsize=(8, 5), legend=True)\n",
    "\n",
    "ax.legend(['Groundtruth', 'Baseline', 'Model'], loc='upper left')\n",
    "\n",
    "ax.set_xlabel('Cumulative Fraction of Customers')\n",
    "ax.set_xticks(np.arange(0, 1.1, 0.1))\n",
    "ax.set_xlim((0, 1.))\n",
    "\n",
    "ax.set_ylabel('Cumulative Fraction of Total Lifetime Value')\n",
    "ax.set_yticks(np.arange(0, 1.1, 0.1))\n",
    "ax.set_ylim((0, 1.05))\n",
    "ax.set_title('Gain Chart')"
   ]
  },
  {
   "cell_type": "code",
   "execution_count": 29,
   "metadata": {
    "id": "kzPqaiNO4iWC"
   },
   "outputs": [
    {
     "name": "stderr",
     "output_type": "stream",
     "text": [
      "/home/reza/miniconda3/envs/clv-google/lib/python3.12/site-packages/lifetime_value/metrics.py:57: FutureWarning: Series.__getitem__ treating keys as positions is deprecated. In a future version, integer keys will always be treated as labels (consistent with DataFrame behavior). To access a value by position, use `ser.iloc[pos]`\n",
      "  normalized = raw / raw[0]\n"
     ]
    },
    {
     "data": {
      "text/html": [
       "<div>\n",
       "<style scoped>\n",
       "    .dataframe tbody tr th:only-of-type {\n",
       "        vertical-align: middle;\n",
       "    }\n",
       "\n",
       "    .dataframe tbody tr th {\n",
       "        vertical-align: top;\n",
       "    }\n",
       "\n",
       "    .dataframe thead th {\n",
       "        text-align: right;\n",
       "    }\n",
       "</style>\n",
       "<table border=\"1\" class=\"dataframe\">\n",
       "  <thead>\n",
       "    <tr style=\"text-align: right;\">\n",
       "      <th></th>\n",
       "      <th>raw</th>\n",
       "      <th>normalized</th>\n",
       "    </tr>\n",
       "  </thead>\n",
       "  <tbody>\n",
       "    <tr>\n",
       "      <th>lorenz</th>\n",
       "      <td>0.706898</td>\n",
       "      <td>1.000000</td>\n",
       "    </tr>\n",
       "    <tr>\n",
       "      <th>baseline</th>\n",
       "      <td>0.290027</td>\n",
       "      <td>0.410281</td>\n",
       "    </tr>\n",
       "    <tr>\n",
       "      <th>model</th>\n",
       "      <td>0.292194</td>\n",
       "      <td>0.413346</td>\n",
       "    </tr>\n",
       "  </tbody>\n",
       "</table>\n",
       "</div>"
      ],
      "text/plain": [
       "               raw  normalized\n",
       "lorenz    0.706898    1.000000\n",
       "baseline  0.290027    0.410281\n",
       "model     0.292194    0.413346"
      ]
     },
     "execution_count": 29,
     "metadata": {},
     "output_type": "execute_result"
    }
   ],
   "source": [
    "gini = ltv.gini_from_gain(gain[['lorenz', 'baseline', 'model']])\n",
    "gini"
   ]
  },
  {
   "cell_type": "markdown",
   "metadata": {
    "id": "S84RitIa9PBu"
   },
   "source": [
    "### Calibration"
   ]
  },
  {
   "cell_type": "code",
   "execution_count": 30,
   "metadata": {
    "id": "X7sKbsEf6RvF"
   },
   "outputs": [
    {
     "name": "stderr",
     "output_type": "stream",
     "text": [
      "/home/reza/miniconda3/envs/clv-google/lib/python3.12/site-packages/lifetime_value/metrics.py:105: FutureWarning: The default of observed=False is deprecated and will be changed to True in a future version of pandas. Pass observed=False to retain current behavior or observed=True to adopt the future default and silence this warning.\n",
      "  }).groupby('decile').apply(_aggregate_fn)\n"
     ]
    },
    {
     "data": {
      "text/html": [
       "<div>\n",
       "<style scoped>\n",
       "    .dataframe tbody tr th:only-of-type {\n",
       "        vertical-align: middle;\n",
       "    }\n",
       "\n",
       "    .dataframe tbody tr th {\n",
       "        vertical-align: top;\n",
       "    }\n",
       "\n",
       "    .dataframe thead th {\n",
       "        text-align: right;\n",
       "    }\n",
       "</style>\n",
       "<table border=\"1\" class=\"dataframe\">\n",
       "  <thead>\n",
       "    <tr style=\"text-align: right;\">\n",
       "      <th></th>\n",
       "      <th>label_mean</th>\n",
       "      <th>pred_mean</th>\n",
       "      <th>normalized_rmse</th>\n",
       "      <th>normalized_mae</th>\n",
       "      <th>decile_mape</th>\n",
       "    </tr>\n",
       "    <tr>\n",
       "      <th>decile</th>\n",
       "      <th></th>\n",
       "      <th></th>\n",
       "      <th></th>\n",
       "      <th></th>\n",
       "      <th></th>\n",
       "    </tr>\n",
       "  </thead>\n",
       "  <tbody>\n",
       "    <tr>\n",
       "      <th>0</th>\n",
       "      <td>18.210960</td>\n",
       "      <td>18.143080</td>\n",
       "      <td>2.203080</td>\n",
       "      <td>1.103638</td>\n",
       "      <td>0.003727</td>\n",
       "    </tr>\n",
       "    <tr>\n",
       "      <th>1</th>\n",
       "      <td>22.441915</td>\n",
       "      <td>20.906063</td>\n",
       "      <td>3.043738</td>\n",
       "      <td>1.025199</td>\n",
       "      <td>0.068437</td>\n",
       "    </tr>\n",
       "    <tr>\n",
       "      <th>2</th>\n",
       "      <td>26.076753</td>\n",
       "      <td>27.054522</td>\n",
       "      <td>1.731754</td>\n",
       "      <td>1.015475</td>\n",
       "      <td>0.037496</td>\n",
       "    </tr>\n",
       "    <tr>\n",
       "      <th>3</th>\n",
       "      <td>28.620566</td>\n",
       "      <td>28.851986</td>\n",
       "      <td>1.787003</td>\n",
       "      <td>1.031723</td>\n",
       "      <td>0.008086</td>\n",
       "    </tr>\n",
       "    <tr>\n",
       "      <th>4</th>\n",
       "      <td>24.491636</td>\n",
       "      <td>29.118446</td>\n",
       "      <td>1.707393</td>\n",
       "      <td>1.307075</td>\n",
       "      <td>0.188914</td>\n",
       "    </tr>\n",
       "    <tr>\n",
       "      <th>5</th>\n",
       "      <td>31.531167</td>\n",
       "      <td>33.457870</td>\n",
       "      <td>1.688686</td>\n",
       "      <td>1.034953</td>\n",
       "      <td>0.061105</td>\n",
       "    </tr>\n",
       "    <tr>\n",
       "      <th>6</th>\n",
       "      <td>39.837550</td>\n",
       "      <td>43.783630</td>\n",
       "      <td>1.637520</td>\n",
       "      <td>1.004104</td>\n",
       "      <td>0.099054</td>\n",
       "    </tr>\n",
       "    <tr>\n",
       "      <th>7</th>\n",
       "      <td>51.487682</td>\n",
       "      <td>49.727856</td>\n",
       "      <td>4.374042</td>\n",
       "      <td>0.974808</td>\n",
       "      <td>0.034180</td>\n",
       "    </tr>\n",
       "    <tr>\n",
       "      <th>8</th>\n",
       "      <td>59.479872</td>\n",
       "      <td>67.895622</td>\n",
       "      <td>1.701324</td>\n",
       "      <td>1.029455</td>\n",
       "      <td>0.141489</td>\n",
       "    </tr>\n",
       "    <tr>\n",
       "      <th>9</th>\n",
       "      <td>109.389565</td>\n",
       "      <td>120.114731</td>\n",
       "      <td>3.120756</td>\n",
       "      <td>1.025460</td>\n",
       "      <td>0.098046</td>\n",
       "    </tr>\n",
       "  </tbody>\n",
       "</table>\n",
       "</div>"
      ],
      "text/plain": [
       "        label_mean   pred_mean  normalized_rmse  normalized_mae  decile_mape\n",
       "decile                                                                      \n",
       "0        18.210960   18.143080         2.203080        1.103638     0.003727\n",
       "1        22.441915   20.906063         3.043738        1.025199     0.068437\n",
       "2        26.076753   27.054522         1.731754        1.015475     0.037496\n",
       "3        28.620566   28.851986         1.787003        1.031723     0.008086\n",
       "4        24.491636   29.118446         1.707393        1.307075     0.188914\n",
       "5        31.531167   33.457870         1.688686        1.034953     0.061105\n",
       "6        39.837550   43.783630         1.637520        1.004104     0.099054\n",
       "7        51.487682   49.727856         4.374042        0.974808     0.034180\n",
       "8        59.479872   67.895622         1.701324        1.029455     0.141489\n",
       "9       109.389565  120.114731         3.120756        1.025460     0.098046"
      ]
     },
     "execution_count": 30,
     "metadata": {},
     "output_type": "execute_result"
    }
   ],
   "source": [
    "df_decile = ltv.decile_stats(y_eval, y_pred)\n",
    "df_decile"
   ]
  },
  {
   "cell_type": "code",
   "execution_count": 31,
   "metadata": {
    "id": "DHdLqUqdL4hf"
   },
   "outputs": [
    {
     "data": {
      "text/plain": [
       "<matplotlib.legend.Legend at 0x79eb662f5b20>"
      ]
     },
     "execution_count": 31,
     "metadata": {},
     "output_type": "execute_result"
    },
    {
     "data": {
      "image/png": "[encoded data removed]",
      "text/plain": [
       "<Figure size 640x480 with 1 Axes>"
      ]
     },
     "metadata": {
      "image/png": {
       "height": 454,
       "width": 571
      }
     },
     "output_type": "display_data"
    }
   ],
   "source": [
    "ax = df_decile[['label_mean', 'pred_mean']].plot.bar(rot=0)\n",
    "\n",
    "ax.set_title('Decile Chart')\n",
    "ax.set_xlabel('Prediction bucket')\n",
    "ax.set_ylabel('Average bucket value')\n",
    "ax.legend(['Label', 'Prediction'], loc='upper left')"
   ]
  },
  {
   "cell_type": "markdown",
   "metadata": {
    "id": "nK6DQ89xU-d4"
   },
   "source": [
    "### Rank Correlation"
   ]
  },
  {
   "cell_type": "code",
   "execution_count": 32,
   "metadata": {
    "id": "I9qWGyY3WePz"
   },
   "outputs": [
    {
     "data": {
      "text/plain": [
       "np.float64(0.2610128285523849)"
      ]
     },
     "execution_count": 32,
     "metadata": {},
     "output_type": "execute_result"
    }
   ],
   "source": [
    "def spearmanr(x1: Sequence[float], x2: Sequence[float]) -> float:\n",
    "  \"\"\"Calculates spearmanr rank correlation coefficient.\n",
    "\n",
    "  See https://docs.scipy.org/doc/scipy/reference/stats.html.\n",
    "\n",
    "  Args:\n",
    "    x1: 1D array_like.\n",
    "    x2: 1D array_like.\n",
    "\n",
    "  Returns:\n",
    "    correlation: float.\n",
    "  \"\"\"\n",
    "  return stats.spearmanr(x1, x2, nan_policy='raise')[0]\n",
    "\n",
    "\n",
    "spearman_corr = spearmanr(y_eval, y_pred)\n",
    "spearman_corr"
   ]
  },
  {
   "cell_type": "markdown",
   "metadata": {
    "id": "-i_AbqhXcurk"
   },
   "source": [
    "### All metrics together"
   ]
  },
  {
   "cell_type": "code",
   "execution_count": 33,
   "metadata": {
    "id": "Umqg1-0Bc1HS"
   },
   "outputs": [
    {
     "name": "stderr",
     "output_type": "stream",
     "text": [
      "/tmp/ipykernel_137051/360493497.py:10: FutureWarning: Series.__getitem__ treating keys as positions is deprecated. In a future version, integer keys will always be treated as labels (consistent with DataFrame behavior). To access a value by position, use `ser.iloc[pos]`\n",
      "  'baseline_gini': gini['normalized'][1],\n",
      "/tmp/ipykernel_137051/360493497.py:11: FutureWarning: Series.__getitem__ treating keys as positions is deprecated. In a future version, integer keys will always be treated as labels (consistent with DataFrame behavior). To access a value by position, use `ser.iloc[pos]`\n",
      "  'gini': gini['normalized'][2],\n"
     ]
    }
   ],
   "source": [
    "df_metrics = pd.DataFrame(\n",
    "    {\n",
    "        'company': COMPANY,\n",
    "        'model': MODEL,\n",
    "        'loss': LOSS,\n",
    "        'label_mean': y_eval.mean(),\n",
    "        'pred_mean': y_pred.mean(),\n",
    "        'label_positive': np.mean(y_eval > 0),\n",
    "        'decile_mape': df_decile['decile_mape'].mean(),\n",
    "        'baseline_gini': gini['normalized'][1],\n",
    "        'gini': gini['normalized'][2],\n",
    "        'spearman_corr': spearman_corr,\n",
    "    },\n",
    "    index=[0])"
   ]
  },
  {
   "cell_type": "code",
   "execution_count": 34,
   "metadata": {
    "id": "1LV1Hs3xcxnd"
   },
   "outputs": [
    {
     "data": {
      "text/html": [
       "<div>\n",
       "<style scoped>\n",
       "    .dataframe tbody tr th:only-of-type {\n",
       "        vertical-align: middle;\n",
       "    }\n",
       "\n",
       "    .dataframe tbody tr th {\n",
       "        vertical-align: top;\n",
       "    }\n",
       "\n",
       "    .dataframe thead th {\n",
       "        text-align: right;\n",
       "    }\n",
       "</style>\n",
       "<table border=\"1\" class=\"dataframe\">\n",
       "  <thead>\n",
       "    <tr style=\"text-align: right;\">\n",
       "      <th></th>\n",
       "      <th>company</th>\n",
       "      <th>model</th>\n",
       "      <th>loss</th>\n",
       "      <th>label_mean</th>\n",
       "      <th>pred_mean</th>\n",
       "      <th>label_positive</th>\n",
       "      <th>decile_mape</th>\n",
       "      <th>baseline_gini</th>\n",
       "      <th>gini</th>\n",
       "      <th>spearman_corr</th>\n",
       "    </tr>\n",
       "  </thead>\n",
       "  <tbody>\n",
       "    <tr>\n",
       "      <th>0</th>\n",
       "      <td>103600030</td>\n",
       "      <td>dnn</td>\n",
       "      <td>ziln</td>\n",
       "      <td>39.295242</td>\n",
       "      <td>41.462223</td>\n",
       "      <td>0.774563</td>\n",
       "      <td>0.074053</td>\n",
       "      <td>0.410281</td>\n",
       "      <td>0.413346</td>\n",
       "      <td>0.261013</td>\n",
       "    </tr>\n",
       "  </tbody>\n",
       "</table>\n",
       "</div>"
      ],
      "text/plain": [
       "     company model  loss  label_mean  pred_mean  label_positive  decile_mape  \\\n",
       "0  103600030   dnn  ziln   39.295242  41.462223        0.774563     0.074053   \n",
       "\n",
       "   baseline_gini      gini  spearman_corr  \n",
       "0       0.410281  0.413346       0.261013  "
      ]
     },
     "execution_count": 34,
     "metadata": {},
     "output_type": "execute_result"
    }
   ],
   "source": [
    "df_metrics[[\n",
    "    'company',\n",
    "    'model',\n",
    "    'loss',\n",
    "    'label_mean',\n",
    "    'pred_mean',\n",
    "    'label_positive',\n",
    "    'decile_mape',\n",
    "    'baseline_gini',\n",
    "    'gini',\n",
    "    'spearman_corr',\n",
    "]]"
   ]
  },
  {
   "cell_type": "markdown",
   "metadata": {
    "id": "UVy6lYn4mSrj"
   },
   "source": [
    "## Save"
   ]
  },
  {
   "cell_type": "code",
   "execution_count": 35,
   "metadata": {
    "id": "mtkQ4mqUEFsb"
   },
   "outputs": [],
   "source": [
    "output_path = os.path.join(OUTPUT_CSV_FOLDER, COMPANY)"
   ]
  },
  {
   "cell_type": "code",
   "execution_count": 36,
   "metadata": {
    "id": "3qmLzJqOEFsm"
   },
   "outputs": [],
   "source": [
    "if not os.path.isdir(output_path):\n",
    "  os.makedirs(output_path)"
   ]
  },
  {
   "cell_type": "code",
   "execution_count": 37,
   "metadata": {
    "id": "61B5Zc_UEFsr"
   },
   "outputs": [],
   "source": [
    "output_file = os.path.join(output_path,\n",
    "                           '{}_regression_{}.csv'.format(MODEL, LOSS))"
   ]
  },
  {
   "cell_type": "code",
   "execution_count": 38,
   "metadata": {
    "id": "gqglbXfwEFsv"
   },
   "outputs": [],
   "source": [
    "df_metrics.to_csv(output_file, index=False)"
   ]
  },
  {
   "cell_type": "code",
   "execution_count": null,
   "metadata": {},
   "outputs": [],
   "source": []
  }
 ],
 "metadata": {
  "colab": {
   "collapsed_sections": [],
   "last_runtime": {
    "build_target": "//learning/deepmind/public/tools/ml_python:ml_notebook",
    "kind": "private"
   },
   "name": "regression.ipynb",
   "provenance": []
  },
  "kernelspec": {
   "display_name": "Python 3 (ipykernel)",
   "language": "python",
   "name": "python3"
  },
  "language_info": {
   "codemirror_mode": {
    "name": "ipython",
    "version": 3
   },
   "file_extension": ".py",
   "mimetype": "text/x-python",
   "name": "python",
   "nbconvert_exporter": "python",
   "pygments_lexer": "ipython3",
   "version": "3.12.7"
  }
 },
 "nbformat": 4,
 "nbformat_minor": 4
}
