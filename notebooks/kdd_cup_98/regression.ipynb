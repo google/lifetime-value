{
 "cells": [
  {
   "cell_type": "code",
   "execution_count": 1,
   "metadata": {
    "id": "gE76T8J7IsGC"
   },
   "outputs": [],
   "source": [
    "#@title Copyright 2019 The Lifetime Value Authors.\n",
    "# Licensed under the Apache License, Version 2.0 (the \"License\");\n",
    "# you may not use this file except in compliance with the License.\n",
    "# You may obtain a copy of the License at\n",
    "#\n",
    "#     https://www.apache.org/licenses/LICENSE-2.0\n",
    "#\n",
    "# Unless required by applicable law or agreed to in writing, software\n",
    "# distributed under the License is distributed on an \"AS IS\" BASIS,\n",
    "# WITHOUT WARRANTIES OR CONDITIONS OF ANY KIND, either express or implied.\n",
    "# See the License for the specific language governing permissions and\n",
    "# limitations under the License.\n",
    "# ============================================================================"
   ]
  },
  {
   "cell_type": "markdown",
   "metadata": {
    "id": "sswTFWDv7HZd"
   },
   "source": [
    "# KDD Cup 98 LTV Prediction"
   ]
  },
  {
   "cell_type": "markdown",
   "metadata": {
    "id": "PSr1mSJP7O1J"
   },
   "source": [
    "<table align=\"left\">\n",
    "  <td>\n",
    "    <a target=\"_blank\" href=\"https://colab.research.google.com/github/google/lifetime_value/blob/master/notebooks/kdd_cup_98/regression.ipynb\"><img src=\"https://www.tensorflow.org/images/colab_logo_32px.png\" />Run in Google Colab</a>\n",
    "  </td>\n",
    "  <td>\n",
    "    <a target=\"_blank\" href=\"https://github.com/google/lifetime_value/blob/master/notebooks/kdd_cup_98/regression.ipynb\"><img src=\"https://www.tensorflow.org/images/GitHub-Mark-32px.png\" />View source on GitHub</a>\n",
    "  </td>\n",
    "</table>"
   ]
  },
  {
   "cell_type": "code",
   "execution_count": 2,
   "metadata": {
    "id": "pBXE3Dz3NI4A"
   },
   "outputs": [
    {
     "name": "stderr",
     "output_type": "stream",
     "text": [
      "2024-11-27 04:20:57.743808: I tensorflow/core/util/port.cc:153] oneDNN custom operations are on. You may see slightly different numerical results due to floating-point round-off errors from different computation orders. To turn them off, set the environment variable `TF_ENABLE_ONEDNN_OPTS=0`.\n",
      "2024-11-27 04:20:57.758227: E external/local_xla/xla/stream_executor/cuda/cuda_fft.cc:477] Unable to register cuFFT factory: Attempting to register factory for plugin cuFFT when one has already been registered\n",
      "WARNING: All log messages before absl::InitializeLog() is called are written to STDERR\n",
      "E0000 00:00:1732681257.776118   28126 cuda_dnn.cc:8310] Unable to register cuDNN factory: Attempting to register factory for plugin cuDNN when one has already been registered\n",
      "E0000 00:00:1732681257.781339   28126 cuda_blas.cc:1418] Unable to register cuBLAS factory: Attempting to register factory for plugin cuBLAS when one has already been registered\n",
      "2024-11-27 04:20:57.799010: I tensorflow/core/platform/cpu_feature_guard.cc:210] This TensorFlow binary is optimized to use available CPU instructions in performance-critical operations.\n",
      "To enable the following instructions: AVX2 AVX512F AVX512_VNNI FMA, in other operations, rebuild TensorFlow with the appropriate compiler flags.\n"
     ]
    }
   ],
   "source": [
    "import os\n",
    "\n",
    "import numpy as np\n",
    "import pandas as pd\n",
    "from scipy import stats\n",
    "import matplotlib.pyplot as plt\n",
    "import seaborn as sns\n",
    "import tensorflow as tf\n",
    "import tensorflow_probability as tfp\n",
    "from typing import Sequence\n",
    "\n",
    "# install and import ltv\n",
    "# !pip install -q git+https://github.com/google/lifetime_value\n",
    "import lifetime_value as ltv"
   ]
  },
  {
   "cell_type": "code",
   "execution_count": 3,
   "metadata": {
    "id": "Bq0Ah16lBmgV"
   },
   "outputs": [],
   "source": [
    "tfd = tfp.distributions\n",
    "%config InlineBackend.figure_format='retina'\n",
    "sns.set_style('whitegrid')"
   ]
  },
  {
   "cell_type": "markdown",
   "metadata": {
    "id": "2qN319qZK3IG"
   },
   "source": [
    "## Configs"
   ]
  },
  {
   "cell_type": "code",
   "execution_count": 4,
   "metadata": {
    "id": "hNy_ybw_K19n"
   },
   "outputs": [],
   "source": [
    "MODEL = 'dnn'\n",
    "# LOSS = 'ziln' # @param { isTemplate: true, type: 'string'} ['mse', 'ziln']\n",
    "LOSS = 'mse' # @param { isTemplate: true, type: 'string'} ['mse', 'ziln']\n",
    "LEARNING_RATE = 0.001  # @param { isTemplate: true}\n",
    "VERSION = 0 # @param { isTemplate: true, type: 'integer'}\n",
    "DATA_FOLDER = './tmp/kdd_cup_98/' # @param { isTemplate: true, type: 'string'}\n",
    "OUTPUT_CSV_FOLDER = f'{DATA_FOLDER}result' # @param { isTemplate: true, type: 'string'}"
   ]
  },
  {
   "cell_type": "markdown",
   "metadata": {
    "id": "mDSR921CCEcL"
   },
   "source": [
    "## Load data"
   ]
  },
  {
   "cell_type": "markdown",
   "metadata": {
    "id": "lHxp4rOGI02Q"
   },
   "source": [
    "Download kdd_cup_98 data to /tmp/lifetime-value/kdd_cup_98"
   ]
  },
  {
   "cell_type": "code",
   "execution_count": 5,
   "metadata": {},
   "outputs": [
    {
     "name": "stdout",
     "output_type": "stream",
     "text": [
      "env: DATA_FOLDER=./tmp/kdd_cup_98/\n"
     ]
    }
   ],
   "source": [
    "# Set it DATA_FOLDER as an environment variable\n",
    "%env DATA_FOLDER=$DATA_FOLDER"
   ]
  },
  {
   "cell_type": "code",
   "execution_count": 6,
   "metadata": {
    "id": "Dg3qtgJyJpdi"
   },
   "outputs": [
    {
     "name": "stderr",
     "output_type": "stream",
     "text": [
      "--2024-11-27 04:20:59--  https://kdd.ics.uci.edu/databases/kddcup98/epsilon_mirror/cup98lrn.zip\n",
      "Resolving kdd.ics.uci.edu (kdd.ics.uci.edu)... 128.195.1.86\n",
      "Connecting to kdd.ics.uci.edu (kdd.ics.uci.edu)|128.195.1.86|:443... connected.\n",
      "HTTP request sent, awaiting response... 304 Not Modified\n",
      "File ‘./tmp/kdd_cup_98/cup98lrn.zip’ not modified on server. Omitting download.\n",
      "\n",
      "--2024-11-27 04:21:00--  https://kdd.ics.uci.edu/databases/kddcup98/epsilon_mirror/cup98val.zip\n",
      "Resolving kdd.ics.uci.edu (kdd.ics.uci.edu)... 128.195.1.86\n",
      "Connecting to kdd.ics.uci.edu (kdd.ics.uci.edu)|128.195.1.86|:443... connected.\n",
      "HTTP request sent, awaiting response... 304 Not Modified\n",
      "File ‘./tmp/kdd_cup_98/cup98val.zip’ not modified on server. Omitting download.\n",
      "\n",
      "--2024-11-27 04:21:00--  https://kdd.ics.uci.edu/databases/kddcup98/epsilon_mirror/valtargt.txt\n",
      "Resolving kdd.ics.uci.edu (kdd.ics.uci.edu)... 128.195.1.86\n",
      "Connecting to kdd.ics.uci.edu (kdd.ics.uci.edu)|128.195.1.86|:443... connected.\n",
      "HTTP request sent, awaiting response... 304 Not Modified\n",
      "File ‘./tmp/kdd_cup_98/valtargt.txt’ not modified on server. Omitting download.\n",
      "\n"
     ]
    },
    {
     "name": "stdout",
     "output_type": "stream",
     "text": [
      "Archive:  cup98lrn.zip\n",
      "Archive:  cup98val.zip\n"
     ]
    }
   ],
   "source": [
    "%%bash\n",
    "mkdir -p $DATA_FOLDER\n",
    "wget -N https://kdd.ics.uci.edu/databases/kddcup98/epsilon_mirror/cup98lrn.zip -P $DATA_FOLDER\n",
    "wget -N https://kdd.ics.uci.edu/databases/kddcup98/epsilon_mirror/cup98val.zip -P $DATA_FOLDER\n",
    "wget -N https://kdd.ics.uci.edu/databases/kddcup98/epsilon_mirror/valtargt.txt -P $DATA_FOLDER\n",
    "cd $DATA_FOLDER\n",
    "unzip -n cup98lrn.zip\n",
    "unzip -n cup98val.zip"
   ]
  },
  {
   "cell_type": "code",
   "execution_count": 7,
   "metadata": {
    "id": "a_LnLmQQRlYF"
   },
   "outputs": [
    {
     "name": "stderr",
     "output_type": "stream",
     "text": [
      "/tmp/ipykernel_28126/890100394.py:1: DtypeWarning: Columns (8) have mixed types. Specify dtype option on import or set low_memory=False.\n",
      "  df_train = pd.read_csv(f'{DATA_FOLDER}cup98LRN.txt')\n",
      "/tmp/ipykernel_28126/890100394.py:3: DtypeWarning: Columns (8) have mixed types. Specify dtype option on import or set low_memory=False.\n",
      "  df_eval = pd.read_csv(f'{DATA_FOLDER}cup98VAL.txt')\n"
     ]
    }
   ],
   "source": [
    "df_train = pd.read_csv(f'{DATA_FOLDER}cup98LRN.txt')\n",
    "num_train = df_train.shape[0]\n",
    "df_eval = pd.read_csv(f'{DATA_FOLDER}cup98VAL.txt')\n",
    "df_eval_target = pd.read_csv(f'{DATA_FOLDER}valtargt.txt')\n",
    "df_eval = df_eval.merge(df_eval_target, on='CONTROLN')"
   ]
  },
  {
   "cell_type": "code",
   "execution_count": 8,
   "metadata": {
    "id": "ggQmy9wiP5M6"
   },
   "outputs": [],
   "source": [
    "df = pd.concat([df_train, df_eval], axis=0, sort=True)"
   ]
  },
  {
   "cell_type": "markdown",
   "metadata": {
    "id": "0rgxHpIyjaMH"
   },
   "source": [
    "## Label distribution"
   ]
  },
  {
   "cell_type": "code",
   "execution_count": 9,
   "metadata": {
    "id": "Xmpu_d3YjcFC"
   },
   "outputs": [],
   "source": [
    "y = df['TARGET_D'][:num_train]"
   ]
  },
  {
   "cell_type": "code",
   "execution_count": 10,
   "metadata": {
    "id": "yMr2EDRyK5Sb"
   },
   "outputs": [],
   "source": [
    "def plot_hist_log_scale(y):\n",
    "  max_val = y.max() + 1. \n",
    "  ax = pd.Series(y).hist(\n",
    "      figsize=(8, 5), bins = 10 ** np.linspace(0., np.log10(max_val), 20))\n",
    "\n",
    "  plt.xlabel('Donation ($)')\n",
    "  plt.ylabel('Count')\n",
    "  # plt.title('Histogram of LTV')\n",
    "  plt.xticks(rotation='horizontal')\n",
    "  plt.legend(loc='upper left')\n",
    "  ax.set_xscale('log')\n",
    "  ax.grid(False)\n",
    "  # Hide the right and top spines\n",
    "  ax.spines['right'].set_visible(False)\n",
    "  ax.spines['top'].set_visible(False)\n",
    "  # Only show ticks on the left and bottom spines\n",
    "  ax.yaxis.set_ticks_position('left')\n",
    "  ax.xaxis.set_ticks_position('bottom')\n",
    "  plt.show()\n",
    "\n",
    "  fig = ax.get_figure()\n",
    "  output_file = tf.io.gfile.GFile(\n",
    "          f'{DATA_FOLDER}histogram_kdd98_log_scale.pdf',\n",
    "          'wb')\n",
    "  fig.savefig(output_file, bbox_inches='tight', format='pdf')"
   ]
  },
  {
   "cell_type": "code",
   "execution_count": 11,
   "metadata": {
    "id": "KbwCzGkBOWhH"
   },
   "outputs": [
    {
     "name": "stderr",
     "output_type": "stream",
     "text": [
      "/tmp/ipykernel_28126/3761247075.py:10: UserWarning: No artists with labels found to put in legend.  Note that artists whose label start with an underscore are ignored when legend() is called with no argument.\n",
      "  plt.legend(loc='upper left')\n"
     ]
    },
    {
     "data": {
      "image/png": "[encoded data removed]",
      "text/plain": [
       "<Figure size 800x500 with 1 Axes>"
      ]
     },
     "metadata": {
      "image/png": {
       "height": 449,
       "width": 704
      }
     },
     "output_type": "display_data"
    }
   ],
   "source": [
    "plot_hist_log_scale(y[y>0])"
   ]
  },
  {
   "cell_type": "markdown",
   "metadata": {
    "id": "1XXMLbnlCdlN"
   },
   "source": [
    "## Preprocess features"
   ]
  },
  {
   "cell_type": "markdown",
   "metadata": {
    "id": "L1sBf_RSU3pR"
   },
   "source": [
    "### Vocab"
   ]
  },
  {
   "cell_type": "code",
   "execution_count": 12,
   "metadata": {
    "id": "xB_ddsd_U_4e"
   },
   "outputs": [],
   "source": [
    "VOCAB_FEATURES = [\n",
    "    'ODATEDW',  # date of donor's first gift (YYMM)\n",
    "    'OSOURCE',  # donor acquisition mailing list\n",
    "    'TCODE',    # donor title code\n",
    "    'STATE',\n",
    "    'ZIP',\n",
    "    'DOMAIN',   # urbanicity level and socio-economic status of the neighborhood\n",
    "    'CLUSTER',  # socio-economic status\n",
    "    'GENDER',\n",
    "    'MAXADATE', # date of the most recent promotion received\n",
    "    'MINRDATE',\n",
    "    'LASTDATE',\n",
    "    'FISTDATE',\n",
    "    'RFA_2A',\n",
    "]"
   ]
  },
  {
   "cell_type": "code",
   "execution_count": 13,
   "metadata": {
    "id": "f2oPZGVLRSPe"
   },
   "outputs": [],
   "source": [
    "df['ODATEDW'] = df['ODATEDW'].astype('str')\n",
    "df['TCODE'] = df['TCODE'].apply(\n",
    "    lambda x: '{:03d}'.format(x // 1000 if x > 1000 else x))\n",
    "df['ZIP'] = df['ZIP'].str.slice(0, 5)\n",
    "df['MAXADATE'] = df['MAXADATE'].astype('str')\n",
    "df['MINRDATE'] = df['MINRDATE'].astype('str')\n",
    "df['LASTDATE'] = df['LASTDATE'].astype('str')\n",
    "df['FISTDATE'] = df['FISTDATE'].astype('str')"
   ]
  },
  {
   "cell_type": "code",
   "execution_count": 14,
   "metadata": {
    "id": "isL9Ofv9JLAP"
   },
   "outputs": [],
   "source": [
    "def label_encoding(y, frequency_threshold=100):\n",
    "  #value_counts = pd.value_counts(y) # raises FutureWarning: pandas.value_counts is deprecated and will be removed in a future version. Use pd.Series(obj).value_counts() instead.\n",
    "  value_counts = pd.Series(y).value_counts()\n",
    "  categories = value_counts[\n",
    "      value_counts >= frequency_threshold].index.to_numpy()\n",
    "  # 0 indicates the unknown category.\n",
    "  return pd.Categorical(y, categories=categories).codes + 1"
   ]
  },
  {
   "cell_type": "code",
   "execution_count": 15,
   "metadata": {
    "id": "BgXGO5D0OdJP"
   },
   "outputs": [],
   "source": [
    "for key in VOCAB_FEATURES:\n",
    "  df[key] = label_encoding(df[key])"
   ]
  },
  {
   "cell_type": "markdown",
   "metadata": {
    "id": "kZkmnJ93Zrjw"
   },
   "source": [
    "### Indicator"
   ]
  },
  {
   "cell_type": "code",
   "execution_count": 16,
   "metadata": {
    "id": "tGBpMfaGhCD0"
   },
   "outputs": [],
   "source": [
    "MAIL_ORDER_RESPONSES = [\n",
    "    'MBCRAFT',\n",
    "    'MBGARDEN',\n",
    "    'MBBOOKS',\n",
    "    'MBCOLECT',\n",
    "    'MAGFAML',\n",
    "    'MAGFEM',\n",
    "    'MAGMALE',\n",
    "    'PUBGARDN',\n",
    "    'PUBCULIN',\n",
    "    'PUBHLTH',\n",
    "    'PUBDOITY',\n",
    "    'PUBNEWFN',\n",
    "    'PUBPHOTO',\n",
    "    'PUBOPP',\n",
    "    'RFA_2F',\n",
    "]"
   ]
  },
  {
   "cell_type": "code",
   "execution_count": 17,
   "metadata": {
    "id": "4V-DeOZFZhjB"
   },
   "outputs": [],
   "source": [
    "INDICATOR_FEATURES = [\n",
    "    'AGE',  # age decile, 0 indicates unknown\n",
    "    'NUMCHLD',\n",
    "    'INCOME',\n",
    "    'WEALTH1',\n",
    "    'HIT',\n",
    "] + MAIL_ORDER_RESPONSES"
   ]
  },
  {
   "cell_type": "code",
   "execution_count": 18,
   "metadata": {
    "id": "U9y5qA1vZ0kz"
   },
   "outputs": [],
   "source": [
    "df['AGE'] = pd.qcut(df['AGE'].values, 10).codes + 1\n",
    "df['NUMCHLD'] = df['NUMCHLD'].apply(lambda x: 0 if np.isnan(x) else int(x))\n",
    "df['INCOME'] = df['INCOME'].apply(lambda x: 0 if np.isnan(x) else int(x))\n",
    "df['WEALTH1'] = df['WEALTH1'].apply(lambda x: 0 if np.isnan(x) else int(x) + 1)\n",
    "df['HIT'] = pd.qcut(df['HIT'].values, q=50, duplicates='drop').codes\n",
    "\n",
    "for col in MAIL_ORDER_RESPONSES:\n",
    "  df[col] = pd.qcut(df[col].values, q=20, duplicates='drop').codes + 1"
   ]
  },
  {
   "cell_type": "markdown",
   "metadata": {
    "id": "8DOO_2a-U6gr"
   },
   "source": [
    "### Numeric"
   ]
  },
  {
   "cell_type": "code",
   "execution_count": 19,
   "metadata": {
    "id": "rqVteSLDiLVr"
   },
   "outputs": [],
   "source": [
    "NUMERIC_FEATURES = [\n",
    "    # binary\n",
    "    'MAILCODE',  # bad address\n",
    "    'NOEXCH',    # do not exchange\n",
    "    'RECINHSE',  # donor has given to PVA's in house program\n",
    "    'RECP3',     # donor has given to PVA's P3 program\n",
    "    'RECPGVG',   # planned giving record\n",
    "    'RECSWEEP',  # sweepstakes record\n",
    "    'HOMEOWNR',  # home owner\n",
    "    'CHILD03',\n",
    "    'CHILD07',\n",
    "    'CHILD12',\n",
    "    'CHILD18',\n",
    "\n",
    "    # continuous\n",
    "    'CARDPROM',\n",
    "    'NUMPROM',\n",
    "    'CARDPM12',\n",
    "    'NUMPRM12',\n",
    "    'RAMNTALL',\n",
    "    'NGIFTALL',\n",
    "    'MINRAMNT',\n",
    "    'MAXRAMNT',\n",
    "    'LASTGIFT',\n",
    "    'AVGGIFT',\n",
    "]"
   ]
  },
  {
   "cell_type": "code",
   "execution_count": 20,
   "metadata": {
    "id": "xMRP05Ztic0A"
   },
   "outputs": [],
   "source": [
    "df['MAILCODE'] = (df['MAILCODE'] == 'B').astype('float32')\n",
    "df['PVASTATE'] = df['PVASTATE'].isin(['P', 'E']).astype('float32')\n",
    "df['NOEXCH'] = df['NOEXCH'].isin(['X', '1']).astype('float32')\n",
    "df['RECINHSE'] = (df['RECINHSE'] == 'X').astype('float32')\n",
    "df['RECP3'] = (df['RECP3'] == 'X').astype('float32')\n",
    "df['RECPGVG'] = (df['RECPGVG'] == 'X').astype('float32')\n",
    "df['RECSWEEP'] = (df['RECSWEEP'] == 'X').astype('float32')\n",
    "df['HOMEOWNR'] = (df['HOMEOWNR'] == 'H').astype('float32')\n",
    "df['CHILD03'] = df['CHILD03'].isin(['M', 'F', 'B']).astype('float32')\n",
    "df['CHILD07'] = df['CHILD07'].isin(['M', 'F', 'B']).astype('float32')\n",
    "df['CHILD12'] = df['CHILD12'].isin(['M', 'F', 'B']).astype('float32')\n",
    "df['CHILD18'] = df['CHILD18'].isin(['M', 'F', 'B']).astype('float32')\n",
    "\n",
    "df['CARDPROM'] = df['CARDPROM'] / 100\n",
    "df['NUMPROM'] = df['NUMPROM'] / 100\n",
    "df['CARDPM12'] = df['CARDPM12'] / 100\n",
    "df['NUMPRM12'] = df['NUMPRM12'] / 100\n",
    "df['RAMNTALL'] = np.log1p(df['RAMNTALL'])\n",
    "df['NGIFTALL'] = np.log1p(df['NGIFTALL'])\n",
    "df['MINRAMNT'] = np.log1p(df['MINRAMNT'])\n",
    "df['MAXRAMNT'] = np.log1p(df['MAXRAMNT'])\n",
    "df['LASTGIFT'] = np.log1p(df['LASTGIFT'])\n",
    "df['AVGGIFT'] = np.log1p(df['AVGGIFT'])"
   ]
  },
  {
   "cell_type": "markdown",
   "metadata": {
    "id": "GoLg1PvWuCT_"
   },
   "source": [
    "### All"
   ]
  },
  {
   "cell_type": "code",
   "execution_count": 21,
   "metadata": {
    "id": "lSnNgjBCuJdb"
   },
   "outputs": [],
   "source": [
    "CATEGORICAL_FEATURES = VOCAB_FEATURES + INDICATOR_FEATURES\n",
    "ALL_FEATURES = CATEGORICAL_FEATURES + NUMERIC_FEATURES"
   ]
  },
  {
   "cell_type": "markdown",
   "metadata": {
    "id": "8HJBvvCxRPg3"
   },
   "source": [
    "## Train/eval split"
   ]
  },
  {
   "cell_type": "code",
   "execution_count": 22,
   "metadata": {
    "id": "N7BXLB1eHovl"
   },
   "outputs": [],
   "source": [
    "def dnn_split(df):\n",
    "  df_train = df.iloc[:num_train]\n",
    "  df_eval = df.iloc[num_train:]\n",
    "\n",
    "  def feature_dict(df):\n",
    "    features = dict()\n",
    "      \n",
    "    for k, v in dict(df[CATEGORICAL_FEATURES]).items():\n",
    "        features[k] = v.values    \n",
    "\n",
    "    features['numeric'] = df[NUMERIC_FEATURES].astype('float32').values  \n",
    "\n",
    "    return features\n",
    "\n",
    "  x_train, y_train = feature_dict(df_train), df_train['TARGET_D'].astype(\n",
    "      'float32').values\n",
    "  x_eval, y_eval = feature_dict(df_eval), df_eval['TARGET_D'].astype(\n",
    "      'float32').values\n",
    "\n",
    "  return x_train, x_eval, y_train, y_eval"
   ]
  },
  {
   "cell_type": "markdown",
   "metadata": {
    "id": "4yw6fekBtX7X"
   },
   "source": [
    "## Model"
   ]
  },
  {
   "cell_type": "code",
   "execution_count": 23,
   "metadata": {
    "id": "_rIuO0XYtZH2"
   },
   "outputs": [],
   "source": [
    "def embedding_dim(x):\n",
    "  return int(x**.25) + 1\n",
    "\n",
    "\n",
    "def embedding_layer(vocab_size):\n",
    "  return tf.keras.Sequential([\n",
    "      tf.keras.layers.Embedding(\n",
    "          input_dim=vocab_size,\n",
    "          output_dim=embedding_dim(vocab_size)),\n",
    "      tf.keras.layers.Flatten(),\n",
    "  ])\n",
    "\n",
    "# NOTE: The call to the fit method fails if the numeric, multi-dimensional, feature is not the last parameter\n",
    "def dnn_model(output_units):\n",
    "  numeric_input = tf.keras.layers.Input(\n",
    "      shape=(len(NUMERIC_FEATURES),), name='numeric')\n",
    "  numeric_inputs = [numeric_input]    \n",
    "\n",
    "  embedding_inputs = [\n",
    "      tf.keras.layers.Input(shape=(1,), name=key, dtype=np.int64)\n",
    "      for key in CATEGORICAL_FEATURES\n",
    "  ]\n",
    "\n",
    "  embedding_outputs = [\n",
    "      embedding_layer(vocab_size=df[key].max() + 1)(input)\n",
    "      for key, input in zip(CATEGORICAL_FEATURES, embedding_inputs)\n",
    "  ]\n",
    "\n",
    "  deep_input = tf.keras.layers.concatenate(embedding_outputs + numeric_inputs)\n",
    "    \n",
    "  deep_model = tf.keras.Sequential([\n",
    "      tf.keras.layers.Dense(128, activation='relu'),\n",
    "      tf.keras.layers.Dense(128, activation='relu'),\n",
    "      tf.keras.layers.Dense(64, activation='relu'),\n",
    "      tf.keras.layers.Dense(64, activation='relu'),\n",
    "      tf.keras.layers.Dense(units=output_units),\n",
    "  ])\n",
    "  return tf.keras.Model(\n",
    "      inputs=embedding_inputs + numeric_inputs, outputs=deep_model(deep_input))"
   ]
  },
  {
   "cell_type": "markdown",
   "metadata": {
    "id": "G5h7X6botcHl"
   },
   "source": [
    "## Loss"
   ]
  },
  {
   "cell_type": "code",
   "execution_count": 24,
   "metadata": {
    "id": "iJ9gpkC6tgP0"
   },
   "outputs": [],
   "source": [
    "if LOSS == 'mse':\n",
    "  loss = tf.keras.losses.MeanSquaredError()\n",
    "  output_units = 1\n",
    "\n",
    "if LOSS == 'ziln':\n",
    "  loss = ltv.zero_inflated_lognormal_loss\n",
    "  output_units = 3"
   ]
  },
  {
   "cell_type": "code",
   "execution_count": 25,
   "metadata": {
    "id": "_afFfIritjCM"
   },
   "outputs": [],
   "source": [
    "x_train, x_eval, y_train, y_eval = dnn_split(df)"
   ]
  },
  {
   "cell_type": "code",
   "execution_count": 26,
   "metadata": {},
   "outputs": [
    {
     "name": "stderr",
     "output_type": "stream",
     "text": [
      "I0000 00:00:1732681270.092404   28126 gpu_device.cc:2022] Created device /job:localhost/replica:0/task:0/device:GPU:0 with 21801 MB memory:  -> device: 0, name: NVIDIA RTX A5000, pci bus id: 0000:73:00.0, compute capability: 8.6\n"
     ]
    }
   ],
   "source": [
    "model = dnn_model(output_units)"
   ]
  },
  {
   "cell_type": "code",
   "execution_count": 27,
   "metadata": {
    "id": "Qj3kI7pyVwzO"
   },
   "outputs": [],
   "source": [
    "model.compile(optimizer=tf.keras.optimizers.Nadam(learning_rate=LEARNING_RATE), loss=loss)"
   ]
  },
  {
   "cell_type": "markdown",
   "metadata": {
    "id": "KZSYxgWdwiXC"
   },
   "source": [
    "## Train"
   ]
  },
  {
   "cell_type": "code",
   "execution_count": 28,
   "metadata": {
    "id": "Nwj9h5ysQDLp"
   },
   "outputs": [],
   "source": [
    "callbacks = [\n",
    "    tf.keras.callbacks.ReduceLROnPlateau(monitor='val_loss', min_lr=1e-6),\n",
    "    tf.keras.callbacks.EarlyStopping(monitor='val_loss', patience=10),\n",
    "]"
   ]
  },
  {
   "cell_type": "code",
   "execution_count": 29,
   "metadata": {
    "id": "Vb5Tnld6hsfx"
   },
   "outputs": [
    {
     "name": "stdout",
     "output_type": "stream",
     "text": [
      "Epoch 1/200\n"
     ]
    },
    {
     "name": "stderr",
     "output_type": "stream",
     "text": [
      "/home/reza/miniconda3/envs/clv-google/lib/python3.12/site-packages/keras/src/models/functional.py:225: UserWarning: The structure of `inputs` doesn't match the expected structure: ['ODATEDW', 'OSOURCE', 'TCODE', 'STATE', 'ZIP', 'DOMAIN', 'CLUSTER', 'GENDER', 'MAXADATE', 'MINRDATE', 'LASTDATE', 'FISTDATE', 'RFA_2A', 'AGE', 'NUMCHLD', 'INCOME', 'WEALTH1', 'HIT', 'MBCRAFT', 'MBGARDEN', 'MBBOOKS', 'MBCOLECT', 'MAGFAML', 'MAGFEM', 'MAGMALE', 'PUBGARDN', 'PUBCULIN', 'PUBHLTH', 'PUBDOITY', 'PUBNEWFN', 'PUBPHOTO', 'PUBOPP', 'RFA_2F', 'numeric']. Received: the structure of inputs={'ODATEDW': '*', 'OSOURCE': '*', 'TCODE': '*', 'STATE': '*', 'ZIP': '*', 'DOMAIN': '*', 'CLUSTER': '*', 'GENDER': '*', 'MAXADATE': '*', 'MINRDATE': '*', 'LASTDATE': '*', 'FISTDATE': '*', 'RFA_2A': '*', 'AGE': '*', 'NUMCHLD': '*', 'INCOME': '*', 'WEALTH1': '*', 'HIT': '*', 'MBCRAFT': '*', 'MBGARDEN': '*', 'MBBOOKS': '*', 'MBCOLECT': '*', 'MAGFAML': '*', 'MAGFEM': '*', 'MAGMALE': '*', 'PUBGARDN': '*', 'PUBCULIN': '*', 'PUBHLTH': '*', 'PUBDOITY': '*', 'PUBNEWFN': '*', 'PUBPHOTO': '*', 'PUBOPP': '*', 'RFA_2F': '*', 'numeric': '*'}\n",
      "  warnings.warn(\n",
      "WARNING: All log messages before absl::InitializeLog() is called are written to STDERR\n",
      "I0000 00:00:1732681278.055033   28287 service.cc:148] XLA service 0x7376940093d0 initialized for platform CUDA (this does not guarantee that XLA will be used). Devices:\n",
      "I0000 00:00:1732681278.055078   28287 service.cc:156]   StreamExecutor device (0): NVIDIA RTX A5000, Compute Capability 8.6\n",
      "2024-11-27 04:21:18.313114: I tensorflow/compiler/mlir/tensorflow/utils/dump_mlir_util.cc:268] disabling MLIR crash reproducer, set env var `MLIR_CRASH_REPRODUCER_DIRECTORY` to enable.\n",
      "I0000 00:00:1732681278.751401   28287 cuda_dnn.cc:529] Loaded cuDNN version 90300\n",
      "2024-11-27 04:21:19.018892: W external/local_xla/xla/service/gpu/nvptx_compiler.cc:930] The NVIDIA driver's CUDA version is 12.4 which is older than the PTX compiler version 12.5.82. Because the driver is older than the PTX compiler version, XLA is disabling parallel compilation, which may slow down compilation. You should update your NVIDIA driver or use the NVIDIA-provided CUDA forward compatibility packages.\n",
      "2024-11-27 04:21:19.773678: I external/local_xla/xla/stream_executor/cuda/cuda_asm_compiler.cc:397] ptxas warning : Registers are spilled to local memory in function 'gemm_fusion_dot_688', 24 bytes spill stores, 24 bytes spill loads\n",
      "\n",
      "2024-11-27 04:21:19.912804: I external/local_xla/xla/stream_executor/cuda/cuda_asm_compiler.cc:397] ptxas warning : Registers are spilled to local memory in function 'gemm_fusion_dot_681', 24 bytes spill stores, 24 bytes spill loads\n",
      "\n",
      "2024-11-27 04:21:20.168655: I external/local_xla/xla/stream_executor/cuda/cuda_asm_compiler.cc:397] ptxas warning : Registers are spilled to local memory in function 'gemm_fusion_dot_4823_0', 4 bytes spill stores, 4 bytes spill loads\n",
      "\n",
      "2024-11-27 04:21:20.554982: I external/local_xla/xla/stream_executor/cuda/cuda_asm_compiler.cc:397] ptxas warning : Registers are spilled to local memory in function 'gemm_fusion_dot_4791', 192 bytes spill stores, 192 bytes spill loads\n",
      "\n",
      "2024-11-27 04:21:20.584793: I external/local_xla/xla/stream_executor/cuda/cuda_asm_compiler.cc:397] ptxas warning : Registers are spilled to local memory in function 'gemm_fusion_dot_4855_0', 4 bytes spill stores, 4 bytes spill loads\n",
      "\n",
      "2024-11-27 04:21:20.845437: I external/local_xla/xla/stream_executor/cuda/cuda_asm_compiler.cc:397] ptxas warning : Registers are spilled to local memory in function 'gemm_fusion_dot_4791_0', 664 bytes spill stores, 636 bytes spill loads\n",
      "\n",
      "2024-11-27 04:21:21.065073: I external/local_xla/xla/stream_executor/cuda/cuda_asm_compiler.cc:397] ptxas warning : Registers are spilled to local memory in function 'gemm_fusion_dot_4823', 424 bytes spill stores, 408 bytes spill loads\n",
      "\n",
      "2024-11-27 04:21:21.181233: I external/local_xla/xla/stream_executor/cuda/cuda_asm_compiler.cc:397] ptxas warning : Registers are spilled to local memory in function 'gemm_fusion_dot_4855', 192 bytes spill stores, 192 bytes spill loads\n",
      "\n",
      "I0000 00:00:1732681285.351592   28287 device_compiler.h:188] Compiled cluster using XLA!  This line is logged at most once for the lifetime of the process.\n",
      "2024-11-27 04:21:26.960740: I external/local_xla/xla/stream_executor/cuda/cuda_asm_compiler.cc:397] ptxas warning : Registers are spilled to local memory in function 'gemm_fusion_dot_4791', 32 bytes spill stores, 40 bytes spill loads\n",
      "\n",
      "2024-11-27 04:21:27.026911: I external/local_xla/xla/stream_executor/cuda/cuda_asm_compiler.cc:397] ptxas warning : Registers are spilled to local memory in function 'gemm_fusion_dot_681', 32 bytes spill stores, 32 bytes spill loads\n",
      "\n",
      "2024-11-27 04:21:27.073231: I external/local_xla/xla/stream_executor/cuda/cuda_asm_compiler.cc:397] ptxas warning : Registers are spilled to local memory in function 'gemm_fusion_dot_688', 32 bytes spill stores, 32 bytes spill loads\n",
      "\n",
      "2024-11-27 04:21:27.554789: I external/local_xla/xla/stream_executor/cuda/cuda_asm_compiler.cc:397] ptxas warning : Registers are spilled to local memory in function 'gemm_fusion_dot_688', 12 bytes spill stores, 12 bytes spill loads\n",
      "\n",
      "2024-11-27 04:21:27.695698: I external/local_xla/xla/stream_executor/cuda/cuda_asm_compiler.cc:397] ptxas warning : Registers are spilled to local memory in function 'gemm_fusion_dot_4855', 20 bytes spill stores, 20 bytes spill loads\n",
      "\n",
      "2024-11-27 04:21:27.969721: I external/local_xla/xla/stream_executor/cuda/cuda_asm_compiler.cc:397] ptxas warning : Registers are spilled to local memory in function 'gemm_fusion_dot_4791', 336 bytes spill stores, 336 bytes spill loads\n",
      "\n",
      "2024-11-27 04:21:28.056190: I external/local_xla/xla/stream_executor/cuda/cuda_asm_compiler.cc:397] ptxas warning : Registers are spilled to local memory in function 'gemm_fusion_dot_4855', 336 bytes spill stores, 336 bytes spill loads\n",
      "\n",
      "2024-11-27 04:21:28.255440: I external/local_xla/xla/stream_executor/cuda/cuda_asm_compiler.cc:397] ptxas warning : Registers are spilled to local memory in function 'gemm_fusion_dot_4791', 20 bytes spill stores, 20 bytes spill loads\n",
      "\n",
      "2024-11-27 04:21:28.483431: I external/local_xla/xla/stream_executor/cuda/cuda_asm_compiler.cc:397] ptxas warning : Registers are spilled to local memory in function 'gemm_fusion_dot_4823', 20 bytes spill stores, 20 bytes spill loads\n",
      "\n",
      "2024-11-27 04:21:28.597627: I external/local_xla/xla/stream_executor/cuda/cuda_asm_compiler.cc:397] ptxas warning : Registers are spilled to local memory in function 'gemm_fusion_dot_4791', 1280 bytes spill stores, 1192 bytes spill loads\n",
      "\n",
      "2024-11-27 04:21:28.624953: I external/local_xla/xla/stream_executor/cuda/cuda_asm_compiler.cc:397] ptxas warning : Registers are spilled to local memory in function 'gemm_fusion_dot_4791_0', 720 bytes spill stores, 664 bytes spill loads\n",
      "\n",
      "2024-11-27 04:21:28.892069: I external/local_xla/xla/stream_executor/cuda/cuda_asm_compiler.cc:397] ptxas warning : Registers are spilled to local memory in function 'gemm_fusion_dot_4823', 1864 bytes spill stores, 1768 bytes spill loads\n",
      "\n",
      "2024-11-27 04:21:28.973485: I external/local_xla/xla/stream_executor/cuda/cuda_asm_compiler.cc:397] ptxas warning : Registers are spilled to local memory in function 'gemm_fusion_dot_4823', 704 bytes spill stores, 708 bytes spill loads\n",
      "\n",
      "2024-11-27 04:21:28.985108: I external/local_xla/xla/stream_executor/cuda/cuda_asm_compiler.cc:397] ptxas warning : Registers are spilled to local memory in function 'gemm_fusion_dot_4791', 664 bytes spill stores, 668 bytes spill loads\n",
      "\n",
      "2024-11-27 04:21:35.511040: I external/local_xla/xla/stream_executor/cuda/cuda_asm_compiler.cc:397] ptxas warning : Registers are spilled to local memory in function 'gemm_fusion_dot_559', 12 bytes spill stores, 12 bytes spill loads\n",
      "\n",
      "2024-11-27 04:21:35.559409: I external/local_xla/xla/stream_executor/cuda/cuda_asm_compiler.cc:397] ptxas warning : Registers are spilled to local memory in function 'gemm_fusion_dot_552', 32 bytes spill stores, 32 bytes spill loads\n",
      "\n",
      "2024-11-27 04:21:35.803794: I external/local_xla/xla/stream_executor/cuda/cuda_asm_compiler.cc:397] ptxas warning : Registers are spilled to local memory in function 'gemm_fusion_dot_559', 32 bytes spill stores, 32 bytes spill loads\n",
      "\n"
     ]
    },
    {
     "name": "stdout",
     "output_type": "stream",
     "text": [
      "47/47 - 25s - 534ms/step - loss: 19.5878 - val_loss: 22.2897 - learning_rate: 1.0000e-03\n",
      "Epoch 2/200\n",
      "47/47 - 0s - 8ms/step - loss: 19.5544 - val_loss: 22.2736 - learning_rate: 1.0000e-03\n",
      "Epoch 3/200\n",
      "47/47 - 0s - 8ms/step - loss: 19.5196 - val_loss: 22.2331 - learning_rate: 1.0000e-03\n",
      "Epoch 4/200\n",
      "47/47 - 0s - 8ms/step - loss: 19.4912 - val_loss: 22.2507 - learning_rate: 1.0000e-03\n",
      "Epoch 5/200\n",
      "47/47 - 0s - 7ms/step - loss: 19.4738 - val_loss: 22.2355 - learning_rate: 1.0000e-03\n",
      "Epoch 6/200\n",
      "47/47 - 0s - 8ms/step - loss: 19.4578 - val_loss: 22.2513 - learning_rate: 1.0000e-03\n",
      "Epoch 7/200\n",
      "47/47 - 0s - 8ms/step - loss: 19.4381 - val_loss: 22.2254 - learning_rate: 1.0000e-03\n",
      "Epoch 8/200\n",
      "47/47 - 0s - 8ms/step - loss: 19.4059 - val_loss: 22.1992 - learning_rate: 1.0000e-03\n",
      "Epoch 9/200\n",
      "47/47 - 0s - 8ms/step - loss: 19.3794 - val_loss: 22.1653 - learning_rate: 1.0000e-03\n",
      "Epoch 10/200\n",
      "47/47 - 0s - 8ms/step - loss: 19.3080 - val_loss: 22.1501 - learning_rate: 1.0000e-03\n",
      "Epoch 11/200\n",
      "47/47 - 0s - 8ms/step - loss: 19.2490 - val_loss: 22.2074 - learning_rate: 1.0000e-03\n",
      "Epoch 12/200\n",
      "47/47 - 0s - 8ms/step - loss: 19.1880 - val_loss: 22.1165 - learning_rate: 1.0000e-03\n",
      "Epoch 13/200\n",
      "47/47 - 0s - 8ms/step - loss: 19.0560 - val_loss: 22.4351 - learning_rate: 1.0000e-03\n",
      "Epoch 14/200\n",
      "47/47 - 0s - 8ms/step - loss: 19.0168 - val_loss: 22.2591 - learning_rate: 1.0000e-03\n",
      "Epoch 15/200\n",
      "47/47 - 0s - 8ms/step - loss: 18.8540 - val_loss: 22.2696 - learning_rate: 1.0000e-03\n",
      "Epoch 16/200\n",
      "47/47 - 0s - 8ms/step - loss: 18.8345 - val_loss: 22.6891 - learning_rate: 1.0000e-03\n",
      "Epoch 17/200\n",
      "47/47 - 0s - 8ms/step - loss: 18.5545 - val_loss: 22.2662 - learning_rate: 1.0000e-03\n",
      "Epoch 18/200\n",
      "47/47 - 0s - 8ms/step - loss: 18.8228 - val_loss: 22.2344 - learning_rate: 1.0000e-03\n",
      "Epoch 19/200\n",
      "47/47 - 0s - 8ms/step - loss: 18.1994 - val_loss: 22.4028 - learning_rate: 1.0000e-03\n",
      "Epoch 20/200\n",
      "47/47 - 0s - 8ms/step - loss: 18.0662 - val_loss: 22.4406 - learning_rate: 1.0000e-03\n",
      "Epoch 21/200\n",
      "47/47 - 0s - 8ms/step - loss: 18.0092 - val_loss: 22.3929 - learning_rate: 1.0000e-03\n",
      "Epoch 22/200\n",
      "47/47 - 0s - 8ms/step - loss: 17.8943 - val_loss: 23.2329 - learning_rate: 1.0000e-03\n",
      "CPU times: user 2min 15s, sys: 5.17 s, total: 2min 20s\n",
      "Wall time: 33.1 s\n"
     ]
    }
   ],
   "source": [
    "%%time\n",
    "# y array needs to have a two dimensional shape to work with ziln loss function\n",
    "# so we use [:, np.newaxis] to make the data two-dimensional for the fit function call\n",
    "history = model.fit(\n",
    "    x=x_train,\n",
    "    y=y_train[:, np.newaxis],\n",
    "    batch_size=2048,\n",
    "    epochs=200,\n",
    "    verbose=2,\n",
    "    callbacks=callbacks,\n",
    "    validation_data=(x_eval, y_eval[:, np.newaxis])).history"
   ]
  },
  {
   "cell_type": "code",
   "execution_count": 30,
   "metadata": {
    "id": "J1sLSUdgvfa6"
   },
   "outputs": [
    {
     "data": {
      "image/png": "[encoded data removed]",
      "text/plain": [
       "<Figure size 640x480 with 1 Axes>"
      ]
     },
     "metadata": {
      "image/png": {
       "height": 413,
       "width": 543
      }
     },
     "output_type": "display_data"
    }
   ],
   "source": [
    "pd.DataFrame(history)[['loss', 'val_loss']].plot();"
   ]
  },
  {
   "cell_type": "markdown",
   "metadata": {
    "id": "jRKuZBqhvhT9"
   },
   "source": [
    "## Eval"
   ]
  },
  {
   "cell_type": "code",
   "execution_count": 31,
   "metadata": {
    "id": "q9_zNMd3vjNk"
   },
   "outputs": [
    {
     "name": "stderr",
     "output_type": "stream",
     "text": [
      "/home/reza/miniconda3/envs/clv-google/lib/python3.12/site-packages/keras/src/models/functional.py:225: UserWarning: The structure of `inputs` doesn't match the expected structure: ['ODATEDW', 'OSOURCE', 'TCODE', 'STATE', 'ZIP', 'DOMAIN', 'CLUSTER', 'GENDER', 'MAXADATE', 'MINRDATE', 'LASTDATE', 'FISTDATE', 'RFA_2A', 'AGE', 'NUMCHLD', 'INCOME', 'WEALTH1', 'HIT', 'MBCRAFT', 'MBGARDEN', 'MBBOOKS', 'MBCOLECT', 'MAGFAML', 'MAGFEM', 'MAGMALE', 'PUBGARDN', 'PUBCULIN', 'PUBHLTH', 'PUBDOITY', 'PUBNEWFN', 'PUBPHOTO', 'PUBOPP', 'RFA_2F', 'numeric']. Received: the structure of inputs={'ODATEDW': '*', 'OSOURCE': '*', 'TCODE': '*', 'STATE': '*', 'ZIP': '*', 'DOMAIN': '*', 'CLUSTER': '*', 'GENDER': '*', 'MAXADATE': '*', 'MINRDATE': '*', 'LASTDATE': '*', 'FISTDATE': '*', 'RFA_2A': '*', 'AGE': '*', 'NUMCHLD': '*', 'INCOME': '*', 'WEALTH1': '*', 'HIT': '*', 'MBCRAFT': '*', 'MBGARDEN': '*', 'MBBOOKS': '*', 'MBCOLECT': '*', 'MAGFAML': '*', 'MAGFEM': '*', 'MAGMALE': '*', 'PUBGARDN': '*', 'PUBCULIN': '*', 'PUBHLTH': '*', 'PUBDOITY': '*', 'PUBNEWFN': '*', 'PUBPHOTO': '*', 'PUBOPP': '*', 'RFA_2F': '*', 'numeric': '*'}\n",
      "  warnings.warn(\n",
      "2024-11-27 04:21:46.077684: I external/local_xla/xla/stream_executor/cuda/cuda_asm_compiler.cc:397] ptxas warning : Registers are spilled to local memory in function 'gemm_fusion_dot_546', 24 bytes spill stores, 24 bytes spill loads\n",
      "\n",
      "2024-11-27 04:21:46.196129: I external/local_xla/xla/stream_executor/cuda/cuda_asm_compiler.cc:397] ptxas warning : Registers are spilled to local memory in function 'gemm_fusion_dot_553', 24 bytes spill stores, 24 bytes spill loads\n",
      "\n"
     ]
    },
    {
     "name": "stdout",
     "output_type": "stream",
     "text": [
      "\u001b[1m95/95\u001b[0m \u001b[32m━━━━━━━━━━━━━━━━━━━━\u001b[0m\u001b[37m\u001b[0m \u001b[1m4s\u001b[0m 19ms/step\n"
     ]
    }
   ],
   "source": [
    "if LOSS == 'mse':\n",
    "  y_pred = model.predict(x=x_eval, batch_size=1024).flatten()\n",
    "\n",
    "if LOSS == 'ziln':\n",
    "  logits = model.predict(x=x_eval, batch_size=1024)\n",
    "  y_pred = ltv.zero_inflated_lognormal_pred(logits).numpy().flatten()"
   ]
  },
  {
   "cell_type": "markdown",
   "metadata": {
    "id": "SkfkUMUvUu_E"
   },
   "source": [
    "### Total Profit"
   ]
  },
  {
   "cell_type": "code",
   "execution_count": 32,
   "metadata": {
    "id": "AwfWAp8WQuns"
   },
   "outputs": [],
   "source": [
    "unit_costs = [0.4, 0.5, 0.6, 0.68, 0.7, 0.8, 0.9, 1.0]"
   ]
  },
  {
   "cell_type": "code",
   "execution_count": 33,
   "metadata": {
    "id": "zqi91dfCUxpx"
   },
   "outputs": [
    {
     "data": {
      "text/plain": [
       "[np.int64(88109),\n",
       " np.int64(70380),\n",
       " np.int64(51959),\n",
       " np.int64(38647),\n",
       " np.int64(35661),\n",
       " np.int64(24210),\n",
       " np.int64(16746),\n",
       " np.int64(11680)]"
      ]
     },
     "execution_count": 33,
     "metadata": {},
     "output_type": "execute_result"
    }
   ],
   "source": [
    "num_mailed = [np.sum(y_pred > v) for v in unit_costs]\n",
    "num_mailed"
   ]
  },
  {
   "cell_type": "code",
   "execution_count": 34,
   "metadata": {
    "id": "ZgFjZUcuhScv"
   },
   "outputs": [
    {
     "data": {
      "text/plain": [
       "np.float32(10560.074)"
      ]
     },
     "execution_count": 34,
     "metadata": {},
     "output_type": "execute_result"
    }
   ],
   "source": [
    "baseline_total_profit = np.sum(y_eval - 0.68)\n",
    "baseline_total_profit"
   ]
  },
  {
   "cell_type": "code",
   "execution_count": 35,
   "metadata": {
    "id": "VwsFnin5U-R9"
   },
   "outputs": [
    {
     "data": {
      "text/plain": [
       "[np.float32(37421.535),\n",
       " np.float32(27591.77),\n",
       " np.float32(18713.871),\n",
       " np.float32(13134.807),\n",
       " np.float32(12032.072),\n",
       " np.float32(7122.269),\n",
       " np.float32(4546.551),\n",
       " np.float32(3503.5)]"
      ]
     },
     "execution_count": 35,
     "metadata": {},
     "output_type": "execute_result"
    }
   ],
   "source": [
    "total_profits = [np.sum(y_eval[y_pred > v] - v) for v in unit_costs]\n",
    "total_profits"
   ]
  },
  {
   "cell_type": "markdown",
   "metadata": {
    "id": "zROhsEWxnA5u"
   },
   "source": [
    "### Gini Coefficient"
   ]
  },
  {
   "cell_type": "code",
   "execution_count": 36,
   "metadata": {
    "id": "gRsJ7y-632h_"
   },
   "outputs": [],
   "source": [
    "gain = pd.DataFrame({\n",
    "    'lorenz': ltv.cumulative_true(y_eval, y_eval),\n",
    "    'baseline': ltv.cumulative_true(y_eval, x_eval['numeric'][:, 19]),\n",
    "    'model': ltv.cumulative_true(y_eval, y_pred),\n",
    "})"
   ]
  },
  {
   "cell_type": "code",
   "execution_count": 37,
   "metadata": {
    "id": "yg-ndbve4AL_"
   },
   "outputs": [],
   "source": [
    "num_customers = np.float32(gain.shape[0])\n",
    "gain['cumulative_customer'] = (np.arange(num_customers) + 1.) / num_customers"
   ]
  },
  {
   "cell_type": "code",
   "execution_count": 38,
   "metadata": {
    "id": "WEoAvuCj4OVy"
   },
   "outputs": [
    {
     "data": {
      "image/png": "[encoded data removed]",
      "text/plain": [
       "<Figure size 800x500 with 1 Axes>"
      ]
     },
     "metadata": {
      "image/png": {
       "height": 469,
       "width": 702
      }
     },
     "output_type": "display_data"
    }
   ],
   "source": [
    "ax = gain[[\n",
    "    'cumulative_customer',\n",
    "    'lorenz',\n",
    "    'baseline',\n",
    "    'model',\n",
    "]].plot(\n",
    "    x='cumulative_customer', figsize=(8, 5), legend=True)\n",
    "\n",
    "ax.legend(['Groundtruth', 'Baseline', 'Model'], loc='lower right')\n",
    "\n",
    "ax.set_xlabel('Cumulative Fraction of Customers')\n",
    "ax.set_xticks(np.arange(0, 1.1, 0.1))\n",
    "ax.set_xlim((0, 1.))\n",
    "\n",
    "ax.set_ylabel('Cumulative Fraction of Total Lifetime Value')\n",
    "ax.set_yticks(np.arange(0, 1.1, 0.1))\n",
    "ax.set_ylim((0, 1.05))\n",
    "ax.set_title('Gain Chart');"
   ]
  },
  {
   "cell_type": "code",
   "execution_count": 39,
   "metadata": {
    "id": "kzPqaiNO4iWC"
   },
   "outputs": [
    {
     "name": "stderr",
     "output_type": "stream",
     "text": [
      "/home/reza/miniconda3/envs/clv-google/lib/python3.12/site-packages/lifetime_value/metrics.py:57: FutureWarning: Series.__getitem__ treating keys as positions is deprecated. In a future version, integer keys will always be treated as labels (consistent with DataFrame behavior). To access a value by position, use `ser.iloc[pos]`\n",
      "  normalized = raw / raw[0]\n"
     ]
    },
    {
     "data": {
      "text/html": [
       "<div>\n",
       "<style scoped>\n",
       "    .dataframe tbody tr th:only-of-type {\n",
       "        vertical-align: middle;\n",
       "    }\n",
       "\n",
       "    .dataframe tbody tr th {\n",
       "        vertical-align: top;\n",
       "    }\n",
       "\n",
       "    .dataframe thead th {\n",
       "        text-align: right;\n",
       "    }\n",
       "</style>\n",
       "<table border=\"1\" class=\"dataframe\">\n",
       "  <thead>\n",
       "    <tr style=\"text-align: right;\">\n",
       "      <th></th>\n",
       "      <th>raw</th>\n",
       "      <th>normalized</th>\n",
       "    </tr>\n",
       "  </thead>\n",
       "  <tbody>\n",
       "    <tr>\n",
       "      <th>lorenz</th>\n",
       "      <td>0.967057</td>\n",
       "      <td>1.000000</td>\n",
       "    </tr>\n",
       "    <tr>\n",
       "      <th>baseline</th>\n",
       "      <td>0.124679</td>\n",
       "      <td>0.128926</td>\n",
       "    </tr>\n",
       "    <tr>\n",
       "      <th>model</th>\n",
       "      <td>0.172370</td>\n",
       "      <td>0.178241</td>\n",
       "    </tr>\n",
       "  </tbody>\n",
       "</table>\n",
       "</div>"
      ],
      "text/plain": [
       "               raw  normalized\n",
       "lorenz    0.967057    1.000000\n",
       "baseline  0.124679    0.128926\n",
       "model     0.172370    0.178241"
      ]
     },
     "execution_count": 39,
     "metadata": {},
     "output_type": "execute_result"
    }
   ],
   "source": [
    "gini = ltv.gini_from_gain(gain[['lorenz', 'baseline', 'model']])\n",
    "gini"
   ]
  },
  {
   "cell_type": "markdown",
   "metadata": {
    "id": "S84RitIa9PBu"
   },
   "source": [
    "### Calibration"
   ]
  },
  {
   "cell_type": "code",
   "execution_count": 40,
   "metadata": {
    "id": "X7sKbsEf6RvF"
   },
   "outputs": [
    {
     "name": "stderr",
     "output_type": "stream",
     "text": [
      "/home/reza/miniconda3/envs/clv-google/lib/python3.12/site-packages/lifetime_value/metrics.py:105: FutureWarning: The default of observed=False is deprecated and will be changed to True in a future version of pandas. Pass observed=False to retain current behavior or observed=True to adopt the future default and silence this warning.\n",
      "  }).groupby('decile').apply(_aggregate_fn)\n"
     ]
    },
    {
     "data": {
      "text/html": [
       "<div>\n",
       "<style scoped>\n",
       "    .dataframe tbody tr th:only-of-type {\n",
       "        vertical-align: middle;\n",
       "    }\n",
       "\n",
       "    .dataframe tbody tr th {\n",
       "        vertical-align: top;\n",
       "    }\n",
       "\n",
       "    .dataframe thead th {\n",
       "        text-align: right;\n",
       "    }\n",
       "</style>\n",
       "<table border=\"1\" class=\"dataframe\">\n",
       "  <thead>\n",
       "    <tr style=\"text-align: right;\">\n",
       "      <th></th>\n",
       "      <th>label_mean</th>\n",
       "      <th>pred_mean</th>\n",
       "      <th>normalized_rmse</th>\n",
       "      <th>normalized_mae</th>\n",
       "      <th>decile_mape</th>\n",
       "    </tr>\n",
       "    <tr>\n",
       "      <th>decile</th>\n",
       "      <th></th>\n",
       "      <th></th>\n",
       "      <th></th>\n",
       "      <th></th>\n",
       "      <th></th>\n",
       "    </tr>\n",
       "  </thead>\n",
       "  <tbody>\n",
       "    <tr>\n",
       "      <th>0</th>\n",
       "      <td>0.437947</td>\n",
       "      <td>0.352641</td>\n",
       "      <td>5.766818</td>\n",
       "      <td>1.730310</td>\n",
       "      <td>0.194787</td>\n",
       "    </tr>\n",
       "    <tr>\n",
       "      <th>1</th>\n",
       "      <td>0.547266</td>\n",
       "      <td>0.439714</td>\n",
       "      <td>5.437359</td>\n",
       "      <td>1.730648</td>\n",
       "      <td>0.196526</td>\n",
       "    </tr>\n",
       "    <tr>\n",
       "      <th>2</th>\n",
       "      <td>0.613052</td>\n",
       "      <td>0.490836</td>\n",
       "      <td>5.201873</td>\n",
       "      <td>1.725338</td>\n",
       "      <td>0.199357</td>\n",
       "    </tr>\n",
       "    <tr>\n",
       "      <th>3</th>\n",
       "      <td>0.720037</td>\n",
       "      <td>0.540963</td>\n",
       "      <td>5.801156</td>\n",
       "      <td>1.672225</td>\n",
       "      <td>0.248701</td>\n",
       "    </tr>\n",
       "    <tr>\n",
       "      <th>4</th>\n",
       "      <td>0.679724</td>\n",
       "      <td>0.593936</td>\n",
       "      <td>5.146513</td>\n",
       "      <td>1.786980</td>\n",
       "      <td>0.126210</td>\n",
       "    </tr>\n",
       "    <tr>\n",
       "      <th>5</th>\n",
       "      <td>0.814705</td>\n",
       "      <td>0.650354</td>\n",
       "      <td>4.845120</td>\n",
       "      <td>1.712039</td>\n",
       "      <td>0.201731</td>\n",
       "    </tr>\n",
       "    <tr>\n",
       "      <th>6</th>\n",
       "      <td>0.883107</td>\n",
       "      <td>0.715208</td>\n",
       "      <td>4.884840</td>\n",
       "      <td>1.720317</td>\n",
       "      <td>0.190123</td>\n",
       "    </tr>\n",
       "    <tr>\n",
       "      <th>7</th>\n",
       "      <td>0.918983</td>\n",
       "      <td>0.803293</td>\n",
       "      <td>5.124897</td>\n",
       "      <td>1.780690</td>\n",
       "      <td>0.125889</td>\n",
       "    </tr>\n",
       "    <tr>\n",
       "      <th>8</th>\n",
       "      <td>0.932962</td>\n",
       "      <td>0.945861</td>\n",
       "      <td>4.744325</td>\n",
       "      <td>1.905122</td>\n",
       "      <td>0.013827</td>\n",
       "    </tr>\n",
       "    <tr>\n",
       "      <th>9</th>\n",
       "      <td>1.348034</td>\n",
       "      <td>1.595662</td>\n",
       "      <td>7.465745</td>\n",
       "      <td>2.055021</td>\n",
       "      <td>0.183696</td>\n",
       "    </tr>\n",
       "  </tbody>\n",
       "</table>\n",
       "</div>"
      ],
      "text/plain": [
       "        label_mean  pred_mean  normalized_rmse  normalized_mae  decile_mape\n",
       "decile                                                                     \n",
       "0         0.437947   0.352641         5.766818        1.730310     0.194787\n",
       "1         0.547266   0.439714         5.437359        1.730648     0.196526\n",
       "2         0.613052   0.490836         5.201873        1.725338     0.199357\n",
       "3         0.720037   0.540963         5.801156        1.672225     0.248701\n",
       "4         0.679724   0.593936         5.146513        1.786980     0.126210\n",
       "5         0.814705   0.650354         4.845120        1.712039     0.201731\n",
       "6         0.883107   0.715208         4.884840        1.720317     0.190123\n",
       "7         0.918983   0.803293         5.124897        1.780690     0.125889\n",
       "8         0.932962   0.945861         4.744325        1.905122     0.013827\n",
       "9         1.348034   1.595662         7.465745        2.055021     0.183696"
      ]
     },
     "execution_count": 40,
     "metadata": {},
     "output_type": "execute_result"
    }
   ],
   "source": [
    "df_decile = ltv.decile_stats(y_eval, y_pred)\n",
    "df_decile"
   ]
  },
  {
   "cell_type": "code",
   "execution_count": 41,
   "metadata": {
    "id": "DHdLqUqdL4hf"
   },
   "outputs": [
    {
     "data": {
      "image/png": "[encoded data removed]",
      "text/plain": [
       "<Figure size 640x480 with 1 Axes>"
      ]
     },
     "metadata": {
      "image/png": {
       "height": 454,
       "width": 567
      }
     },
     "output_type": "display_data"
    }
   ],
   "source": [
    "ax = df_decile[['label_mean', 'pred_mean']].plot.bar(rot=0)\n",
    "\n",
    "ax.set_title('Decile Chart')\n",
    "ax.set_xlabel('Prediction bucket')\n",
    "ax.set_ylabel('Average bucket value')\n",
    "ax.legend(['Label', 'Prediction'], loc='upper left');"
   ]
  },
  {
   "cell_type": "markdown",
   "metadata": {
    "id": "nK6DQ89xU-d4"
   },
   "source": [
    "### Rank Correlation"
   ]
  },
  {
   "cell_type": "code",
   "execution_count": 42,
   "metadata": {
    "id": "I9qWGyY3WePz"
   },
   "outputs": [
    {
     "data": {
      "text/plain": [
       "np.float64(0.011971924410671818)"
      ]
     },
     "execution_count": 42,
     "metadata": {},
     "output_type": "execute_result"
    }
   ],
   "source": [
    "def spearmanr(\n",
    "    x1: Sequence[float],\n",
    "    x2: Sequence[float]) -> float:\n",
    "  \"\"\"Calculates spearmanr rank correlation coefficient.\n",
    "\n",
    "  See https://docs.scipy.org/doc/scipy/reference/stats.html.\n",
    "\n",
    "  Args:\n",
    "    x1: 1D array_like.\n",
    "    x2: 1D array_like.\n",
    "\n",
    "  Returns:\n",
    "    correlation: float.\n",
    "  \"\"\"\n",
    "  return stats.spearmanr(x1, x2, nan_policy='raise')[0]\n",
    "\n",
    "\n",
    "spearman_corr = spearmanr(y_eval, y_pred)\n",
    "spearman_corr"
   ]
  },
  {
   "cell_type": "markdown",
   "metadata": {
    "id": "-i_AbqhXcurk"
   },
   "source": [
    "### All metrics together"
   ]
  },
  {
   "cell_type": "code",
   "execution_count": 43,
   "metadata": {
    "id": "Umqg1-0Bc1HS"
   },
   "outputs": [
    {
     "name": "stderr",
     "output_type": "stream",
     "text": [
      "/tmp/ipykernel_28126/3720388555.py:10: FutureWarning: Series.__getitem__ treating keys as positions is deprecated. In a future version, integer keys will always be treated as labels (consistent with DataFrame behavior). To access a value by position, use `ser.iloc[pos]`\n",
      "  'baseline_gini': gini['normalized'][1],\n",
      "/tmp/ipykernel_28126/3720388555.py:11: FutureWarning: Series.__getitem__ treating keys as positions is deprecated. In a future version, integer keys will always be treated as labels (consistent with DataFrame behavior). To access a value by position, use `ser.iloc[pos]`\n",
      "  'gini': gini['normalized'][2],\n"
     ]
    }
   ],
   "source": [
    "df_metrics = pd.DataFrame({\n",
    "    'model': MODEL,\n",
    "    'loss_function': LOSS,\n",
    "    'train_loss': history['loss'][-1],\n",
    "    'eval_loss': history['val_loss'][-1],\n",
    "    'label_positive': np.mean(y_eval > 0),\n",
    "    'label_mean': y_eval.mean(),\n",
    "    'pred_mean': y_pred.mean(),\n",
    "    'decile_mape': df_decile['decile_mape'].mean(),\n",
    "    'baseline_gini': gini['normalized'][1],\n",
    "    'gini': gini['normalized'][2],\n",
    "    'spearman_corr': spearman_corr,\n",
    "}, index=[VERSION])"
   ]
  },
  {
   "cell_type": "code",
   "execution_count": 44,
   "metadata": {
    "id": "C_cM2Mc2SB3W"
   },
   "outputs": [],
   "source": [
    "for unit_cost, total_profit in zip(unit_costs, total_profits):\n",
    "  df_metrics['total_profit_{:02d}'.format(int(unit_cost * 100))] = total_profit"
   ]
  },
  {
   "cell_type": "code",
   "execution_count": 45,
   "metadata": {
    "id": "iyMvsOtbRrXZ"
   },
   "outputs": [
    {
     "data": {
      "text/html": [
       "<div>\n",
       "<style scoped>\n",
       "    .dataframe tbody tr th:only-of-type {\n",
       "        vertical-align: middle;\n",
       "    }\n",
       "\n",
       "    .dataframe tbody tr th {\n",
       "        vertical-align: top;\n",
       "    }\n",
       "\n",
       "    .dataframe thead th {\n",
       "        text-align: right;\n",
       "    }\n",
       "</style>\n",
       "<table border=\"1\" class=\"dataframe\">\n",
       "  <thead>\n",
       "    <tr style=\"text-align: right;\">\n",
       "      <th></th>\n",
       "      <th>0</th>\n",
       "    </tr>\n",
       "  </thead>\n",
       "  <tbody>\n",
       "    <tr>\n",
       "      <th>model</th>\n",
       "      <td>dnn</td>\n",
       "    </tr>\n",
       "    <tr>\n",
       "      <th>loss_function</th>\n",
       "      <td>mse</td>\n",
       "    </tr>\n",
       "    <tr>\n",
       "      <th>train_loss</th>\n",
       "      <td>17.894335</td>\n",
       "    </tr>\n",
       "    <tr>\n",
       "      <th>eval_loss</th>\n",
       "      <td>23.232906</td>\n",
       "    </tr>\n",
       "    <tr>\n",
       "      <th>label_positive</th>\n",
       "      <td>0.050567</td>\n",
       "    </tr>\n",
       "    <tr>\n",
       "      <th>label_mean</th>\n",
       "      <td>0.789582</td>\n",
       "    </tr>\n",
       "    <tr>\n",
       "      <th>pred_mean</th>\n",
       "      <td>0.712849</td>\n",
       "    </tr>\n",
       "    <tr>\n",
       "      <th>decile_mape</th>\n",
       "      <td>0.168085</td>\n",
       "    </tr>\n",
       "    <tr>\n",
       "      <th>baseline_gini</th>\n",
       "      <td>0.128926</td>\n",
       "    </tr>\n",
       "    <tr>\n",
       "      <th>gini</th>\n",
       "      <td>0.178241</td>\n",
       "    </tr>\n",
       "    <tr>\n",
       "      <th>spearman_corr</th>\n",
       "      <td>0.011972</td>\n",
       "    </tr>\n",
       "    <tr>\n",
       "      <th>total_profit_40</th>\n",
       "      <td>37421.535156</td>\n",
       "    </tr>\n",
       "    <tr>\n",
       "      <th>total_profit_50</th>\n",
       "      <td>27591.769531</td>\n",
       "    </tr>\n",
       "    <tr>\n",
       "      <th>total_profit_60</th>\n",
       "      <td>18713.871094</td>\n",
       "    </tr>\n",
       "    <tr>\n",
       "      <th>total_profit_68</th>\n",
       "      <td>13134.806641</td>\n",
       "    </tr>\n",
       "    <tr>\n",
       "      <th>total_profit_70</th>\n",
       "      <td>12032.072266</td>\n",
       "    </tr>\n",
       "    <tr>\n",
       "      <th>total_profit_80</th>\n",
       "      <td>7122.269043</td>\n",
       "    </tr>\n",
       "    <tr>\n",
       "      <th>total_profit_90</th>\n",
       "      <td>4546.550781</td>\n",
       "    </tr>\n",
       "    <tr>\n",
       "      <th>total_profit_100</th>\n",
       "      <td>3503.5</td>\n",
       "    </tr>\n",
       "  </tbody>\n",
       "</table>\n",
       "</div>"
      ],
      "text/plain": [
       "                             0\n",
       "model                      dnn\n",
       "loss_function              mse\n",
       "train_loss           17.894335\n",
       "eval_loss            23.232906\n",
       "label_positive        0.050567\n",
       "label_mean            0.789582\n",
       "pred_mean             0.712849\n",
       "decile_mape           0.168085\n",
       "baseline_gini         0.128926\n",
       "gini                  0.178241\n",
       "spearman_corr         0.011972\n",
       "total_profit_40   37421.535156\n",
       "total_profit_50   27591.769531\n",
       "total_profit_60   18713.871094\n",
       "total_profit_68   13134.806641\n",
       "total_profit_70   12032.072266\n",
       "total_profit_80    7122.269043\n",
       "total_profit_90    4546.550781\n",
       "total_profit_100        3503.5"
      ]
     },
     "execution_count": 45,
     "metadata": {},
     "output_type": "execute_result"
    }
   ],
   "source": [
    "df_metrics.T"
   ]
  },
  {
   "cell_type": "markdown",
   "metadata": {
    "id": "8uHtLKk1x0IE"
   },
   "source": [
    "## Save"
   ]
  },
  {
   "cell_type": "code",
   "execution_count": 46,
   "metadata": {
    "id": "L-fMkqWIm6X6"
   },
   "outputs": [],
   "source": [
    "output_path = OUTPUT_CSV_FOLDER"
   ]
  },
  {
   "cell_type": "code",
   "execution_count": 47,
   "metadata": {
    "id": "jpJJAbWEm94h"
   },
   "outputs": [],
   "source": [
    "if not os.path.isdir(output_path):\n",
    "  os.makedirs(output_path)"
   ]
  },
  {
   "cell_type": "code",
   "execution_count": 48,
   "metadata": {
    "id": "y4LcrTLOm_4B"
   },
   "outputs": [],
   "source": [
    "output_file = os.path.join(output_path, '{}_regression_{}_{}.csv'.format(MODEL, LOSS, VERSION))"
   ]
  },
  {
   "cell_type": "code",
   "execution_count": 49,
   "metadata": {
    "id": "4WOF7a-dnENp"
   },
   "outputs": [],
   "source": [
    "df_metrics.to_csv(output_file, index=False)"
   ]
  },
  {
   "cell_type": "code",
   "execution_count": 50,
   "metadata": {},
   "outputs": [
    {
     "data": {
      "text/html": [
       "<div>\n",
       "<style scoped>\n",
       "    .dataframe tbody tr th:only-of-type {\n",
       "        vertical-align: middle;\n",
       "    }\n",
       "\n",
       "    .dataframe tbody tr th {\n",
       "        vertical-align: top;\n",
       "    }\n",
       "\n",
       "    .dataframe thead th {\n",
       "        text-align: right;\n",
       "    }\n",
       "</style>\n",
       "<table border=\"1\" class=\"dataframe\">\n",
       "  <thead>\n",
       "    <tr style=\"text-align: right;\">\n",
       "      <th></th>\n",
       "      <th>model</th>\n",
       "      <th>loss_function</th>\n",
       "      <th>train_loss</th>\n",
       "      <th>eval_loss</th>\n",
       "      <th>label_positive</th>\n",
       "      <th>label_mean</th>\n",
       "      <th>pred_mean</th>\n",
       "      <th>decile_mape</th>\n",
       "      <th>baseline_gini</th>\n",
       "      <th>gini</th>\n",
       "      <th>spearman_corr</th>\n",
       "      <th>total_profit_40</th>\n",
       "      <th>total_profit_50</th>\n",
       "      <th>total_profit_60</th>\n",
       "      <th>total_profit_68</th>\n",
       "      <th>total_profit_70</th>\n",
       "      <th>total_profit_80</th>\n",
       "      <th>total_profit_90</th>\n",
       "      <th>total_profit_100</th>\n",
       "    </tr>\n",
       "  </thead>\n",
       "  <tbody>\n",
       "    <tr>\n",
       "      <th>0</th>\n",
       "      <td>dnn</td>\n",
       "      <td>mse</td>\n",
       "      <td>17.894335</td>\n",
       "      <td>23.232906</td>\n",
       "      <td>0.050567</td>\n",
       "      <td>0.789582</td>\n",
       "      <td>0.712849</td>\n",
       "      <td>0.168085</td>\n",
       "      <td>0.128926</td>\n",
       "      <td>0.178241</td>\n",
       "      <td>0.011972</td>\n",
       "      <td>37421.535156</td>\n",
       "      <td>27591.769531</td>\n",
       "      <td>18713.871094</td>\n",
       "      <td>13134.806641</td>\n",
       "      <td>12032.072266</td>\n",
       "      <td>7122.269043</td>\n",
       "      <td>4546.550781</td>\n",
       "      <td>3503.5</td>\n",
       "    </tr>\n",
       "  </tbody>\n",
       "</table>\n",
       "</div>"
      ],
      "text/plain": [
       "  model loss_function  train_loss  eval_loss  label_positive  label_mean  \\\n",
       "0   dnn           mse   17.894335  23.232906        0.050567    0.789582   \n",
       "\n",
       "   pred_mean  decile_mape  baseline_gini      gini  spearman_corr  \\\n",
       "0   0.712849     0.168085       0.128926  0.178241       0.011972   \n",
       "\n",
       "   total_profit_40  total_profit_50  total_profit_60  total_profit_68  \\\n",
       "0     37421.535156     27591.769531     18713.871094     13134.806641   \n",
       "\n",
       "   total_profit_70  total_profit_80  total_profit_90  total_profit_100  \n",
       "0     12032.072266      7122.269043      4546.550781            3503.5  "
      ]
     },
     "execution_count": 50,
     "metadata": {},
     "output_type": "execute_result"
    }
   ],
   "source": [
    "df_metrics"
   ]
  },
  {
   "cell_type": "code",
   "execution_count": null,
   "metadata": {},
   "outputs": [],
   "source": []
  }
 ],
 "metadata": {
  "colab": {
   "collapsed_sections": [],
   "last_runtime": {
    "build_target": "",
    "kind": "local"
   },
   "name": "regression.ipynb",
   "provenance": []
  },
  "kernelspec": {
   "display_name": "Python 3 (ipykernel)",
   "language": "python",
   "name": "python3"
  },
  "language_info": {
   "codemirror_mode": {
    "name": "ipython",
    "version": 3
   },
   "file_extension": ".py",
   "mimetype": "text/x-python",
   "name": "python",
   "nbconvert_exporter": "python",
   "pygments_lexer": "ipython3",
   "version": "3.12.7"
  }
 },
 "nbformat": 4,
 "nbformat_minor": 4
}
